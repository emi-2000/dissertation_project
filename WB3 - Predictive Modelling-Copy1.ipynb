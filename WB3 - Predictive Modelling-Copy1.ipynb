{
 "cells": [
  {
   "cell_type": "markdown",
   "id": "6ed1ba4e",
   "metadata": {},
   "source": [
    "# WB3 - Predictive Modelling"
   ]
  },
  {
   "cell_type": "markdown",
   "id": "5b03772a",
   "metadata": {},
   "source": [
    "## Table of Contents\n",
    "\n",
    "* [1. Import Libraries and Data](#Import)\n",
    "* [2. Data Preparatioin](#Preparation)\n",
    "    * [Standardisation](#Standardisation)\n",
    "    * [Outliers](#Outliers)\n",
    "    * [Encoding Categorical Variables](#Encoding)\n",
    "    * [Data Splitting](#Splitting)\n",
    "* [3. Linear Regression](#Linear)\n",
    "* [4. Regression Tree](#RegressionTree)\n",
    "* [5. Random Forest](#RandomForest)\n",
    "* [6. AdaBoost](#AdaBoost)\n",
    "* [7. Gradient Boosting Regression Trees (GBRT)](#GBRT)\n",
    "* [8. XGBoost](#XGBoost)\n",
    "* [9. Support Vector Regressor (SVR)](#SVR)\n",
    "* [10. Comparison of Initial Models](#Initial)\n",
    "* [11. Optimal Hyperparameters Found](#Hyperparameters)\n",
    "* [12. Comparison of Final Model Performances](#Final)\n",
    "* [13. Linear Regression Coefficients](#Coefficients)\n",
    "* [14. Feature Importance Analysis](#Feature)"
   ]
  },
  {
   "cell_type": "markdown",
   "id": "ee9c0dca",
   "metadata": {},
   "source": [
    "# 1. Import Libraries and Data<a class=\"anchor\" id=\"Import\"></a>"
   ]
  },
  {
   "cell_type": "markdown",
   "id": "11fc85b8",
   "metadata": {},
   "source": [
    "In this step, we import the necessary libraries and modules that will be used throughout the predictive modeling process. These libraries include NumPy, Pandas, Matplotlib, Seaborn, and various machine learning modules from Scikit-learn and Statsmodels. We also read the preprocessed data from the 'cleaned_data.csv' file into a Pandas DataFrame."
   ]
  },
  {
   "cell_type": "code",
   "execution_count": 1,
   "id": "6ec2ce3c",
   "metadata": {},
   "outputs": [],
   "source": [
    "# import necessary modules\n",
    "import numpy as np\n",
    "import pandas as pd\n",
    "import matplotlib.pyplot as plt\n",
    "import seaborn as sns\n",
    "from sklearn.preprocessing import LabelEncoder\n",
    "from sklearn.model_selection import train_test_split\n",
    "import scipy.stats as stats\n",
    "from scipy.stats import skew\n",
    "from scipy.stats import boxcox\n",
    "from sklearn.preprocessing import StandardScaler\n",
    "from statsmodels.stats.outliers_influence import variance_inflation_factor\n",
    "\n",
    "from sklearn.linear_model import LinearRegression\n",
    "from sklearn.tree import DecisionTreeRegressor\n",
    "from sklearn.ensemble import RandomForestRegressor\n",
    "from sklearn.ensemble import AdaBoostRegressor\n",
    "from sklearn.ensemble import GradientBoostingRegressor\n",
    "from xgboost import XGBRegressor\n",
    "from sklearn.svm import SVR\n",
    "\n",
    "\n",
    "from sklearn import tree\n",
    "from sklearn.model_selection import cross_val_score\n",
    "from sklearn.model_selection import cross_validate\n",
    "from sklearn.metrics import make_scorer, r2_score, mean_squared_error, mean_absolute_error\n",
    "\n",
    "from sklearn.linear_model import LassoCV\n",
    "from sklearn.feature_selection import SelectFromModel\n",
    "from statsmodels.stats.stattools import durbin_watson\n",
    "from statsmodels.stats.diagnostic import het_breuschpagan\n",
    "\n",
    "from sklearn.model_selection import GridSearchCV\n",
    "from sklearn.model_selection import RandomizedSearchCV\n",
    "\n",
    "from sklearn.inspection import permutation_importance"
   ]
  },
  {
   "cell_type": "markdown",
   "id": "9f7ac0a7",
   "metadata": {},
   "source": [
    "# 2. Data Preparation<a class=\"anchor\" id=\"Preparation\"></a>"
   ]
  },
  {
   "cell_type": "markdown",
   "id": "347c3f85",
   "metadata": {},
   "source": [
    "In this step, we perform data preparation tasks to ensure that the data is suitable for training and evaluating predictive models."
   ]
  },
  {
   "cell_type": "code",
   "execution_count": 2,
   "id": "d8d2541c",
   "metadata": {
    "scrolled": false
   },
   "outputs": [
    {
     "data": {
      "text/html": [
       "<div>\n",
       "<style scoped>\n",
       "    .dataframe tbody tr th:only-of-type {\n",
       "        vertical-align: middle;\n",
       "    }\n",
       "\n",
       "    .dataframe tbody tr th {\n",
       "        vertical-align: top;\n",
       "    }\n",
       "\n",
       "    .dataframe thead th {\n",
       "        text-align: right;\n",
       "    }\n",
       "</style>\n",
       "<table border=\"1\" class=\"dataframe\">\n",
       "  <thead>\n",
       "    <tr style=\"text-align: right;\">\n",
       "      <th></th>\n",
       "      <th>orderID</th>\n",
       "      <th>businessType</th>\n",
       "      <th>business_vs_Customer</th>\n",
       "      <th>numberOfPackages</th>\n",
       "      <th>estimatedDistance</th>\n",
       "      <th>timeInTransitInMinutes</th>\n",
       "      <th>totalOrderDurationInMinutes</th>\n",
       "      <th>confirmationTimeInMinutes</th>\n",
       "      <th>timeConfirmationToPickupInMinutes</th>\n",
       "      <th>collectionDurationInMinutes</th>\n",
       "      <th>...</th>\n",
       "      <th>numberOfDropoffs</th>\n",
       "      <th>grandTotalAmount(£)</th>\n",
       "      <th>co2SavedInKG</th>\n",
       "      <th>volume_category</th>\n",
       "      <th>Region</th>\n",
       "      <th>year</th>\n",
       "      <th>month</th>\n",
       "      <th>day</th>\n",
       "      <th>timeOfDay</th>\n",
       "      <th>Season</th>\n",
       "    </tr>\n",
       "  </thead>\n",
       "  <tbody>\n",
       "    <tr>\n",
       "      <th>0</th>\n",
       "      <td>1627</td>\n",
       "      <td>Pharmacy</td>\n",
       "      <td>business</td>\n",
       "      <td>1</td>\n",
       "      <td>3.0</td>\n",
       "      <td>15</td>\n",
       "      <td>119</td>\n",
       "      <td>75</td>\n",
       "      <td>28</td>\n",
       "      <td>0.0</td>\n",
       "      <td>...</td>\n",
       "      <td>1</td>\n",
       "      <td>8.09</td>\n",
       "      <td>0.684</td>\n",
       "      <td>Small</td>\n",
       "      <td>Kensington and Chelsea</td>\n",
       "      <td>2021</td>\n",
       "      <td>11</td>\n",
       "      <td>1</td>\n",
       "      <td>Afternoon</td>\n",
       "      <td>Autumn</td>\n",
       "    </tr>\n",
       "    <tr>\n",
       "      <th>1</th>\n",
       "      <td>1629</td>\n",
       "      <td>Pharmacy</td>\n",
       "      <td>business</td>\n",
       "      <td>1</td>\n",
       "      <td>3.0</td>\n",
       "      <td>14</td>\n",
       "      <td>58</td>\n",
       "      <td>2</td>\n",
       "      <td>40</td>\n",
       "      <td>0.0</td>\n",
       "      <td>...</td>\n",
       "      <td>1</td>\n",
       "      <td>12.12</td>\n",
       "      <td>0.684</td>\n",
       "      <td>Small</td>\n",
       "      <td>Kensington and Chelsea</td>\n",
       "      <td>2021</td>\n",
       "      <td>11</td>\n",
       "      <td>2</td>\n",
       "      <td>Afternoon</td>\n",
       "      <td>Autumn</td>\n",
       "    </tr>\n",
       "    <tr>\n",
       "      <th>2</th>\n",
       "      <td>1630</td>\n",
       "      <td>Pharmacy</td>\n",
       "      <td>business</td>\n",
       "      <td>1</td>\n",
       "      <td>3.9</td>\n",
       "      <td>33</td>\n",
       "      <td>106</td>\n",
       "      <td>1</td>\n",
       "      <td>25</td>\n",
       "      <td>0.0</td>\n",
       "      <td>...</td>\n",
       "      <td>1</td>\n",
       "      <td>9.59</td>\n",
       "      <td>0.889</td>\n",
       "      <td>Small</td>\n",
       "      <td>Hammersmith and Fulham</td>\n",
       "      <td>2021</td>\n",
       "      <td>11</td>\n",
       "      <td>2</td>\n",
       "      <td>Afternoon</td>\n",
       "      <td>Autumn</td>\n",
       "    </tr>\n",
       "    <tr>\n",
       "      <th>3</th>\n",
       "      <td>1631</td>\n",
       "      <td>Pharmacy</td>\n",
       "      <td>business</td>\n",
       "      <td>1</td>\n",
       "      <td>3.0</td>\n",
       "      <td>17</td>\n",
       "      <td>51</td>\n",
       "      <td>10</td>\n",
       "      <td>22</td>\n",
       "      <td>0.0</td>\n",
       "      <td>...</td>\n",
       "      <td>1</td>\n",
       "      <td>12.12</td>\n",
       "      <td>0.684</td>\n",
       "      <td>Small</td>\n",
       "      <td>Kensington and Chelsea</td>\n",
       "      <td>2021</td>\n",
       "      <td>11</td>\n",
       "      <td>2</td>\n",
       "      <td>Afternoon</td>\n",
       "      <td>Autumn</td>\n",
       "    </tr>\n",
       "    <tr>\n",
       "      <th>4</th>\n",
       "      <td>1632</td>\n",
       "      <td>Pharmacy</td>\n",
       "      <td>business</td>\n",
       "      <td>1</td>\n",
       "      <td>2.1</td>\n",
       "      <td>28</td>\n",
       "      <td>64</td>\n",
       "      <td>0</td>\n",
       "      <td>15</td>\n",
       "      <td>0.0</td>\n",
       "      <td>...</td>\n",
       "      <td>1</td>\n",
       "      <td>6.59</td>\n",
       "      <td>0.479</td>\n",
       "      <td>Small</td>\n",
       "      <td>Kensington and Chelsea</td>\n",
       "      <td>2021</td>\n",
       "      <td>11</td>\n",
       "      <td>2</td>\n",
       "      <td>Afternoon</td>\n",
       "      <td>Autumn</td>\n",
       "    </tr>\n",
       "  </tbody>\n",
       "</table>\n",
       "<p>5 rows × 24 columns</p>\n",
       "</div>"
      ],
      "text/plain": [
       "   orderID businessType business_vs_Customer  numberOfPackages  \\\n",
       "0     1627     Pharmacy             business                 1   \n",
       "1     1629     Pharmacy             business                 1   \n",
       "2     1630     Pharmacy             business                 1   \n",
       "3     1631     Pharmacy             business                 1   \n",
       "4     1632     Pharmacy             business                 1   \n",
       "\n",
       "   estimatedDistance  timeInTransitInMinutes  totalOrderDurationInMinutes  \\\n",
       "0                3.0                      15                          119   \n",
       "1                3.0                      14                           58   \n",
       "2                3.9                      33                          106   \n",
       "3                3.0                      17                           51   \n",
       "4                2.1                      28                           64   \n",
       "\n",
       "   confirmationTimeInMinutes  timeConfirmationToPickupInMinutes  \\\n",
       "0                         75                                 28   \n",
       "1                          2                                 40   \n",
       "2                          1                                 25   \n",
       "3                         10                                 22   \n",
       "4                          0                                 15   \n",
       "\n",
       "   collectionDurationInMinutes  ...  numberOfDropoffs  grandTotalAmount(£)  \\\n",
       "0                          0.0  ...                 1                 8.09   \n",
       "1                          0.0  ...                 1                12.12   \n",
       "2                          0.0  ...                 1                 9.59   \n",
       "3                          0.0  ...                 1                12.12   \n",
       "4                          0.0  ...                 1                 6.59   \n",
       "\n",
       "   co2SavedInKG  volume_category                  Region  year  month day  \\\n",
       "0         0.684            Small  Kensington and Chelsea  2021     11   1   \n",
       "1         0.684            Small  Kensington and Chelsea  2021     11   2   \n",
       "2         0.889            Small  Hammersmith and Fulham  2021     11   2   \n",
       "3         0.684            Small  Kensington and Chelsea  2021     11   2   \n",
       "4         0.479            Small  Kensington and Chelsea  2021     11   2   \n",
       "\n",
       "   timeOfDay  Season  \n",
       "0  Afternoon  Autumn  \n",
       "1  Afternoon  Autumn  \n",
       "2  Afternoon  Autumn  \n",
       "3  Afternoon  Autumn  \n",
       "4  Afternoon  Autumn  \n",
       "\n",
       "[5 rows x 24 columns]"
      ]
     },
     "execution_count": 2,
     "metadata": {},
     "output_type": "execute_result"
    }
   ],
   "source": [
    "# Load the data from the CSV file\n",
    "df = pd.read_csv('cleaned_data.csv')\n",
    "\n",
    "# Show the first 5 rows of the DataFrame to confirm it was loaded correctly\n",
    "df.head()"
   ]
  },
  {
   "cell_type": "code",
   "execution_count": 3,
   "id": "057ee811",
   "metadata": {
    "scrolled": true
   },
   "outputs": [
    {
     "data": {
      "text/plain": [
       "Index(['orderID', 'businessType', 'business_vs_Customer', 'numberOfPackages',\n",
       "       'estimatedDistance', 'timeInTransitInMinutes',\n",
       "       'totalOrderDurationInMinutes', 'confirmationTimeInMinutes',\n",
       "       'timeConfirmationToPickupInMinutes', 'collectionDurationInMinutes',\n",
       "       'vehicleEfficiency', 'isExpressDelivery', 'isMultidropCourierOrder',\n",
       "       'numberOfReturns', 'numberOfDropoffs', 'grandTotalAmount(£)',\n",
       "       'co2SavedInKG', 'volume_category', 'Region', 'year', 'month', 'day',\n",
       "       'timeOfDay', 'Season'],\n",
       "      dtype='object')"
      ]
     },
     "execution_count": 3,
     "metadata": {},
     "output_type": "execute_result"
    }
   ],
   "source": [
    "df.columns"
   ]
  },
  {
   "cell_type": "markdown",
   "id": "fc529195",
   "metadata": {},
   "source": [
    "## Standardisation<a class=\"anchor\" id=\"Standardisation\"></a>"
   ]
  },
  {
   "cell_type": "markdown",
   "id": "06700178",
   "metadata": {},
   "source": [
    "Some models, especially linear regression and SVR, are known to be sensitive to feature scaling. Having different scales can namely cause data points to be dominated by features with larger scales, potentially leading to biased and inaccurate results. Therefore, standardising the data is vital to ensure that all features contribute equally to the models and prevent any feature from dominating the learning process. This study used the StandardScaler object to scale each feature with a mean value centred around zero and a standard deviation of one. Subsequently, this can help the models to converge faster and improve their performances."
   ]
  },
  {
   "cell_type": "code",
   "execution_count": 4,
   "id": "be75cc43",
   "metadata": {},
   "outputs": [],
   "source": [
    "# Select the numerical columns to standardize\n",
    "numerical_columns = ['numberOfPackages', 'estimatedDistance', 'timeInTransitInMinutes', \n",
    "                     'totalOrderDurationInMinutes', 'confirmationTimeInMinutes', \n",
    "                     'timeConfirmationToPickupInMinutes', 'collectionDurationInMinutes', \n",
    "                     'vehicleEfficiency', 'numberOfReturns', 'numberOfDropoffs', 'grandTotalAmount(£)','co2SavedInKG'\n",
    "                     ]\n",
    "\n",
    "# Create a StandardScaler object\n",
    "scaler = StandardScaler()\n",
    "\n",
    "# Standardize the selected columns\n",
    "df[numerical_columns] = scaler.fit_transform(df[numerical_columns])"
   ]
  },
  {
   "cell_type": "markdown",
   "id": "823b3ce9",
   "metadata": {},
   "source": [
    "## Outliers <a class=\"anchor\" id=\"Outliers\"></a>"
   ]
  },
  {
   "cell_type": "markdown",
   "id": "9831b004",
   "metadata": {},
   "source": [
    "Outliers are data points that significantly differ from other data points in the dataset. Outliers can adversely affect the performance of some machine learning algorithms. To detect and handle outliers, we perform the following steps:\n",
    "- First, we create box plots for each numerical column to visualize the distribution and identify potential outliers.\n",
    "- Next, we calculate the z-scores for each numerical column. Z-scores measure how many standard deviations away from the mean each data point is. We then set a threshold of 3 to determine if a data point is an outlier (i.e., its z-score is above the threshold).\n",
    "- Finally, we remove the outliers from the DataFrame to ensure that the models are not influenced by extreme values."
   ]
  },
  {
   "cell_type": "code",
   "execution_count": 5,
   "id": "98dcd2fe",
   "metadata": {},
   "outputs": [
    {
     "data": {
      "image/png": "[encoded data removed]",
      "text/plain": [
       "<Figure size 1200x600 with 1 Axes>"
      ]
     },
     "metadata": {},
     "output_type": "display_data"
    }
   ],
   "source": [
    "# Select the numerical columns\n",
    "numerical_columns = ['numberOfPackages', 'estimatedDistance', 'timeInTransitInMinutes', \n",
    "                     'totalOrderDurationInMinutes', 'confirmationTimeInMinutes', \n",
    "                     'timeConfirmationToPickupInMinutes', 'collectionDurationInMinutes', \n",
    "                     'vehicleEfficiency', 'numberOfReturns', 'numberOfDropoffs', 'grandTotalAmount(£)','co2SavedInKG'\n",
    "                     ]\n",
    "\n",
    "# Create a box plot for each numerical column\n",
    "plt.figure(figsize=(12, 6))\n",
    "sns.boxplot(data=df[numerical_columns])\n",
    "plt.xticks(rotation=45)\n",
    "plt.xlabel('Columns')\n",
    "plt.ylabel('Values')\n",
    "plt.title('Box Plot of Numerical Columns')\n",
    "plt.show()"
   ]
  },
  {
   "cell_type": "code",
   "execution_count": 6,
   "id": "5f2eb2a5",
   "metadata": {},
   "outputs": [
    {
     "name": "stdout",
     "output_type": "stream",
     "text": [
      "Number of outliers in numberOfPackages: 43\n",
      "Number of outliers in estimatedDistance: 51\n",
      "Number of outliers in timeInTransitInMinutes: 40\n",
      "Number of outliers in totalOrderDurationInMinutes: 0\n",
      "Number of outliers in confirmationTimeInMinutes: 63\n",
      "Number of outliers in timeConfirmationToPickupInMinutes: 20\n",
      "Number of outliers in collectionDurationInMinutes: 28\n",
      "Number of outliers in vehicleEfficiency: 44\n",
      "Number of outliers in numberOfReturns: 44\n",
      "Number of outliers in numberOfDropoffs: 31\n",
      "Number of outliers in grandTotalAmount(£): 37\n",
      "Number of outliers in co2SavedInKG: 51\n"
     ]
    }
   ],
   "source": [
    "# Select the numerical columns\n",
    "numerical_columns = ['numberOfPackages', 'estimatedDistance', 'timeInTransitInMinutes', \n",
    "                     'totalOrderDurationInMinutes', 'confirmationTimeInMinutes', \n",
    "                     'timeConfirmationToPickupInMinutes', 'collectionDurationInMinutes', \n",
    "                     'vehicleEfficiency', 'numberOfReturns', 'numberOfDropoffs', 'grandTotalAmount(£)','co2SavedInKG'\n",
    "                    ]\n",
    "\n",
    "# Calculate the z-scores for each numerical column\n",
    "z_scores = stats.zscore(df[numerical_columns])\n",
    "\n",
    "# Set a threshold for outlier detection\n",
    "threshold = 3\n",
    "\n",
    "# Find the number of outliers per variable\n",
    "outlier_counts = (z_scores > threshold).sum(axis=0)\n",
    "\n",
    "# Print the number of outliers per variable\n",
    "for column, count in zip(numerical_columns, outlier_counts):\n",
    "    print(f\"Number of outliers in {column}: {count}\")"
   ]
  },
  {
   "cell_type": "code",
   "execution_count": 7,
   "id": "702d60a7",
   "metadata": {},
   "outputs": [],
   "source": [
    "# Remove the outliers from the DataFrame\n",
    "outlier_indices = (z_scores > threshold).any(axis=1)\n",
    "df = df[~outlier_indices]"
   ]
  },
  {
   "cell_type": "code",
   "execution_count": 8,
   "id": "16a94a9d",
   "metadata": {
    "scrolled": true
   },
   "outputs": [
    {
     "data": {
      "text/plain": [
       "(1911, 24)"
      ]
     },
     "execution_count": 8,
     "metadata": {},
     "output_type": "execute_result"
    }
   ],
   "source": [
    "df.shape"
   ]
  },
  {
   "cell_type": "markdown",
   "id": "27df2a3e",
   "metadata": {},
   "source": [
    "## Encoding Categorical Variables<a class=\"anchor\" id=\"Encoding\"></a>"
   ]
  },
  {
   "cell_type": "markdown",
   "id": "149d286f",
   "metadata": {},
   "source": [
    "Based on the data above, all the categorical can be encoded for the predictive models. These variables represent different categories or labels rather than numerical values. Encoding them will allow the models to process and interpret the categorical information effectively."
   ]
  },
  {
   "cell_type": "markdown",
   "id": "49fb08bf",
   "metadata": {},
   "source": [
    "**isExpressDelivery and isMultidropCourierOrder**"
   ]
  },
  {
   "cell_type": "markdown",
   "id": "a27c6b03",
   "metadata": {},
   "source": [
    "As these two variables only have 0 or 1 values, they already are binary variables, with values of 0 and 1 indicating 'no' and 'yes', respectively."
   ]
  },
  {
   "cell_type": "code",
   "execution_count": 9,
   "id": "b8610b72",
   "metadata": {
    "scrolled": true
   },
   "outputs": [
    {
     "name": "stdout",
     "output_type": "stream",
     "text": [
      "isExpressDelivery:\n",
      " 0.0    1841\n",
      "1.0      70\n",
      "Name: isExpressDelivery, dtype: int64\n",
      "isMultidropCourierOrder:\n",
      " 0    1077\n",
      "1     834\n",
      "Name: isMultidropCourierOrder, dtype: int64\n"
     ]
    }
   ],
   "source": [
    "# count the number of values\n",
    "count = df['isExpressDelivery'].value_counts()\n",
    "count2 = df['isMultidropCourierOrder'].value_counts()\n",
    "\n",
    "print(\"isExpressDelivery:\\n\", count)\n",
    "print(\"isMultidropCourierOrder:\\n\", count2)"
   ]
  },
  {
   "cell_type": "code",
   "execution_count": 10,
   "id": "82398f81",
   "metadata": {},
   "outputs": [],
   "source": [
    "# Convert the isExpressDelivery column to numeric format\n",
    "df['isExpressDelivery'] = pd.to_numeric(df['isExpressDelivery'], errors='coerce')\n",
    "\n",
    "# Convert the isExpressDelivery column to integer type\n",
    "df['isExpressDelivery'] = df['isExpressDelivery'].astype(int)"
   ]
  },
  {
   "cell_type": "code",
   "execution_count": 11,
   "id": "d27e8ac3",
   "metadata": {},
   "outputs": [
    {
     "data": {
      "text/html": [
       "<div>\n",
       "<style scoped>\n",
       "    .dataframe tbody tr th:only-of-type {\n",
       "        vertical-align: middle;\n",
       "    }\n",
       "\n",
       "    .dataframe tbody tr th {\n",
       "        vertical-align: top;\n",
       "    }\n",
       "\n",
       "    .dataframe thead th {\n",
       "        text-align: right;\n",
       "    }\n",
       "</style>\n",
       "<table border=\"1\" class=\"dataframe\">\n",
       "  <thead>\n",
       "    <tr style=\"text-align: right;\">\n",
       "      <th></th>\n",
       "      <th>orderID</th>\n",
       "      <th>businessType</th>\n",
       "      <th>business_vs_Customer</th>\n",
       "      <th>numberOfPackages</th>\n",
       "      <th>estimatedDistance</th>\n",
       "      <th>timeInTransitInMinutes</th>\n",
       "      <th>totalOrderDurationInMinutes</th>\n",
       "      <th>confirmationTimeInMinutes</th>\n",
       "      <th>timeConfirmationToPickupInMinutes</th>\n",
       "      <th>collectionDurationInMinutes</th>\n",
       "      <th>...</th>\n",
       "      <th>numberOfDropoffs</th>\n",
       "      <th>grandTotalAmount(£)</th>\n",
       "      <th>co2SavedInKG</th>\n",
       "      <th>volume_category</th>\n",
       "      <th>Region</th>\n",
       "      <th>year</th>\n",
       "      <th>month</th>\n",
       "      <th>day</th>\n",
       "      <th>timeOfDay</th>\n",
       "      <th>Season</th>\n",
       "    </tr>\n",
       "  </thead>\n",
       "  <tbody>\n",
       "    <tr>\n",
       "      <th>1</th>\n",
       "      <td>1629</td>\n",
       "      <td>Pharmacy</td>\n",
       "      <td>business</td>\n",
       "      <td>-0.658007</td>\n",
       "      <td>-0.441662</td>\n",
       "      <td>-0.809594</td>\n",
       "      <td>-1.099583</td>\n",
       "      <td>-0.400520</td>\n",
       "      <td>-0.615017</td>\n",
       "      <td>-0.354842</td>\n",
       "      <td>...</td>\n",
       "      <td>-0.664186</td>\n",
       "      <td>-0.533208</td>\n",
       "      <td>-0.441715</td>\n",
       "      <td>Small</td>\n",
       "      <td>Kensington and Chelsea</td>\n",
       "      <td>2021</td>\n",
       "      <td>11</td>\n",
       "      <td>2</td>\n",
       "      <td>Afternoon</td>\n",
       "      <td>Autumn</td>\n",
       "    </tr>\n",
       "    <tr>\n",
       "      <th>2</th>\n",
       "      <td>1630</td>\n",
       "      <td>Pharmacy</td>\n",
       "      <td>business</td>\n",
       "      <td>-0.658007</td>\n",
       "      <td>-0.341695</td>\n",
       "      <td>-0.430161</td>\n",
       "      <td>-0.534299</td>\n",
       "      <td>-0.454031</td>\n",
       "      <td>-0.852612</td>\n",
       "      <td>-0.354842</td>\n",
       "      <td>...</td>\n",
       "      <td>-0.664186</td>\n",
       "      <td>-0.609817</td>\n",
       "      <td>-0.341933</td>\n",
       "      <td>Small</td>\n",
       "      <td>Hammersmith and Fulham</td>\n",
       "      <td>2021</td>\n",
       "      <td>11</td>\n",
       "      <td>2</td>\n",
       "      <td>Afternoon</td>\n",
       "      <td>Autumn</td>\n",
       "    </tr>\n",
       "    <tr>\n",
       "      <th>3</th>\n",
       "      <td>1631</td>\n",
       "      <td>Pharmacy</td>\n",
       "      <td>business</td>\n",
       "      <td>-0.658007</td>\n",
       "      <td>-0.441662</td>\n",
       "      <td>-0.749684</td>\n",
       "      <td>-1.182020</td>\n",
       "      <td>0.027570</td>\n",
       "      <td>-0.900131</td>\n",
       "      <td>-0.354842</td>\n",
       "      <td>...</td>\n",
       "      <td>-0.664186</td>\n",
       "      <td>-0.533208</td>\n",
       "      <td>-0.441715</td>\n",
       "      <td>Small</td>\n",
       "      <td>Kensington and Chelsea</td>\n",
       "      <td>2021</td>\n",
       "      <td>11</td>\n",
       "      <td>2</td>\n",
       "      <td>Afternoon</td>\n",
       "      <td>Autumn</td>\n",
       "    </tr>\n",
       "    <tr>\n",
       "      <th>4</th>\n",
       "      <td>1632</td>\n",
       "      <td>Pharmacy</td>\n",
       "      <td>business</td>\n",
       "      <td>-0.658007</td>\n",
       "      <td>-0.541629</td>\n",
       "      <td>-0.530012</td>\n",
       "      <td>-1.028922</td>\n",
       "      <td>-0.507543</td>\n",
       "      <td>-1.011008</td>\n",
       "      <td>-0.354842</td>\n",
       "      <td>...</td>\n",
       "      <td>-0.664186</td>\n",
       "      <td>-0.700658</td>\n",
       "      <td>-0.541498</td>\n",
       "      <td>Small</td>\n",
       "      <td>Kensington and Chelsea</td>\n",
       "      <td>2021</td>\n",
       "      <td>11</td>\n",
       "      <td>2</td>\n",
       "      <td>Afternoon</td>\n",
       "      <td>Autumn</td>\n",
       "    </tr>\n",
       "    <tr>\n",
       "      <th>5</th>\n",
       "      <td>1633</td>\n",
       "      <td>Pharmacy</td>\n",
       "      <td>business</td>\n",
       "      <td>-0.658007</td>\n",
       "      <td>-0.597166</td>\n",
       "      <td>-0.949385</td>\n",
       "      <td>0.478502</td>\n",
       "      <td>-0.454031</td>\n",
       "      <td>1.650047</td>\n",
       "      <td>-0.354842</td>\n",
       "      <td>...</td>\n",
       "      <td>-0.664186</td>\n",
       "      <td>-0.664321</td>\n",
       "      <td>-0.596986</td>\n",
       "      <td>Medium</td>\n",
       "      <td>Lambeth</td>\n",
       "      <td>2021</td>\n",
       "      <td>11</td>\n",
       "      <td>3</td>\n",
       "      <td>Morning</td>\n",
       "      <td>Autumn</td>\n",
       "    </tr>\n",
       "  </tbody>\n",
       "</table>\n",
       "<p>5 rows × 24 columns</p>\n",
       "</div>"
      ],
      "text/plain": [
       "   orderID businessType business_vs_Customer  numberOfPackages  \\\n",
       "1     1629     Pharmacy             business         -0.658007   \n",
       "2     1630     Pharmacy             business         -0.658007   \n",
       "3     1631     Pharmacy             business         -0.658007   \n",
       "4     1632     Pharmacy             business         -0.658007   \n",
       "5     1633     Pharmacy             business         -0.658007   \n",
       "\n",
       "   estimatedDistance  timeInTransitInMinutes  totalOrderDurationInMinutes  \\\n",
       "1          -0.441662               -0.809594                    -1.099583   \n",
       "2          -0.341695               -0.430161                    -0.534299   \n",
       "3          -0.441662               -0.749684                    -1.182020   \n",
       "4          -0.541629               -0.530012                    -1.028922   \n",
       "5          -0.597166               -0.949385                     0.478502   \n",
       "\n",
       "   confirmationTimeInMinutes  timeConfirmationToPickupInMinutes  \\\n",
       "1                  -0.400520                          -0.615017   \n",
       "2                  -0.454031                          -0.852612   \n",
       "3                   0.027570                          -0.900131   \n",
       "4                  -0.507543                          -1.011008   \n",
       "5                  -0.454031                           1.650047   \n",
       "\n",
       "   collectionDurationInMinutes  ...  numberOfDropoffs  grandTotalAmount(£)  \\\n",
       "1                    -0.354842  ...         -0.664186            -0.533208   \n",
       "2                    -0.354842  ...         -0.664186            -0.609817   \n",
       "3                    -0.354842  ...         -0.664186            -0.533208   \n",
       "4                    -0.354842  ...         -0.664186            -0.700658   \n",
       "5                    -0.354842  ...         -0.664186            -0.664321   \n",
       "\n",
       "   co2SavedInKG  volume_category                  Region  year  month day  \\\n",
       "1     -0.441715            Small  Kensington and Chelsea  2021     11   2   \n",
       "2     -0.341933            Small  Hammersmith and Fulham  2021     11   2   \n",
       "3     -0.441715            Small  Kensington and Chelsea  2021     11   2   \n",
       "4     -0.541498            Small  Kensington and Chelsea  2021     11   2   \n",
       "5     -0.596986           Medium                 Lambeth  2021     11   3   \n",
       "\n",
       "   timeOfDay  Season  \n",
       "1  Afternoon  Autumn  \n",
       "2  Afternoon  Autumn  \n",
       "3  Afternoon  Autumn  \n",
       "4  Afternoon  Autumn  \n",
       "5    Morning  Autumn  \n",
       "\n",
       "[5 rows x 24 columns]"
      ]
     },
     "execution_count": 11,
     "metadata": {},
     "output_type": "execute_result"
    }
   ],
   "source": [
    "df.head()"
   ]
  },
  {
   "cell_type": "markdown",
   "id": "ff44a757",
   "metadata": {},
   "source": [
    "**Region, business_vs_Customer, volume_category, businessType, Season and timeOfDay** "
   ]
  },
  {
   "cell_type": "markdown",
   "id": "a69a2084",
   "metadata": {},
   "source": [
    "In this step, we perform one-hot encoding on the categorical variables to convert them into a format suitable for the predictive models. One-hot encoding is used for categorical variables that have multiple categories or labels. It creates binary columns for each category, where a value of 1 indicates the presence of that category, and 0 indicates absence."
   ]
  },
  {
   "cell_type": "code",
   "execution_count": 12,
   "id": "f98a76ca",
   "metadata": {},
   "outputs": [],
   "source": [
    "# Perform one-hot encoding on the columns\n",
    "encoded_regions = pd.get_dummies(df['Region'], prefix='Region')\n",
    "encoded_business_type = pd.get_dummies(df['businessType'], prefix='businessType')\n",
    "encoded_business_vs_customer = pd.get_dummies(df['business_vs_Customer'], prefix='business_vs_Customer')\n",
    "encoded_volume_category = pd.get_dummies(df['volume_category'], prefix='volume_category')\n",
    "encoded_seasons = pd.get_dummies(df['Season'], prefix='Season')\n",
    "encoded_timeofday = pd.get_dummies(df['timeOfDay'], prefix='timeOfDay')\n",
    "\n",
    "# Concatenate the encoded back to the original DataFrame\n",
    "df = pd.concat([df, encoded_regions], axis=1)\n",
    "df = pd.concat([df, encoded_business_type], axis=1)\n",
    "df = pd.concat([df, encoded_business_vs_customer], axis=1)\n",
    "df = pd.concat([df, encoded_volume_category], axis=1)\n",
    "df = pd.concat([df, encoded_seasons], axis=1)\n",
    "df = pd.concat([df, encoded_timeofday], axis=1)\n",
    "\n",
    "\n",
    "# Remove the original columns\n",
    "df.drop('Region', axis=1, inplace=True)\n",
    "df.drop('businessType', axis=1, inplace=True)\n",
    "df.drop('business_vs_Customer', axis=1, inplace=True)\n",
    "df.drop('volume_category', axis=1, inplace=True)\n",
    "df.drop('Season', axis=1, inplace=True)\n",
    "df.drop('timeOfDay', axis=1, inplace=True)"
   ]
  },
  {
   "cell_type": "code",
   "execution_count": 13,
   "id": "dc330558",
   "metadata": {
    "scrolled": true
   },
   "outputs": [
    {
     "data": {
      "text/html": [
       "<div>\n",
       "<style scoped>\n",
       "    .dataframe tbody tr th:only-of-type {\n",
       "        vertical-align: middle;\n",
       "    }\n",
       "\n",
       "    .dataframe tbody tr th {\n",
       "        vertical-align: top;\n",
       "    }\n",
       "\n",
       "    .dataframe thead th {\n",
       "        text-align: right;\n",
       "    }\n",
       "</style>\n",
       "<table border=\"1\" class=\"dataframe\">\n",
       "  <thead>\n",
       "    <tr style=\"text-align: right;\">\n",
       "      <th></th>\n",
       "      <th>orderID</th>\n",
       "      <th>numberOfPackages</th>\n",
       "      <th>estimatedDistance</th>\n",
       "      <th>timeInTransitInMinutes</th>\n",
       "      <th>totalOrderDurationInMinutes</th>\n",
       "      <th>confirmationTimeInMinutes</th>\n",
       "      <th>timeConfirmationToPickupInMinutes</th>\n",
       "      <th>collectionDurationInMinutes</th>\n",
       "      <th>vehicleEfficiency</th>\n",
       "      <th>isExpressDelivery</th>\n",
       "      <th>...</th>\n",
       "      <th>volume_category_Medium</th>\n",
       "      <th>volume_category_Other</th>\n",
       "      <th>volume_category_Small</th>\n",
       "      <th>Season_Autumn</th>\n",
       "      <th>Season_Spring</th>\n",
       "      <th>Season_Summer</th>\n",
       "      <th>Season_Winter</th>\n",
       "      <th>timeOfDay_Afternoon</th>\n",
       "      <th>timeOfDay_Evening</th>\n",
       "      <th>timeOfDay_Morning</th>\n",
       "    </tr>\n",
       "  </thead>\n",
       "  <tbody>\n",
       "    <tr>\n",
       "      <th>1</th>\n",
       "      <td>1629</td>\n",
       "      <td>-0.658007</td>\n",
       "      <td>-0.441662</td>\n",
       "      <td>-0.809594</td>\n",
       "      <td>-1.099583</td>\n",
       "      <td>-0.400520</td>\n",
       "      <td>-0.615017</td>\n",
       "      <td>-0.354842</td>\n",
       "      <td>-0.396045</td>\n",
       "      <td>1</td>\n",
       "      <td>...</td>\n",
       "      <td>0</td>\n",
       "      <td>0</td>\n",
       "      <td>1</td>\n",
       "      <td>1</td>\n",
       "      <td>0</td>\n",
       "      <td>0</td>\n",
       "      <td>0</td>\n",
       "      <td>1</td>\n",
       "      <td>0</td>\n",
       "      <td>0</td>\n",
       "    </tr>\n",
       "    <tr>\n",
       "      <th>2</th>\n",
       "      <td>1630</td>\n",
       "      <td>-0.658007</td>\n",
       "      <td>-0.341695</td>\n",
       "      <td>-0.430161</td>\n",
       "      <td>-0.534299</td>\n",
       "      <td>-0.454031</td>\n",
       "      <td>-0.852612</td>\n",
       "      <td>-0.354842</td>\n",
       "      <td>0.634115</td>\n",
       "      <td>0</td>\n",
       "      <td>...</td>\n",
       "      <td>0</td>\n",
       "      <td>0</td>\n",
       "      <td>1</td>\n",
       "      <td>1</td>\n",
       "      <td>0</td>\n",
       "      <td>0</td>\n",
       "      <td>0</td>\n",
       "      <td>1</td>\n",
       "      <td>0</td>\n",
       "      <td>0</td>\n",
       "    </tr>\n",
       "    <tr>\n",
       "      <th>3</th>\n",
       "      <td>1631</td>\n",
       "      <td>-0.658007</td>\n",
       "      <td>-0.441662</td>\n",
       "      <td>-0.749684</td>\n",
       "      <td>-1.182020</td>\n",
       "      <td>0.027570</td>\n",
       "      <td>-0.900131</td>\n",
       "      <td>-0.354842</td>\n",
       "      <td>-0.346990</td>\n",
       "      <td>1</td>\n",
       "      <td>...</td>\n",
       "      <td>0</td>\n",
       "      <td>0</td>\n",
       "      <td>1</td>\n",
       "      <td>1</td>\n",
       "      <td>0</td>\n",
       "      <td>0</td>\n",
       "      <td>0</td>\n",
       "      <td>1</td>\n",
       "      <td>0</td>\n",
       "      <td>0</td>\n",
       "    </tr>\n",
       "    <tr>\n",
       "      <th>4</th>\n",
       "      <td>1632</td>\n",
       "      <td>-0.658007</td>\n",
       "      <td>-0.541629</td>\n",
       "      <td>-0.530012</td>\n",
       "      <td>-1.028922</td>\n",
       "      <td>-0.507543</td>\n",
       "      <td>-1.011008</td>\n",
       "      <td>-0.354842</td>\n",
       "      <td>0.143564</td>\n",
       "      <td>0</td>\n",
       "      <td>...</td>\n",
       "      <td>0</td>\n",
       "      <td>0</td>\n",
       "      <td>1</td>\n",
       "      <td>1</td>\n",
       "      <td>0</td>\n",
       "      <td>0</td>\n",
       "      <td>0</td>\n",
       "      <td>1</td>\n",
       "      <td>0</td>\n",
       "      <td>0</td>\n",
       "    </tr>\n",
       "    <tr>\n",
       "      <th>5</th>\n",
       "      <td>1633</td>\n",
       "      <td>-0.658007</td>\n",
       "      <td>-0.597166</td>\n",
       "      <td>-0.949385</td>\n",
       "      <td>0.478502</td>\n",
       "      <td>-0.454031</td>\n",
       "      <td>1.650047</td>\n",
       "      <td>-0.354842</td>\n",
       "      <td>-0.460194</td>\n",
       "      <td>0</td>\n",
       "      <td>...</td>\n",
       "      <td>1</td>\n",
       "      <td>0</td>\n",
       "      <td>0</td>\n",
       "      <td>1</td>\n",
       "      <td>0</td>\n",
       "      <td>0</td>\n",
       "      <td>0</td>\n",
       "      <td>0</td>\n",
       "      <td>0</td>\n",
       "      <td>1</td>\n",
       "    </tr>\n",
       "  </tbody>\n",
       "</table>\n",
       "<p>5 rows × 44 columns</p>\n",
       "</div>"
      ],
      "text/plain": [
       "   orderID  numberOfPackages  estimatedDistance  timeInTransitInMinutes  \\\n",
       "1     1629         -0.658007          -0.441662               -0.809594   \n",
       "2     1630         -0.658007          -0.341695               -0.430161   \n",
       "3     1631         -0.658007          -0.441662               -0.749684   \n",
       "4     1632         -0.658007          -0.541629               -0.530012   \n",
       "5     1633         -0.658007          -0.597166               -0.949385   \n",
       "\n",
       "   totalOrderDurationInMinutes  confirmationTimeInMinutes  \\\n",
       "1                    -1.099583                  -0.400520   \n",
       "2                    -0.534299                  -0.454031   \n",
       "3                    -1.182020                   0.027570   \n",
       "4                    -1.028922                  -0.507543   \n",
       "5                     0.478502                  -0.454031   \n",
       "\n",
       "   timeConfirmationToPickupInMinutes  collectionDurationInMinutes  \\\n",
       "1                          -0.615017                    -0.354842   \n",
       "2                          -0.852612                    -0.354842   \n",
       "3                          -0.900131                    -0.354842   \n",
       "4                          -1.011008                    -0.354842   \n",
       "5                           1.650047                    -0.354842   \n",
       "\n",
       "   vehicleEfficiency  isExpressDelivery  ...  volume_category_Medium  \\\n",
       "1          -0.396045                  1  ...                       0   \n",
       "2           0.634115                  0  ...                       0   \n",
       "3          -0.346990                  1  ...                       0   \n",
       "4           0.143564                  0  ...                       0   \n",
       "5          -0.460194                  0  ...                       1   \n",
       "\n",
       "   volume_category_Other  volume_category_Small  Season_Autumn  Season_Spring  \\\n",
       "1                      0                      1              1              0   \n",
       "2                      0                      1              1              0   \n",
       "3                      0                      1              1              0   \n",
       "4                      0                      1              1              0   \n",
       "5                      0                      0              1              0   \n",
       "\n",
       "   Season_Summer  Season_Winter  timeOfDay_Afternoon  timeOfDay_Evening  \\\n",
       "1              0              0                    1                  0   \n",
       "2              0              0                    1                  0   \n",
       "3              0              0                    1                  0   \n",
       "4              0              0                    1                  0   \n",
       "5              0              0                    0                  0   \n",
       "\n",
       "   timeOfDay_Morning  \n",
       "1                  0  \n",
       "2                  0  \n",
       "3                  0  \n",
       "4                  0  \n",
       "5                  1  \n",
       "\n",
       "[5 rows x 44 columns]"
      ]
     },
     "execution_count": 13,
     "metadata": {},
     "output_type": "execute_result"
    }
   ],
   "source": [
    "df.head()"
   ]
  },
  {
   "cell_type": "code",
   "execution_count": 14,
   "id": "cd42e35d",
   "metadata": {
    "scrolled": true
   },
   "outputs": [
    {
     "name": "stdout",
     "output_type": "stream",
     "text": [
      "<class 'pandas.core.frame.DataFrame'>\n",
      "Int64Index: 1911 entries, 1 to 2200\n",
      "Data columns (total 44 columns):\n",
      " #   Column                             Non-Null Count  Dtype  \n",
      "---  ------                             --------------  -----  \n",
      " 0   orderID                            1911 non-null   int64  \n",
      " 1   numberOfPackages                   1911 non-null   float64\n",
      " 2   estimatedDistance                  1911 non-null   float64\n",
      " 3   timeInTransitInMinutes             1911 non-null   float64\n",
      " 4   totalOrderDurationInMinutes        1911 non-null   float64\n",
      " 5   confirmationTimeInMinutes          1911 non-null   float64\n",
      " 6   timeConfirmationToPickupInMinutes  1911 non-null   float64\n",
      " 7   collectionDurationInMinutes        1911 non-null   float64\n",
      " 8   vehicleEfficiency                  1911 non-null   float64\n",
      " 9   isExpressDelivery                  1911 non-null   int64  \n",
      " 10  isMultidropCourierOrder            1911 non-null   int64  \n",
      " 11  numberOfReturns                    1911 non-null   float64\n",
      " 12  numberOfDropoffs                   1911 non-null   float64\n",
      " 13  grandTotalAmount(£)                1911 non-null   float64\n",
      " 14  co2SavedInKG                       1911 non-null   float64\n",
      " 15  year                               1911 non-null   int64  \n",
      " 16  month                              1911 non-null   int64  \n",
      " 17  day                                1911 non-null   int64  \n",
      " 18  Region_Hammersmith and Fulham      1911 non-null   uint8  \n",
      " 19  Region_Islington                   1911 non-null   uint8  \n",
      " 20  Region_Kensington and Chelsea      1911 non-null   uint8  \n",
      " 21  Region_Lambeth                     1911 non-null   uint8  \n",
      " 22  Region_Merton                      1911 non-null   uint8  \n",
      " 23  Region_Southwark                   1911 non-null   uint8  \n",
      " 24  Region_Wandsworth                  1911 non-null   uint8  \n",
      " 25  Region_Westminster                 1911 non-null   uint8  \n",
      " 26  businessType_Florist               1911 non-null   uint8  \n",
      " 27  businessType_Grocery store         1911 non-null   uint8  \n",
      " 28  businessType_Other                 1911 non-null   uint8  \n",
      " 29  businessType_Pharmacy              1911 non-null   uint8  \n",
      " 30  businessType_Retailer              1911 non-null   uint8  \n",
      " 31  business_vs_Customer_business      1911 non-null   uint8  \n",
      " 32  business_vs_Customer_customer      1911 non-null   uint8  \n",
      " 33  business_vs_Customer_other         1911 non-null   uint8  \n",
      " 34  volume_category_Medium             1911 non-null   uint8  \n",
      " 35  volume_category_Other              1911 non-null   uint8  \n",
      " 36  volume_category_Small              1911 non-null   uint8  \n",
      " 37  Season_Autumn                      1911 non-null   uint8  \n",
      " 38  Season_Spring                      1911 non-null   uint8  \n",
      " 39  Season_Summer                      1911 non-null   uint8  \n",
      " 40  Season_Winter                      1911 non-null   uint8  \n",
      " 41  timeOfDay_Afternoon                1911 non-null   uint8  \n",
      " 42  timeOfDay_Evening                  1911 non-null   uint8  \n",
      " 43  timeOfDay_Morning                  1911 non-null   uint8  \n",
      "dtypes: float64(12), int64(6), uint8(26)\n",
      "memory usage: 332.2 KB\n"
     ]
    }
   ],
   "source": [
    "df.info()"
   ]
  },
  {
   "cell_type": "markdown",
   "id": "d060ad8b",
   "metadata": {},
   "source": [
    "## Data Splitting<a class=\"anchor\" id=\"Splitting\"></a>"
   ]
  },
  {
   "cell_type": "markdown",
   "id": "d8f049e2",
   "metadata": {},
   "source": [
    "In this step, we split the data into training and testing sets. The training set is used to train the predictive models, while the testing set is used to evaluate the model's performance on unseen data.\n",
    "\n",
    "The features (X) and the target variable (y) are separated from the DataFrame. The target variable is 'totalOrderDurationInMinutes,' which we aim to predict. The features are all the other columns in the DataFrame, excluding 'totalOrderDurationInMinutes.'\n",
    "\n",
    "We use the train_test_split() function from Scikit-learn to split the data into training and testing sets. The test_size parameter is set to 0.2, meaning 20% of the data will be used for testing, and the rest (80%) will be used for training. The random_state parameter is set to 42 to ensure reproducibility.\n",
    "\n",
    "Finally, we display the shapes of the training and testing datasets to confirm that the split has been done correctly. The training dataset has 1528 samples, while the testing dataset has 383 samples. Each dataset has 43 columns, consisting of the encoded features."
   ]
  },
  {
   "cell_type": "code",
   "execution_count": 15,
   "id": "57c8f34a",
   "metadata": {
    "scrolled": true
   },
   "outputs": [
    {
     "name": "stdout",
     "output_type": "stream",
     "text": [
      "Training Datasets:\n",
      "(1528,) (1528, 43)\n",
      "--------------------\n",
      "Testing Datasets:\n",
      "(383,) (383, 43)\n"
     ]
    },
    {
     "data": {
      "text/plain": [
       "(None, None)"
      ]
     },
     "execution_count": 15,
     "metadata": {},
     "output_type": "execute_result"
    }
   ],
   "source": [
    "# Separate the features (X) and the target variable (y)\n",
    "X = df.drop('totalOrderDurationInMinutes', axis=1)\n",
    "y = df['totalOrderDurationInMinutes']\n",
    "\n",
    "# Split the data into training and testing sets while preserving class distribution\n",
    "X_train, X_test, y_train, y_test = train_test_split(X, y, test_size=0.2, random_state=42)\n",
    "\n",
    "print('Training Datasets:'),print(y_train.shape, X_train.shape)\n",
    "print('-'*20)\n",
    "print('Testing Datasets:'),print(y_test.shape, X_test.shape)"
   ]
  },
  {
   "cell_type": "markdown",
   "id": "873010d0",
   "metadata": {},
   "source": [
    "# 3. Linear Regression<a class=\"anchor\" id=\"Linear\"></a>"
   ]
  },
  {
   "cell_type": "markdown",
   "id": "3f0bc753",
   "metadata": {},
   "source": [
    "**Initial Model Building**"
   ]
  },
  {
   "cell_type": "code",
   "execution_count": 16,
   "id": "83d82d54",
   "metadata": {},
   "outputs": [
    {
     "name": "stdout",
     "output_type": "stream",
     "text": [
      "Initial Linear Regression Model Evaluation on Training Data:\n",
      "R-squared: 0.9647849973648555\n",
      "Mean Squared Error: 0.029673717941094635\n",
      "Mean Absolute Error: 0.09680970493849936\n"
     ]
    }
   ],
   "source": [
    "# Initialize the initial linear regression model\n",
    "initial_lr_model = LinearRegression()\n",
    "\n",
    "# Perform cross-validation for initial evaluation on the training data\n",
    "initial_lr_scores = cross_validate(initial_lr_model, X_train, y_train, cv=10,\n",
    "                                   scoring=['r2', 'neg_mean_squared_error', 'neg_mean_absolute_error'])\n",
    "initial_lr_r2 = np.mean(initial_lr_scores['test_r2'])\n",
    "initial_lr_mse = -np.mean(initial_lr_scores['test_neg_mean_squared_error'])\n",
    "initial_lr_mae = -np.mean(initial_lr_scores['test_neg_mean_absolute_error'])\n",
    "\n",
    "print(\"Initial Linear Regression Model Evaluation on Training Data:\")\n",
    "print(\"R-squared:\", initial_lr_r2)\n",
    "print(\"Mean Squared Error:\", initial_lr_mse)\n",
    "print(\"Mean Absolute Error:\", initial_lr_mae)"
   ]
  },
  {
   "cell_type": "markdown",
   "id": "a1825a9f",
   "metadata": {},
   "source": [
    "**Addressing Multicollinearity**"
   ]
  },
  {
   "cell_type": "markdown",
   "id": "7f1d8dcc",
   "metadata": {},
   "source": [
    "Addressing multicollinearity, or the presence of high correlation among predictor variables, is crucial in regression analysis to ensure model validity and interpretability as it can affect the independence assumption. In addition to correlation analysis, Variance Inflation Factor (VIF) and Tolerance were used to better understand the multicollinearity in the data. A commonly used rule is that VIFs exceeding 4 should be further examined, whilst values above 10 indicate severe multicollinearity. Therefore, applying the commonly used thresholds of VIF < 10 and Tolerance > 0.1, the highly correlated variables numberOfDropoffs and co2SavedInKG were identified and removed. After doing so, the remaining variables exhibit reduced VIF and tolerance values, indicating a significant reduction in multicollinearity, ensuring the model's reliability and stability."
   ]
  },
  {
   "cell_type": "code",
   "execution_count": 17,
   "id": "ca612a2e",
   "metadata": {},
   "outputs": [
    {
     "name": "stdout",
     "output_type": "stream",
     "text": [
      "                             Variable    VIF_Train     VIF_Test  \\\n",
      "0                    numberOfPackages      7598.95      2085.79   \n",
      "1                   estimatedDistance  25770201.27  24947955.93   \n",
      "2              timeInTransitInMinutes         4.15         4.35   \n",
      "3           confirmationTimeInMinutes         1.07         1.11   \n",
      "4   timeConfirmationToPickupInMinutes         1.06         1.05   \n",
      "5         collectionDurationInMinutes         2.00         2.35   \n",
      "6                   vehicleEfficiency         1.72         1.62   \n",
      "7                     numberOfReturns       221.93        63.37   \n",
      "8                    numberOfDropoffs      5910.64      1618.80   \n",
      "9                 grandTotalAmount(£)         6.36         5.91   \n",
      "10                               year         7.56         7.72   \n",
      "11                              month         3.71         3.83   \n",
      "12                                day         4.18         4.28   \n",
      "13                       co2SavedInKG  25770777.27  24948542.39   \n",
      "\n",
      "   Tolerance_Train Tolerance_Test  \n",
      "0             0.00           0.00  \n",
      "1             0.00           0.00  \n",
      "2             0.24           0.23  \n",
      "3             0.93           0.90  \n",
      "4             0.95           0.96  \n",
      "5             0.50           0.43  \n",
      "6             0.58           0.62  \n",
      "7             0.00           0.02  \n",
      "8             0.00           0.00  \n",
      "9             0.16           0.17  \n",
      "10            0.13           0.13  \n",
      "11            0.27           0.26  \n",
      "12            0.24           0.23  \n",
      "13            0.00           0.00  \n"
     ]
    }
   ],
   "source": [
    "# Select the numerical variables of interest for multicollinearity analysis\n",
    "variables_of_interest = ['numberOfPackages', 'estimatedDistance', 'timeInTransitInMinutes',\n",
    "                         'confirmationTimeInMinutes', 'timeConfirmationToPickupInMinutes',\n",
    "                         'collectionDurationInMinutes', 'vehicleEfficiency', 'numberOfReturns', \n",
    "                         'numberOfDropoffs','grandTotalAmount(£)', 'year', 'month', 'day', 'co2SavedInKG']\n",
    "\n",
    "# Create an empty DataFrame to store the results\n",
    "vif_data = pd.DataFrame(columns=['Variable', 'VIF_Train', 'Tolerance_Train', 'VIF_Test', 'Tolerance_Test'])\n",
    "\n",
    "# Calculate VIF and Tolerance for train data\n",
    "numerical_variables_train = X_train[variables_of_interest]\n",
    "vif_train = [variance_inflation_factor(numerical_variables_train.values, i) for i in range(numerical_variables_train.shape[1])]\n",
    "tol_train = [1 / vif for vif in vif_train]\n",
    "\n",
    "# Calculate VIF and Tolerance for test data\n",
    "numerical_variables_test = X_test[variables_of_interest]\n",
    "vif_test = [variance_inflation_factor(numerical_variables_test.values, i) for i in range(numerical_variables_test.shape[1])]\n",
    "tol_test = [1 / vif for vif in vif_test]\n",
    "\n",
    "# Add the results to the DataFrame\n",
    "vif_data['Variable'] = variables_of_interest\n",
    "vif_data['VIF_Train'] = vif_train\n",
    "vif_data['Tolerance_Train'] = tol_train\n",
    "vif_data['VIF_Test'] = vif_test\n",
    "vif_data['Tolerance_Test'] = tol_test\n",
    "\n",
    "# Format VIF and Tolerance values\n",
    "vif_data['VIF_Train'] = vif_data['VIF_Train'].apply(lambda x: format(x, '.2f'))\n",
    "vif_data['Tolerance_Train'] = vif_data['Tolerance_Train'].apply(lambda x: format(x, '.2f'))\n",
    "vif_data['VIF_Test'] = vif_data['VIF_Test'].apply(lambda x: format(x, '.2f'))\n",
    "vif_data['Tolerance_Test'] = vif_data['Tolerance_Test'].apply(lambda x: format(x, '.2f'))\n",
    "\n",
    "# Rearrange the DataFrame columns\n",
    "vif_data = vif_data[['Variable', 'VIF_Train', 'VIF_Test', 'Tolerance_Train', 'Tolerance_Test']]\n",
    "\n",
    "# Print the results\n",
    "print(vif_data)"
   ]
  },
  {
   "cell_type": "code",
   "execution_count": 18,
   "id": "e6456a70",
   "metadata": {},
   "outputs": [],
   "source": [
    "X_train_lr = X_train.drop(columns=['numberOfDropoffs']) # Remove highly correlated variable\n",
    "X_test_lr = X_test.drop(columns=['numberOfDropoffs']) # Remove highly correlated variable\n",
    "\n",
    "X_train_lr = X_train.drop(columns=['co2SavedInKG']) # Remove highly correlated variable\n",
    "X_test_lr = X_test.drop(columns=['co2SavedInKG']) # Remove highly correlated variable"
   ]
  },
  {
   "cell_type": "markdown",
   "id": "7380255d",
   "metadata": {},
   "source": [
    "CO2SavedInKG is very highly correlated with estimatedDistance, because CO2SavedInKG is a direct function of estimatedDistance. Therefore, it is better to drop this variable from all data for all our predictive models. "
   ]
  },
  {
   "cell_type": "code",
   "execution_count": 19,
   "id": "48f0de33",
   "metadata": {},
   "outputs": [],
   "source": [
    "X_train = X_train.drop(columns=['co2SavedInKG'])\n",
    "X_test = X_test.drop(columns=['co2SavedInKG'])"
   ]
  },
  {
   "cell_type": "code",
   "execution_count": 20,
   "id": "7bfbe361",
   "metadata": {},
   "outputs": [
    {
     "name": "stdout",
     "output_type": "stream",
     "text": [
      "                             Variable VIF_Train VIF_Test Tolerance_Train  \\\n",
      "0                    numberOfPackages      4.94     5.17            0.20   \n",
      "1                   estimatedDistance      4.24     4.36            0.24   \n",
      "2              timeInTransitInMinutes      4.15     4.33            0.24   \n",
      "3           confirmationTimeInMinutes      1.07     1.11            0.94   \n",
      "4   timeConfirmationToPickupInMinutes      1.05     1.04            0.95   \n",
      "5         collectionDurationInMinutes      1.97     2.27            0.51   \n",
      "6                   vehicleEfficiency      1.71     1.61            0.58   \n",
      "7                     numberOfReturns      2.18     2.01            0.46   \n",
      "8                 grandTotalAmount(£)      6.09     5.77            0.16   \n",
      "9                               month      3.70     3.81            0.27   \n",
      "10                                day      4.17     4.26            0.24   \n",
      "11                               year      7.53     7.71            0.13   \n",
      "\n",
      "   Tolerance_Test  \n",
      "0            0.19  \n",
      "1            0.23  \n",
      "2            0.23  \n",
      "3            0.90  \n",
      "4            0.97  \n",
      "5            0.44  \n",
      "6            0.62  \n",
      "7            0.50  \n",
      "8            0.17  \n",
      "9            0.26  \n",
      "10           0.23  \n",
      "11           0.13  \n"
     ]
    }
   ],
   "source": [
    "# Select the numerical variables of interest for multicollinearity analysis\n",
    "variables_of_interest = ['numberOfPackages', 'estimatedDistance', 'timeInTransitInMinutes',\n",
    "                         'confirmationTimeInMinutes', 'timeConfirmationToPickupInMinutes',\n",
    "                         'collectionDurationInMinutes', 'vehicleEfficiency', 'numberOfReturns', 'grandTotalAmount(£)',\n",
    "                         'month', 'day','year']\n",
    "\n",
    "# Create an empty DataFrame to store the results\n",
    "vif_data = pd.DataFrame(columns=['Variable', 'VIF_Train', 'Tolerance_Train', 'VIF_Test', 'Tolerance_Test'])\n",
    "\n",
    "# Calculate VIF and Tolerance for train data\n",
    "numerical_variables_train = X_train_lr[variables_of_interest]\n",
    "vif_train = [variance_inflation_factor(numerical_variables_train.values, i) for i in range(numerical_variables_train.shape[1])]\n",
    "tol_train = [1 / vif for vif in vif_train]\n",
    "\n",
    "# Calculate VIF and Tolerance for test data\n",
    "numerical_variables_test = X_test_lr[variables_of_interest]\n",
    "vif_test = [variance_inflation_factor(numerical_variables_test.values, i) for i in range(numerical_variables_test.shape[1])]\n",
    "tol_test = [1 / vif for vif in vif_test]\n",
    "\n",
    "# Add the results to the DataFrame\n",
    "vif_data['Variable'] = variables_of_interest\n",
    "vif_data['VIF_Train'] = vif_train\n",
    "vif_data['Tolerance_Train'] = tol_train\n",
    "vif_data['VIF_Test'] = vif_test\n",
    "vif_data['Tolerance_Test'] = tol_test\n",
    "\n",
    "# Format VIF and Tolerance values\n",
    "vif_data['VIF_Train'] = vif_data['VIF_Train'].apply(lambda x: format(x, '.2f'))\n",
    "vif_data['Tolerance_Train'] = vif_data['Tolerance_Train'].apply(lambda x: format(x, '.2f'))\n",
    "vif_data['VIF_Test'] = vif_data['VIF_Test'].apply(lambda x: format(x, '.2f'))\n",
    "vif_data['Tolerance_Test'] = vif_data['Tolerance_Test'].apply(lambda x: format(x, '.2f'))\n",
    "\n",
    "# Rearrange the DataFrame columns\n",
    "vif_data = vif_data[['Variable', 'VIF_Train', 'VIF_Test', 'Tolerance_Train', 'Tolerance_Test']]\n",
    "\n",
    "# Print the results\n",
    "print(vif_data)"
   ]
  },
  {
   "cell_type": "code",
   "execution_count": 21,
   "id": "19b8d79b",
   "metadata": {
    "scrolled": false
   },
   "outputs": [
    {
     "data": {
      "text/plain": [
       "Index(['orderID', 'numberOfPackages', 'estimatedDistance',\n",
       "       'timeInTransitInMinutes', 'confirmationTimeInMinutes',\n",
       "       'timeConfirmationToPickupInMinutes', 'collectionDurationInMinutes',\n",
       "       'vehicleEfficiency', 'isExpressDelivery', 'isMultidropCourierOrder',\n",
       "       'numberOfReturns', 'numberOfDropoffs', 'grandTotalAmount(£)', 'year',\n",
       "       'month', 'day', 'Region_Hammersmith and Fulham', 'Region_Islington',\n",
       "       'Region_Kensington and Chelsea', 'Region_Lambeth', 'Region_Merton',\n",
       "       'Region_Southwark', 'Region_Wandsworth', 'Region_Westminster',\n",
       "       'businessType_Florist', 'businessType_Grocery store',\n",
       "       'businessType_Other', 'businessType_Pharmacy', 'businessType_Retailer',\n",
       "       'business_vs_Customer_business', 'business_vs_Customer_customer',\n",
       "       'business_vs_Customer_other', 'volume_category_Medium',\n",
       "       'volume_category_Other', 'volume_category_Small', 'Season_Autumn',\n",
       "       'Season_Spring', 'Season_Summer', 'Season_Winter',\n",
       "       'timeOfDay_Afternoon', 'timeOfDay_Evening', 'timeOfDay_Morning'],\n",
       "      dtype='object')"
      ]
     },
     "execution_count": 21,
     "metadata": {},
     "output_type": "execute_result"
    }
   ],
   "source": [
    "X_train_lr.columns"
   ]
  },
  {
   "cell_type": "markdown",
   "id": "fc427b37",
   "metadata": {},
   "source": [
    "**Normalisation of Data Distribution**"
   ]
  },
  {
   "cell_type": "markdown",
   "id": "c6d7bfc1",
   "metadata": {},
   "source": [
    "Normalising data distributions is necessary as they may violate the normality assumption of residuals and lead to biased results. While analysing the dataset, the skewness of the independent variables (X) and the dependent variable (y) were examined, as both may affect the normality assumption. Based on the skewness results, the highly skewed variables include numberOfPackages, estimatedDistance, timeInTransitInMinutes, confirmationTimeInMinutes, collectionDurationInMinutes, vehicleEfficiency, numberOfReturns, and grandTotalAmount(£). These variables exhibited skewness values greater than one or less than -1, indicating a significant departure from a normal distribution. A square root transformation with a constant was applied to normalise the distribution and reduce the impact of extreme values. This helps improve the interpretation of coefficients and enhances the model's predictive performance."
   ]
  },
  {
   "cell_type": "code",
   "execution_count": 22,
   "id": "e35ee16e",
   "metadata": {},
   "outputs": [],
   "source": [
    "# Select the numerical variables of interest\n",
    "variables_of_interest = ['numberOfPackages', 'estimatedDistance', 'timeInTransitInMinutes',\n",
    "                       'confirmationTimeInMinutes', 'timeConfirmationToPickupInMinutes',\n",
    "                       'collectionDurationInMinutes', 'vehicleEfficiency', 'numberOfReturns',\n",
    "                       'grandTotalAmount(£)']\n",
    "\n",
    "# Get the list of all variables\n",
    "all_variables = X_train_lr.columns.tolist()\n",
    "\n",
    "# Get the list of categorical variables\n",
    "other_variables = [var for var in all_variables if var not in variables_of_interest]"
   ]
  },
  {
   "cell_type": "code",
   "execution_count": 23,
   "id": "a7d7845e",
   "metadata": {},
   "outputs": [
    {
     "data": {
      "image/png": "[encoded data removed]",
      "text/plain": [
       "<Figure size 1200x600 with 9 Axes>"
      ]
     },
     "metadata": {},
     "output_type": "display_data"
    }
   ],
   "source": [
    "# Plot histograms before transformation\n",
    "plt.figure(figsize=(12, 6))\n",
    "plt.suptitle('Histograms: Before Transformation', fontsize=14)\n",
    "\n",
    "for i, var in enumerate(variables_of_interest):\n",
    "    plt.subplot(3, 4, i+1)\n",
    "    plt.hist(X_train[var], bins=30, alpha=0.5, label='X_train')\n",
    "    plt.hist(X_test[var], bins=30, alpha=0.5, label='X_test')\n",
    "    plt.xlabel(var)\n",
    "    plt.legend()\n",
    "\n",
    "plt.tight_layout()\n",
    "plt.show()"
   ]
  },
  {
   "cell_type": "code",
   "execution_count": 24,
   "id": "ba93992b",
   "metadata": {},
   "outputs": [
    {
     "name": "stdout",
     "output_type": "stream",
     "text": [
      "Before transformation:\n",
      "                            Variable  Skewness_X_train_before  \\\n",
      "0                   numberOfPackages                 1.550571   \n",
      "1                  estimatedDistance                 2.170532   \n",
      "2             timeInTransitInMinutes                 1.177919   \n",
      "3          confirmationTimeInMinutes                 2.540844   \n",
      "4  timeConfirmationToPickupInMinutes                 0.927608   \n",
      "5        collectionDurationInMinutes                 2.908056   \n",
      "6                  vehicleEfficiency                 2.946501   \n",
      "7                    numberOfReturns                 2.551797   \n",
      "8                grandTotalAmount(£)                 1.522733   \n",
      "\n",
      "   Skewness_X_test_before  \n",
      "0                1.430923  \n",
      "1                2.068632  \n",
      "2                1.155013  \n",
      "3                2.345756  \n",
      "4                0.804207  \n",
      "5                2.725492  \n",
      "6                3.121252  \n",
      "7                2.787230  \n",
      "8                1.546439  \n"
     ]
    }
   ],
   "source": [
    "# Calculate skewness for X_train\n",
    "skewness_X_train_before = X_train_lr[variables_of_interest].apply(skew)\n",
    "\n",
    "# Calculate skewness for X_test\n",
    "skewness_X_test_before = X_test_lr[variables_of_interest].apply(skew)\n",
    "\n",
    "# Create a dataframe to store the skewness results before transformation\n",
    "skewness_df_before = pd.DataFrame({\n",
    "    'Variable': variables_of_interest,\n",
    "    'Skewness_X_train_before': skewness_X_train_before.values,\n",
    "    'Skewness_X_test_before': skewness_X_test_before.values,\n",
    "})\n",
    "\n",
    "# Print the skewness results before transformation\n",
    "print(\"Before transformation:\")\n",
    "print(skewness_df_before)"
   ]
  },
  {
   "cell_type": "code",
   "execution_count": 25,
   "id": "42441c5b",
   "metadata": {
    "scrolled": true
   },
   "outputs": [
    {
     "data": {
      "text/plain": [
       "['numberOfPackages',\n",
       " 'estimatedDistance',\n",
       " 'timeInTransitInMinutes',\n",
       " 'confirmationTimeInMinutes',\n",
       " 'collectionDurationInMinutes',\n",
       " 'vehicleEfficiency',\n",
       " 'numberOfReturns',\n",
       " 'grandTotalAmount(£)']"
      ]
     },
     "execution_count": 25,
     "metadata": {},
     "output_type": "execute_result"
    }
   ],
   "source": [
    "# Select the skewed variables\n",
    "skewed_variables = skewness_X_train_before[(skewness_X_train_before > 1) | (skewness_X_train_before < -1)].index.tolist()\n",
    "skewed_variables"
   ]
  },
  {
   "cell_type": "code",
   "execution_count": 26,
   "id": "cea1cbcc",
   "metadata": {
    "scrolled": false
   },
   "outputs": [
    {
     "data": {
      "text/plain": [
       "2.0"
      ]
     },
     "execution_count": 26,
     "metadata": {},
     "output_type": "execute_result"
    }
   ],
   "source": [
    "# Calculate the shift constant based on the minimum value across all numerical variables\n",
    "shift_constant = np.abs(X_train_lr[variables_of_interest].values.min())\n",
    "shift_constant = np.ceil(shift_constant)\n",
    "shift_constant"
   ]
  },
  {
   "cell_type": "code",
   "execution_count": 27,
   "id": "b3ee0dc3",
   "metadata": {},
   "outputs": [],
   "source": [
    "# Apply shift constant to X_train and X_test\n",
    "X_train_shifted = X_train_lr[variables_of_interest] + shift_constant\n",
    "X_test_shifted = X_test_lr[variables_of_interest] + shift_constant\n",
    "\n",
    "# Apply Square Root transformation to skewed variables in X_train_shifted and X_test_shifted\n",
    "X_train_transformed = X_train_shifted.copy()\n",
    "X_test_transformed = X_test_shifted.copy()\n",
    "\n",
    "for var in skewed_variables:\n",
    "    X_train_transformed[var] = np.sqrt(X_train_shifted[var])\n",
    "    X_test_transformed[var] = np.sqrt(X_test_shifted[var])\n",
    "\n",
    "# Concatenate the transformed numerical variables with the original categorical variables in X_train and X_test\n",
    "X_train_transformed = pd.concat([X_train_transformed, X_train_lr[other_variables]], axis=1)\n",
    "X_test_transformed = pd.concat([X_test_transformed, X_test_lr[other_variables]], axis=1)"
   ]
  },
  {
   "cell_type": "markdown",
   "id": "69bd6a40",
   "metadata": {},
   "source": [
    "**Cross Validation**"
   ]
  },
  {
   "cell_type": "code",
   "execution_count": 28,
   "id": "4cc3037f",
   "metadata": {},
   "outputs": [
    {
     "name": "stdout",
     "output_type": "stream",
     "text": [
      "\n",
      "Final Linear Regression Model Evaluation on Training Data:\n",
      "R-squared: 0.962952266204112\n",
      "Mean Squared Error: 0.031220884588248753\n",
      "Mean Absolute Error: 0.10634567705929934\n"
     ]
    }
   ],
   "source": [
    "# Initialize the linear regression model\n",
    "final_lr_model = LinearRegression()\n",
    "\n",
    "# Perform cross-validation on the training data using the best model\n",
    "final_train_lr_scores = cross_validate(final_lr_model, X_train_transformed, y_train, cv=10,\n",
    "                                       scoring=['r2', 'neg_mean_squared_error', 'neg_mean_absolute_error'])\n",
    "final_train_lr_r2 = np.mean(final_train_lr_scores['test_r2'])\n",
    "final_train_lr_mse = -np.mean(final_train_lr_scores['test_neg_mean_squared_error'])\n",
    "final_train_lr_mae = -np.mean(final_train_lr_scores['test_neg_mean_absolute_error'])\n",
    "\n",
    "print(\"\\nFinal Linear Regression Model Evaluation on Training Data:\")\n",
    "print(\"R-squared:\", final_train_lr_r2)\n",
    "print(\"Mean Squared Error:\", final_train_lr_mse)\n",
    "print(\"Mean Absolute Error:\", final_train_lr_mae)"
   ]
  },
  {
   "cell_type": "markdown",
   "id": "1e300a0d",
   "metadata": {},
   "source": [
    "**Evaluation on Test Set**"
   ]
  },
  {
   "cell_type": "code",
   "execution_count": 29,
   "id": "27a50391",
   "metadata": {
    "scrolled": true
   },
   "outputs": [
    {
     "name": "stdout",
     "output_type": "stream",
     "text": [
      "Final Linear Regression Model Evaluation on Test Set:\n",
      "R-squared: 0.9682010627336235\n",
      "Mean Squared Error: 0.025052237716005867\n",
      "Mean Absolute Error: 0.10464450563840455\n"
     ]
    }
   ],
   "source": [
    "# Fit the model to the entire training data\n",
    "final_lr_model.fit(X_train_transformed, y_train)\n",
    "\n",
    "# Make predictions on the test set\n",
    "y_pred_test = final_lr_model.predict(X_test_transformed)\n",
    "\n",
    "# Calculate evaluation metrics on the test set\n",
    "final_lr_r2 = r2_score(y_test, y_pred_test)\n",
    "final_lr_mse = mean_squared_error(y_test, y_pred_test)\n",
    "final_lr_mae = mean_absolute_error(y_test, y_pred_test)\n",
    "\n",
    "# Print the evaluation metrics\n",
    "print(\"Final Linear Regression Model Evaluation on Test Set:\")\n",
    "print(\"R-squared:\", final_lr_r2)\n",
    "print(\"Mean Squared Error:\", final_lr_mse)\n",
    "print(\"Mean Absolute Error:\", final_lr_mae)"
   ]
  },
  {
   "cell_type": "markdown",
   "id": "37b44994",
   "metadata": {},
   "source": [
    "### Comparison Initial Linear Regression vs Final Linear Regression Model"
   ]
  },
  {
   "cell_type": "code",
   "execution_count": 30,
   "id": "95b16fe4",
   "metadata": {},
   "outputs": [
    {
     "name": "stdout",
     "output_type": "stream",
     "text": [
      "Initial Linear Regression Model Evaluation on Training Data:\n",
      "R-squared: 0.965\n",
      "Mean Squared Error: 0.03\n",
      "Mean Absolute Error: 0.097\n",
      "\n",
      "Final Linear Regression Model Evaluation on Training Data:\n",
      "R-squared: 0.968\n",
      "Mean Squared Error: 0.025\n",
      "Mean Absolute Error: 0.105\n"
     ]
    }
   ],
   "source": [
    "# Initial model results\n",
    "print(\"Initial Linear Regression Model Evaluation on Training Data:\")\n",
    "print(\"R-squared:\", round(initial_lr_r2, 3))\n",
    "print(\"Mean Squared Error:\", round(initial_lr_mse, 3))\n",
    "print(\"Mean Absolute Error:\", round(initial_lr_mae, 3))\n",
    "\n",
    "# Final model results\n",
    "print(\"\\nFinal Linear Regression Model Evaluation on Training Data:\")\n",
    "print(\"R-squared:\", round(final_lr_r2, 3))\n",
    "print(\"Mean Squared Error:\", round(final_lr_mse, 3))\n",
    "print(\"Mean Absolute Error:\", round(final_lr_mae, 3))"
   ]
  },
  {
   "cell_type": "markdown",
   "id": "9bebb9ca",
   "metadata": {},
   "source": [
    "### Linear Regression Assumptions Check"
   ]
  },
  {
   "cell_type": "markdown",
   "id": "8f17ef79",
   "metadata": {},
   "source": [
    "After building the linear regression model, it is important to check again whether the assumptions of the linear regression were upheld to ensure the validity and reliability of the results. "
   ]
  },
  {
   "cell_type": "code",
   "execution_count": 31,
   "id": "6ab5aec1",
   "metadata": {},
   "outputs": [],
   "source": [
    "residuals = y_test - y_pred_test\n",
    "sqrt_abs_res = np.sqrt(np.abs(residuals))"
   ]
  },
  {
   "cell_type": "code",
   "execution_count": 32,
   "id": "5c725740",
   "metadata": {},
   "outputs": [
    {
     "data": {
      "image/png": "[encoded data removed]",
      "text/plain": [
       "<Figure size 1200x1000 with 4 Axes>"
      ]
     },
     "metadata": {},
     "output_type": "display_data"
    }
   ],
   "source": [
    "fig, axes = plt.subplots(2, 2, figsize=(12, 10))\n",
    "\n",
    "# Scatter plot\n",
    "axes[0, 0].scatter(y_test, y_pred_test)\n",
    "axes[0, 0].set_xlabel('Actual Values')\n",
    "axes[0, 0].set_ylabel('Predicted Values')\n",
    "axes[0, 0].set_title('Linearity: Actual vs. Predicted')\n",
    "\n",
    "# Add trendline\n",
    "trendline = np.polyfit(y_test, y_pred_test, 1)\n",
    "axes[0, 0].plot(y_test, trendline[0] * y_test + trendline[1], color='red')\n",
    "\n",
    "# Residual plot\n",
    "axes[0, 1].scatter(y_pred_test, residuals)\n",
    "axes[0, 1].set_xlabel('Predicted Values')\n",
    "axes[0, 1].set_ylabel('Residuals')\n",
    "axes[0, 1].set_title('Linearity: Residual Plot')\n",
    "\n",
    "# Add trendline\n",
    "trendline = np.polyfit(y_pred_test, residuals, 1)\n",
    "axes[0, 1].plot(y_pred_test, trendline[0] * y_pred_test + trendline[1], color='red')\n",
    "\n",
    "# Scale-Location Plot\n",
    "axes[1, 0].scatter(y_pred_test, sqrt_abs_res)\n",
    "axes[1, 0].set_xlabel('Predicted Values')\n",
    "axes[1, 0].set_ylabel('sqrt(|Residuals|)')\n",
    "axes[1, 0].set_title('Homoscedasticity: Scale-Location Plot')\n",
    "\n",
    "# Histogram\n",
    "axes[1, 1].hist(residuals, bins=30)\n",
    "axes[1, 1].set_xlabel('Residuals')\n",
    "axes[1, 1].set_ylabel('Frequency')\n",
    "axes[1, 1].set_title('Normality: Residual Distribution')\n",
    "\n",
    "plt.tight_layout()\n",
    "plt.show()"
   ]
  },
  {
   "cell_type": "markdown",
   "id": "598ba176",
   "metadata": {},
   "source": [
    "**Independence**"
   ]
  },
  {
   "cell_type": "code",
   "execution_count": 33,
   "id": "4260c80e",
   "metadata": {
    "scrolled": false
   },
   "outputs": [
    {
     "name": "stdout",
     "output_type": "stream",
     "text": [
      "Independence: Durbin-Watson Statistic: 1.9573346688412565\n"
     ]
    }
   ],
   "source": [
    "# Durbin-Watson test\n",
    "durbin_watson_stat = durbin_watson(residuals)\n",
    "print(\"Independence: Durbin-Watson Statistic:\", durbin_watson_stat)"
   ]
  },
  {
   "cell_type": "markdown",
   "id": "afffd5fd",
   "metadata": {},
   "source": [
    "# 4. Regression Tree<a class=\"anchor\" id=\"RegressionTree\"></a>"
   ]
  },
  {
   "cell_type": "markdown",
   "id": "795632aa",
   "metadata": {},
   "source": [
    "**Initial Model Building**"
   ]
  },
  {
   "cell_type": "markdown",
   "id": "4f8c2e68",
   "metadata": {},
   "source": [
    "The Regression Tree model was used for this study due to the quantitative nature of the dependent variable. An initial tree was built and evaluated on the training data using cross-validation. cross_validate function is used to perform k-fold cross-validation (here, k=10) on the training data. It evaluates the model's performance using three metrics: R-squared, negative mean squared error (MSE), and negative mean absolute error (MAE)."
   ]
  },
  {
   "cell_type": "code",
   "execution_count": 34,
   "id": "22240312",
   "metadata": {
    "scrolled": true
   },
   "outputs": [
    {
     "name": "stdout",
     "output_type": "stream",
     "text": [
      "Initial Decision Tree Model Evaluation on Training Data:\n",
      "R-squared: 0.9037210050442048\n",
      "Mean Squared Error: 0.08012714489143367\n",
      "Mean Absolute Error: 0.16989696261273207\n"
     ]
    }
   ],
   "source": [
    "# Initialize the initial decision tree model\n",
    "initial_dt_model = DecisionTreeRegressor()\n",
    "\n",
    "# Perform cross-validation for initial evaluation on the training data\n",
    "initial_dt_scores = cross_validate(initial_dt_model, X_train, y_train, cv=10,\n",
    "                                   scoring=['r2', 'neg_mean_squared_error', 'neg_mean_absolute_error'])\n",
    "initial_dt_r2 = np.mean(initial_dt_scores['test_r2'])\n",
    "initial_dt_mse = -np.mean(initial_dt_scores['test_neg_mean_squared_error'])\n",
    "initial_dt_mae = -np.mean(initial_dt_scores['test_neg_mean_absolute_error'])\n",
    "\n",
    "print(\"Initial Decision Tree Model Evaluation on Training Data:\")\n",
    "print(\"R-squared:\", initial_dt_r2)\n",
    "print(\"Mean Squared Error:\", initial_dt_mse)\n",
    "print(\"Mean Absolute Error:\", initial_dt_mae)"
   ]
  },
  {
   "cell_type": "markdown",
   "id": "7805c049",
   "metadata": {},
   "source": [
    "**Hyperparameter Tuning with Cross Validation**"
   ]
  },
  {
   "cell_type": "markdown",
   "id": "25b86f32",
   "metadata": {},
   "source": [
    "Different hyperparameters (max_depth, min_samples_split, min_samples_leaf, ccp_alpha) of the decision tree are specified with different values to be searched over. GridSearchCV is used to perform a grid search over the hyperparameter space. It tries different combinations of hyperparameters and evaluates the model using cross-validation. The best hyperparameters and model obtained from the grid search are then stored."
   ]
  },
  {
   "cell_type": "code",
   "execution_count": 35,
   "id": "332c2fc9",
   "metadata": {},
   "outputs": [
    {
     "name": "stdout",
     "output_type": "stream",
     "text": [
      "\n",
      "Best Decision Tree Hyperparameters:\n",
      "{'ccp_alpha': 0.0, 'max_depth': None, 'min_samples_leaf': 2, 'min_samples_split': 10}\n"
     ]
    }
   ],
   "source": [
    "# Define the hyperparameters to tune\n",
    "param_grid = {\n",
    "    'max_depth': [None, 3, 5, 7, 10],\n",
    "    'min_samples_split': [2, 5, 10],\n",
    "    'min_samples_leaf': [1, 2, 4],\n",
    "    'ccp_alpha': [0.0, 0.01, 0.1, 0.5, 1.0]  # Cost complexity pruning alpha values\n",
    "}\n",
    "\n",
    "# Initialize the decision tree model\n",
    "dt_model = DecisionTreeRegressor()\n",
    "\n",
    "# Perform grid search cross-validation\n",
    "grid_search = GridSearchCV(dt_model, param_grid, cv=10, scoring='r2')\n",
    "grid_search.fit(X_train, y_train)\n",
    "\n",
    "# Get the best hyperparameters and model\n",
    "best_dt_params = grid_search.best_params_\n",
    "best_dt_model = grid_search.best_estimator_\n",
    "\n",
    "# Print the best hyperparameters\n",
    "print(\"\\nBest Decision Tree Hyperparameters:\")\n",
    "print(best_dt_params)"
   ]
  },
  {
   "cell_type": "markdown",
   "id": "772f6965",
   "metadata": {},
   "source": [
    "**Cross Validation**"
   ]
  },
  {
   "cell_type": "code",
   "execution_count": 36,
   "id": "7c577198",
   "metadata": {},
   "outputs": [
    {
     "name": "stdout",
     "output_type": "stream",
     "text": [
      "\n",
      "Final Decision Tree Model Evaluation on Training Data:\n",
      "R-squared: 0.9161296719283685\n",
      "Mean Squared Error: 0.06988288710095414\n",
      "Mean Absolute Error: 0.1647220938270659\n"
     ]
    }
   ],
   "source": [
    "# Perform cross-validation on the training data using the best model\n",
    "final_train_dt_scores = cross_validate(best_dt_model, X_train, y_train, cv=10,\n",
    "                                       scoring=['r2', 'neg_mean_squared_error', 'neg_mean_absolute_error'])\n",
    "final_train_dt_r2 = np.mean(final_train_dt_scores['test_r2'])\n",
    "final_train_dt_mse = -np.mean(final_train_dt_scores['test_neg_mean_squared_error'])\n",
    "final_train_dt_mae = -np.mean(final_train_dt_scores['test_neg_mean_absolute_error'])\n",
    "\n",
    "print(\"\\nFinal Decision Tree Model Evaluation on Training Data:\")\n",
    "print(\"R-squared:\", final_train_dt_r2)\n",
    "print(\"Mean Squared Error:\", final_train_dt_mse)\n",
    "print(\"Mean Absolute Error:\", final_train_dt_mae)"
   ]
  },
  {
   "cell_type": "markdown",
   "id": "a54bfd71",
   "metadata": {},
   "source": [
    "**Evaluation on Test Set**"
   ]
  },
  {
   "cell_type": "code",
   "execution_count": 37,
   "id": "3e550d38",
   "metadata": {},
   "outputs": [
    {
     "name": "stdout",
     "output_type": "stream",
     "text": [
      "Final Decision Tree Model Evaluation on Test Set:\n",
      "R-squared: 0.9480241088855865\n",
      "Mean Squared Error: 0.04094829864255707\n",
      "Mean Absolute Error: 0.13840519008727248\n"
     ]
    },
    {
     "data": {
      "image/png": "[encoded data removed]",
      "text/plain": [
       "<Figure size 1000x800 with 1 Axes>"
      ]
     },
     "metadata": {},
     "output_type": "display_data"
    }
   ],
   "source": [
    "# Prune the decision tree using the optimal pruning level (ccp_alpha)\n",
    "pruned_dt_model = DecisionTreeRegressor(**best_dt_params)\n",
    "pruned_dt_model.fit(X_train, y_train)\n",
    "\n",
    "# Evaluate the pruned model on the test set\n",
    "y_pred_test = pruned_dt_model.predict(X_test)\n",
    "final_dt_r2 = r2_score(y_test, y_pred_test)\n",
    "final_dt_mse = mean_squared_error(y_test, y_pred_test)\n",
    "final_dt_mae = mean_absolute_error(y_test, y_pred_test)\n",
    "\n",
    "print(\"Final Decision Tree Model Evaluation on Test Set:\")\n",
    "print(\"R-squared:\", final_dt_r2)\n",
    "print(\"Mean Squared Error:\", final_dt_mse)\n",
    "print(\"Mean Absolute Error:\", final_dt_mae)\n",
    "\n",
    "# Plot the decision tree\n",
    "plt.figure(figsize=(10, 8))\n",
    "tree.plot_tree(pruned_dt_model)\n",
    "plt.show()"
   ]
  },
  {
   "cell_type": "markdown",
   "id": "1361010e",
   "metadata": {},
   "source": [
    "# 5. Random Forest<a class=\"anchor\" id=\"RandomForest\"></a>"
   ]
  },
  {
   "cell_type": "markdown",
   "id": "9cdb8b5a",
   "metadata": {},
   "source": [
    "**Initial Model**"
   ]
  },
  {
   "cell_type": "code",
   "execution_count": 38,
   "id": "6bcc44b1",
   "metadata": {},
   "outputs": [
    {
     "name": "stdout",
     "output_type": "stream",
     "text": [
      "Initial Random Forest Model Evaluation on Training Data:\n",
      "R-squared: 0.9540608658496399\n",
      "Mean Squared Error: 0.038458620372398875\n",
      "Mean Absolute Error: 0.11336496238841165\n"
     ]
    }
   ],
   "source": [
    "# Initialize the initial random forest model\n",
    "initial_rf_model = RandomForestRegressor()\n",
    "\n",
    "# Perform cross-validation for initial evaluation on the training data\n",
    "initial_rf_scores = cross_validate(initial_rf_model, X_train, y_train, cv=10,\n",
    "                                   scoring=['r2', 'neg_mean_squared_error', 'neg_mean_absolute_error'])\n",
    "initial_rf_r2 = np.mean(initial_rf_scores['test_r2'])\n",
    "initial_rf_mse = -np.mean(initial_rf_scores['test_neg_mean_squared_error'])\n",
    "initial_rf_mae = -np.mean(initial_rf_scores['test_neg_mean_absolute_error'])\n",
    "\n",
    "print(\"Initial Random Forest Model Evaluation on Training Data:\")\n",
    "print(\"R-squared:\", initial_rf_r2)\n",
    "print(\"Mean Squared Error:\", initial_rf_mse)\n",
    "print(\"Mean Absolute Error:\", initial_rf_mae)"
   ]
  },
  {
   "cell_type": "markdown",
   "id": "d587971c",
   "metadata": {},
   "source": [
    "**Hyperparameter Tuning with Cross Validation**"
   ]
  },
  {
   "cell_type": "code",
   "execution_count": 39,
   "id": "cdbdf965",
   "metadata": {},
   "outputs": [
    {
     "name": "stdout",
     "output_type": "stream",
     "text": [
      "\n",
      "Best Random Forest Hyperparameters:\n",
      "{'n_estimators': 500, 'min_samples_split': 2, 'min_samples_leaf': 1, 'max_depth': None}\n"
     ]
    }
   ],
   "source": [
    "# Define the hyperparameters to tune\n",
    "param_grid = {\n",
    "    'n_estimators': [50, 100, 200, 500],\n",
    "    'max_depth': [None, 3, 5, 7, 10],\n",
    "    'min_samples_split': [2, 5, 7, 10],\n",
    "    'min_samples_leaf': [1, 2, 4, 7]\n",
    "}\n",
    "\n",
    "# Initialize the random forest model\n",
    "rf_model = RandomForestRegressor()\n",
    "\n",
    "# Perform grid search cross-validation\n",
    "tree_random_search = RandomizedSearchCV(rf_model, param_grid, cv=10, scoring='r2', n_iter = 100)\n",
    "tree_random_search.fit(X_train, y_train)\n",
    "\n",
    "# Get the best hyperparameters and model\n",
    "best_rf_params = tree_random_search.best_params_\n",
    "best_rf_model = tree_random_search.best_estimator_\n",
    "\n",
    "# Print the best hyperparameters\n",
    "print(\"\\nBest Random Forest Hyperparameters:\")\n",
    "print(best_rf_params)"
   ]
  },
  {
   "cell_type": "markdown",
   "id": "5f8847ad",
   "metadata": {},
   "source": [
    "**Cross Validation**"
   ]
  },
  {
   "cell_type": "code",
   "execution_count": 40,
   "id": "a2ebe507",
   "metadata": {},
   "outputs": [
    {
     "name": "stdout",
     "output_type": "stream",
     "text": [
      "\n",
      "Final Random Forest Model Evaluation on Training Data:\n",
      "R-squared: 0.9546280222316978\n",
      "Mean Squared Error: 0.038006329627426214\n",
      "Mean Absolute Error: 0.11250611775174128\n"
     ]
    }
   ],
   "source": [
    "# Perform cross-validation on the training data using the best model\n",
    "final_train_rf_scores = cross_validate(best_rf_model, X_train, y_train, cv=10,\n",
    "                                       scoring=['r2', 'neg_mean_squared_error', 'neg_mean_absolute_error'])\n",
    "final_train_rf_r2 = np.mean(final_train_rf_scores['test_r2'])\n",
    "final_train_rf_mse = -np.mean(final_train_rf_scores['test_neg_mean_squared_error'])\n",
    "final_train_rf_mae = -np.mean(final_train_rf_scores['test_neg_mean_absolute_error'])\n",
    "\n",
    "print(\"\\nFinal Random Forest Model Evaluation on Training Data:\")\n",
    "print(\"R-squared:\", final_train_rf_r2)\n",
    "print(\"Mean Squared Error:\", final_train_rf_mse)\n",
    "print(\"Mean Absolute Error:\", final_train_rf_mae)"
   ]
  },
  {
   "cell_type": "markdown",
   "id": "4e41fa2b",
   "metadata": {},
   "source": [
    "**Evaluation on Test Set**"
   ]
  },
  {
   "cell_type": "code",
   "execution_count": 41,
   "id": "8ac04f0d",
   "metadata": {
    "scrolled": true
   },
   "outputs": [
    {
     "name": "stdout",
     "output_type": "stream",
     "text": [
      "Final Random Forest Model Evaluation on Test Set:\n",
      "R-squared: 0.9666123034479314\n",
      "Mean Squared Error: 0.02630391398950061\n",
      "Mean Absolute Error: 0.10096556727635513\n"
     ]
    }
   ],
   "source": [
    "# Initialize the Random Forest model with the best hyperparameters\n",
    "final_rf_model = RandomForestRegressor(**best_rf_params)\n",
    "\n",
    "# Fit the model to the entire training data\n",
    "final_rf_model.fit(X_train, y_train)\n",
    "\n",
    "# Make predictions on the test set\n",
    "y_pred_test = final_rf_model.predict(X_test)\n",
    "\n",
    "# Calculate evaluation metrics on the test set\n",
    "final_rf_r2 = r2_score(y_test, y_pred_test)\n",
    "final_rf_mse = mean_squared_error(y_test, y_pred_test)\n",
    "final_rf_mae = mean_absolute_error(y_test, y_pred_test)\n",
    "\n",
    "# Print the evaluation metrics\n",
    "print(\"Final Random Forest Model Evaluation on Test Set:\")\n",
    "print(\"R-squared:\", final_rf_r2)\n",
    "print(\"Mean Squared Error:\", final_rf_mse)\n",
    "print(\"Mean Absolute Error:\", final_rf_mae)"
   ]
  },
  {
   "cell_type": "markdown",
   "id": "ef832d18",
   "metadata": {},
   "source": [
    "# 6. AdaBoost<a class=\"anchor\" id=\"AdaBoost\"></a>"
   ]
  },
  {
   "cell_type": "markdown",
   "id": "37d1ea82",
   "metadata": {},
   "source": [
    "**Initial Model**"
   ]
  },
  {
   "cell_type": "code",
   "execution_count": 42,
   "id": "886bac95",
   "metadata": {},
   "outputs": [
    {
     "name": "stdout",
     "output_type": "stream",
     "text": [
      "Initial AdaBoost Model Evaluation on Training Data:\n",
      "R-squared: 0.8478120702691333\n",
      "Mean Squared Error: 0.1265956803328159\n",
      "Mean Absolute Error: 0.3012211891487827\n"
     ]
    }
   ],
   "source": [
    "# Initialize the initial gradient boosting model\n",
    "initial_ada_model = AdaBoostRegressor()\n",
    "\n",
    "# Perform cross-validation for initial evaluation on the training data\n",
    "initial_ada_scores = cross_validate(initial_ada_model, X_train, y_train, cv=10,\n",
    "                                   scoring=['r2', 'neg_mean_squared_error', 'neg_mean_absolute_error'])\n",
    "initial_ada_r2 = np.mean(initial_ada_scores['test_r2'])\n",
    "initial_ada_mse = -np.mean(initial_ada_scores['test_neg_mean_squared_error'])\n",
    "initial_ada_mae = -np.mean(initial_ada_scores['test_neg_mean_absolute_error'])\n",
    "\n",
    "print(\"Initial AdaBoost Model Evaluation on Training Data:\")\n",
    "print(\"R-squared:\", initial_ada_r2)\n",
    "print(\"Mean Squared Error:\", initial_ada_mse)\n",
    "print(\"Mean Absolute Error:\", initial_ada_mae)"
   ]
  },
  {
   "cell_type": "markdown",
   "id": "b6e4f3bc",
   "metadata": {},
   "source": [
    "**Hyperparameter Tuning with Cross Validation**"
   ]
  },
  {
   "cell_type": "code",
   "execution_count": 43,
   "id": "a844e648",
   "metadata": {},
   "outputs": [
    {
     "name": "stderr",
     "output_type": "stream",
     "text": [
      "/Users/emietteooms/opt/anaconda3/lib/python3.9/site-packages/sklearn/model_selection/_search.py:305: UserWarning: The total space of parameters 48 is smaller than n_iter=100. Running 48 iterations. For exhaustive searches, use GridSearchCV.\n",
      "  warnings.warn(\n"
     ]
    },
    {
     "name": "stdout",
     "output_type": "stream",
     "text": [
      "Best AdaBoost Hyperparameters:\n",
      "{'n_estimators': 500, 'learning_rate': 0.5, 'estimator': DecisionTreeRegressor(max_depth=7)}\n"
     ]
    }
   ],
   "source": [
    "# Define the hyperparameters to tune\n",
    "param_grid = {\n",
    "    'n_estimators': [50, 100, 200, 500],\n",
    "    'learning_rate': [0.01, 0.1, 0.5, 1.0],\n",
    "    'estimator': [DecisionTreeRegressor(max_depth=3), DecisionTreeRegressor(max_depth=5), DecisionTreeRegressor(max_depth=7)]\n",
    "}\n",
    "\n",
    "# Initialize the AdaBoost model\n",
    "ada_model = AdaBoostRegressor()\n",
    "\n",
    "# Perform grid search cross-validation\n",
    "ada_random_search = RandomizedSearchCV(ada_model, param_grid, cv=10, scoring='r2', n_iter = 100)\n",
    "ada_random_search.fit(X_train, y_train)\n",
    "\n",
    "# Get the best hyperparameters and model\n",
    "best_ada_params = ada_random_search.best_params_\n",
    "best_ada_model = ada_random_search.best_estimator_\n",
    "\n",
    "# Print the best hyperparameters\n",
    "print(\"Best AdaBoost Hyperparameters:\")\n",
    "print(best_ada_params)"
   ]
  },
  {
   "cell_type": "markdown",
   "id": "0f6a3323",
   "metadata": {},
   "source": [
    "**Cross Validation**"
   ]
  },
  {
   "cell_type": "code",
   "execution_count": 44,
   "id": "d059d57e",
   "metadata": {},
   "outputs": [
    {
     "name": "stdout",
     "output_type": "stream",
     "text": [
      "\n",
      "Final AdaBoost Model Evaluation on Training Data:\n",
      "R-squared: 0.9536282101872431\n",
      "Mean Squared Error: 0.038819276902883997\n",
      "Mean Absolute Error: 0.13260506291526475\n"
     ]
    }
   ],
   "source": [
    "# Perform cross-validation on the training data using the best model\n",
    "final_train_ada_scores = cross_validate(best_ada_model, X_train, y_train, cv=10,\n",
    "                                        scoring=['r2', 'neg_mean_squared_error', 'neg_mean_absolute_error'])\n",
    "final_train_ada_r2 = np.mean(final_train_ada_scores['test_r2'])\n",
    "final_train_ada_mse = -np.mean(final_train_ada_scores['test_neg_mean_squared_error'])\n",
    "final_train_ada_mae = -np.mean(final_train_ada_scores['test_neg_mean_absolute_error'])\n",
    "\n",
    "print(\"\\nFinal AdaBoost Model Evaluation on Training Data:\")\n",
    "print(\"R-squared:\", final_train_ada_r2)\n",
    "print(\"Mean Squared Error:\", final_train_ada_mse)\n",
    "print(\"Mean Absolute Error:\", final_train_ada_mae)"
   ]
  },
  {
   "cell_type": "markdown",
   "id": "4e86f31f",
   "metadata": {},
   "source": [
    "**Evaluation on Test Set**"
   ]
  },
  {
   "cell_type": "code",
   "execution_count": 45,
   "id": "126a4907",
   "metadata": {},
   "outputs": [
    {
     "name": "stdout",
     "output_type": "stream",
     "text": [
      "\n",
      "Final AdaBoost Model Evaluation on Test Set:\n",
      "R-squared: 0.9624708801926121\n",
      "Mean Squared Error: 0.029566662018019167\n",
      "Mean Absolute Error: 0.12723411959516542\n"
     ]
    }
   ],
   "source": [
    "# Initialize the AdaBoost model with the best hyperparameters\n",
    "final_ada_model = AdaBoostRegressor(**best_ada_params)\n",
    "\n",
    "# Fit the model to the entire training data\n",
    "final_ada_model.fit(X_train, y_train)\n",
    "\n",
    "# Make predictions on the test set\n",
    "y_pred_test = final_ada_model.predict(X_test)\n",
    "\n",
    "# Calculate evaluation metrics on the test set\n",
    "final_ada_r2 = r2_score(y_test, y_pred_test)\n",
    "final_ada_mse = mean_squared_error(y_test, y_pred_test)\n",
    "final_ada_mae = mean_absolute_error(y_test, y_pred_test)\n",
    "\n",
    "# Print the evaluation metrics\n",
    "print(\"\\nFinal AdaBoost Model Evaluation on Test Set:\")\n",
    "print(\"R-squared:\", final_ada_r2)\n",
    "print(\"Mean Squared Error:\", final_ada_mse)\n",
    "print(\"Mean Absolute Error:\", final_ada_mae)"
   ]
  },
  {
   "cell_type": "markdown",
   "id": "1c498b59",
   "metadata": {},
   "source": [
    "# 7. Gradient Boosting Regression Trees (GBRT)<a class=\"anchor\" id=\"GBRT\"></a>"
   ]
  },
  {
   "cell_type": "markdown",
   "id": "c9430a54",
   "metadata": {},
   "source": [
    "**Initial Model**"
   ]
  },
  {
   "cell_type": "code",
   "execution_count": 46,
   "id": "6123496d",
   "metadata": {},
   "outputs": [
    {
     "name": "stdout",
     "output_type": "stream",
     "text": [
      "Initial Gradient Boosting Model Evaluation on Training Data:\n",
      "R-squared: 0.9635505207066641\n",
      "Mean Squared Error: 0.03062316038370789\n",
      "Mean Absolute Error: 0.10245665941705695\n"
     ]
    }
   ],
   "source": [
    "# Initialize the initial gradient boosting model\n",
    "initial_gb_model = GradientBoostingRegressor()\n",
    "\n",
    "# Perform cross-validation for initial evaluation on the training data\n",
    "initial_gb_scores = cross_validate(initial_gb_model, X_train, y_train, cv=10,\n",
    "                                   scoring=['r2', 'neg_mean_squared_error', 'neg_mean_absolute_error'])\n",
    "initial_gb_r2 = np.mean(initial_gb_scores['test_r2'])\n",
    "initial_gb_mse = -np.mean(initial_gb_scores['test_neg_mean_squared_error'])\n",
    "initial_gb_mae = -np.mean(initial_gb_scores['test_neg_mean_absolute_error'])\n",
    "\n",
    "print(\"Initial Gradient Boosting Model Evaluation on Training Data:\")\n",
    "print(\"R-squared:\", initial_gb_r2)\n",
    "print(\"Mean Squared Error:\", initial_gb_mse)\n",
    "print(\"Mean Absolute Error:\", initial_gb_mae)"
   ]
  },
  {
   "cell_type": "markdown",
   "id": "fcc87b56",
   "metadata": {},
   "source": [
    "**Hyperparameter Tuning with Cross Validation**"
   ]
  },
  {
   "cell_type": "code",
   "execution_count": 47,
   "id": "750fd7a5",
   "metadata": {},
   "outputs": [
    {
     "name": "stdout",
     "output_type": "stream",
     "text": [
      "\n",
      "Best Gradient Boosting Hyperparameters:\n",
      "{'subsample': 0.7, 'n_estimators': 500, 'min_samples_split': 5, 'min_samples_leaf': 7, 'max_depth': 5, 'learning_rate': 0.1}\n"
     ]
    }
   ],
   "source": [
    "# Define the hyperparameters to tune\n",
    "param_grid = {\n",
    "    'n_estimators': [50, 100, 200, 500],\n",
    "    'learning_rate': [0.01, 0.1, 0.5, 1.0],\n",
    "    'max_depth': [None, 3, 5, 7, 10],\n",
    "    'min_samples_split': [2, 5, 7, 10],\n",
    "    'min_samples_leaf': [1, 2, 4, 7],\n",
    "    'subsample': [0.5, 0.7, 0.9, 1.0],\n",
    "}\n",
    "\n",
    "# Initialize the gradient boosting model\n",
    "gb_model = GradientBoostingRegressor()\n",
    "\n",
    "# Perform grid search cross-validation\n",
    "gb_random_search = RandomizedSearchCV(gb_model, param_grid, cv=10, scoring='r2', n_iter = 100)\n",
    "gb_random_search.fit(X_train, y_train)\n",
    "\n",
    "# Get the best hyperparameters and model\n",
    "best_gb_params = gb_random_search.best_params_\n",
    "best_gb_model = gb_random_search.best_estimator_\n",
    "\n",
    "# Print the best hyperparameters\n",
    "print(\"\\nBest Gradient Boosting Hyperparameters:\")\n",
    "print(best_gb_params)"
   ]
  },
  {
   "cell_type": "markdown",
   "id": "04be0728",
   "metadata": {},
   "source": [
    "**Cross Validation**"
   ]
  },
  {
   "cell_type": "code",
   "execution_count": 48,
   "id": "79179bf5",
   "metadata": {},
   "outputs": [
    {
     "name": "stdout",
     "output_type": "stream",
     "text": [
      "\n",
      "Final Gradient Boosting Model Evaluation on Training Data:\n",
      "R-squared: 0.9776001710476393\n",
      "Mean Squared Error: 0.018907860926887007\n",
      "Mean Absolute Error: 0.07993128861470941\n"
     ]
    }
   ],
   "source": [
    "# Perform cross-validation on the training data using the best model\n",
    "final_train_gb_scores = cross_validate(best_gb_model, X_train, y_train, cv=10,\n",
    "                                       scoring=['r2', 'neg_mean_squared_error', 'neg_mean_absolute_error'])\n",
    "final_train_gb_r2 = np.mean(final_train_gb_scores['test_r2'])\n",
    "final_train_gb_mse = -np.mean(final_train_gb_scores['test_neg_mean_squared_error'])\n",
    "final_train_gb_mae = -np.mean(final_train_gb_scores['test_neg_mean_absolute_error'])\n",
    "\n",
    "print(\"\\nFinal Gradient Boosting Model Evaluation on Training Data:\")\n",
    "print(\"R-squared:\", final_train_gb_r2)\n",
    "print(\"Mean Squared Error:\", final_train_gb_mse)\n",
    "print(\"Mean Absolute Error:\", final_train_gb_mae)\n"
   ]
  },
  {
   "cell_type": "markdown",
   "id": "af0b531c",
   "metadata": {},
   "source": [
    "**Evaluation on Test Set**"
   ]
  },
  {
   "cell_type": "code",
   "execution_count": 49,
   "id": "5d9d13a8",
   "metadata": {},
   "outputs": [
    {
     "name": "stdout",
     "output_type": "stream",
     "text": [
      "Final Gradient Boosting Model Evaluation on Test Set:\n",
      "R-squared: 0.9829435954640254\n",
      "Mean Squared Error: 0.013437590616193745\n",
      "Mean Absolute Error: 0.07239644899167794\n"
     ]
    }
   ],
   "source": [
    "# Initialize the Gradient Boosting model with the best hyperparameters\n",
    "final_gb_model = GradientBoostingRegressor(**best_gb_params)\n",
    "\n",
    "# Fit the model to the entire training data\n",
    "final_gb_model.fit(X_train, y_train)\n",
    "\n",
    "# Make predictions on the test set\n",
    "y_pred_test = final_gb_model.predict(X_test)\n",
    "\n",
    "# Calculate evaluation metrics on the test set\n",
    "final_gb_r2 = r2_score(y_test, y_pred_test)\n",
    "final_gb_mse = mean_squared_error(y_test, y_pred_test)\n",
    "final_gb_mae = mean_absolute_error(y_test, y_pred_test)\n",
    "\n",
    "# Print the evaluation metrics\n",
    "print(\"Final Gradient Boosting Model Evaluation on Test Set:\")\n",
    "print(\"R-squared:\", final_gb_r2)\n",
    "print(\"Mean Squared Error:\", final_gb_mse)\n",
    "print(\"Mean Absolute Error:\", final_gb_mae)"
   ]
  },
  {
   "cell_type": "markdown",
   "id": "acd93efa",
   "metadata": {},
   "source": [
    "# 8. XGBoost<a class=\"anchor\" id=\"XGBoost\"></a>"
   ]
  },
  {
   "cell_type": "markdown",
   "id": "f260ebdc",
   "metadata": {},
   "source": [
    "**Initial Model**"
   ]
  },
  {
   "cell_type": "code",
   "execution_count": 50,
   "id": "08633618",
   "metadata": {},
   "outputs": [
    {
     "name": "stdout",
     "output_type": "stream",
     "text": [
      "Initial XGBoost Model Evaluation on Training Data:\n",
      "R-squared: 0.96401158386285\n",
      "Mean Squared Error: 0.030142366526516362\n",
      "Mean Absolute Error: 0.10240303726402569\n"
     ]
    }
   ],
   "source": [
    "# Initialize the initial XGBoost model\n",
    "initial_xgb_model = XGBRegressor()\n",
    "\n",
    "# Perform cross-validation for initial evaluation on the training data\n",
    "initial_xgb_scores = cross_validate(initial_xgb_model, X_train, y_train, cv=10,\n",
    "                                    scoring=['r2', 'neg_mean_squared_error', 'neg_mean_absolute_error'])\n",
    "initial_xgb_r2 = np.mean(initial_xgb_scores['test_r2'])\n",
    "initial_xgb_mse = -np.mean(initial_xgb_scores['test_neg_mean_squared_error'])\n",
    "initial_xgb_mae = -np.mean(initial_xgb_scores['test_neg_mean_absolute_error'])\n",
    "\n",
    "print(\"Initial XGBoost Model Evaluation on Training Data:\")\n",
    "print(\"R-squared:\", initial_xgb_r2)\n",
    "print(\"Mean Squared Error:\", initial_xgb_mse)\n",
    "print(\"Mean Absolute Error:\", initial_xgb_mae)"
   ]
  },
  {
   "cell_type": "markdown",
   "id": "44d8e7c6",
   "metadata": {},
   "source": [
    "**Hyperparameter Tuning with Cross Validation**"
   ]
  },
  {
   "cell_type": "code",
   "execution_count": 51,
   "id": "6f33160f",
   "metadata": {},
   "outputs": [
    {
     "name": "stdout",
     "output_type": "stream",
     "text": [
      "\n",
      "Best XGBoost Hyperparameters:\n",
      "{'subsample': 0.1, 'reg_lambda': 0.1, 'reg_alpha': 0, 'n_estimators': 200, 'min_child_weight': 3, 'max_depth': 7, 'learning_rate': 0.1, 'gamma': 0, 'colsample_bytree': 0.7}\n"
     ]
    }
   ],
   "source": [
    "# Define the hyperparameters to tune\n",
    "param_grid = {\n",
    "    'n_estimators': [50, 100, 200, 500],\n",
    "    'learning_rate': [0.01, 0.1, 0.5, 1.0],\n",
    "    'max_depth': [None, 3, 5, 7, 10],\n",
    "    'min_child_weight': [1, 3, 5, 7, 10],\n",
    "    'gamma': [0, 0.1, 0.5, 1.0, 10],\n",
    "    'subsample': [0, 0.1, 0.5, 0.7, 0.9, 1.0],\n",
    "    'colsample_bytree': [0, 0.1, 0.5, 0.7, 0.9, 1.0],\n",
    "    'reg_alpha': [0, 0.1, 0.5, 1.0],\n",
    "    'reg_lambda': [0, 0.1, 0.5, 1.0]\n",
    "}\n",
    "\n",
    "# Initialize the XGBoost model\n",
    "xgb_model = XGBRegressor()\n",
    "\n",
    "# Perform grid search cross-validation\n",
    "xgb_random_search = RandomizedSearchCV(xgb_model, param_grid, cv=10, scoring='r2', n_iter = 100)\n",
    "xgb_random_search.fit(X_train, y_train)\n",
    "\n",
    "# Get the best hyperparameters and model\n",
    "best_xgb_params = xgb_random_search.best_params_\n",
    "best_xgb_model = xgb_random_search.best_estimator_\n",
    "\n",
    "# Print the best hyperparameters\n",
    "print(\"\\nBest XGBoost Hyperparameters:\")\n",
    "print(best_xgb_params)"
   ]
  },
  {
   "cell_type": "markdown",
   "id": "7c960d99",
   "metadata": {},
   "source": [
    "**Cross Validation**"
   ]
  },
  {
   "cell_type": "code",
   "execution_count": 52,
   "id": "af4179c3",
   "metadata": {},
   "outputs": [
    {
     "name": "stdout",
     "output_type": "stream",
     "text": [
      "\n",
      "Final XGBoost Model Evaluation on Training Data:\n",
      "R-squared: 0.9663203748785707\n",
      "Mean Squared Error: 0.027855187455507923\n",
      "Mean Absolute Error: 0.11312029360435587\n"
     ]
    }
   ],
   "source": [
    "# Perform cross-validation on the training data using the best model\n",
    "final_train_xgb_scores = cross_validate(best_xgb_model, X_train, y_train, cv=10,\n",
    "                                        scoring=['r2', 'neg_mean_squared_error', 'neg_mean_absolute_error'])\n",
    "final_train_xgb_r2 = np.mean(final_train_xgb_scores['test_r2'])\n",
    "final_train_xgb_mse = -np.mean(final_train_xgb_scores['test_neg_mean_squared_error'])\n",
    "final_train_xgb_mae = -np.mean(final_train_xgb_scores['test_neg_mean_absolute_error'])\n",
    "\n",
    "print(\"\\nFinal XGBoost Model Evaluation on Training Data:\")\n",
    "print(\"R-squared:\", final_train_xgb_r2)\n",
    "print(\"Mean Squared Error:\", final_train_xgb_mse)\n",
    "print(\"Mean Absolute Error:\", final_train_xgb_mae)"
   ]
  },
  {
   "cell_type": "markdown",
   "id": "5bd48dad",
   "metadata": {},
   "source": [
    "**Evaluation on Test Set**"
   ]
  },
  {
   "cell_type": "code",
   "execution_count": 53,
   "id": "0b1c87f2",
   "metadata": {
    "scrolled": true
   },
   "outputs": [
    {
     "name": "stdout",
     "output_type": "stream",
     "text": [
      "Final XGBoost Model Evaluation on Test Set:\n",
      "R-squared: 0.9680420532925356\n",
      "Mean Squared Error: 0.02517751052886295\n",
      "Mean Absolute Error: 0.11517125521393987\n"
     ]
    }
   ],
   "source": [
    "# Initialize the XGBoost model with the best hyperparameters\n",
    "final_xgb_model = XGBRegressor(**best_xgb_params)\n",
    "\n",
    "# Fit the model to the entire training data\n",
    "final_xgb_model.fit(X_train, y_train)\n",
    "\n",
    "# Make predictions on the test set\n",
    "y_pred_test = final_xgb_model.predict(X_test)\n",
    "\n",
    "# Calculate evaluation metrics on the test set\n",
    "final_xgb_r2 = r2_score(y_test, y_pred_test)\n",
    "final_xgb_mse = mean_squared_error(y_test, y_pred_test)\n",
    "final_xgb_mae = mean_absolute_error(y_test, y_pred_test)\n",
    "\n",
    "# Print the evaluation metrics\n",
    "print(\"Final XGBoost Model Evaluation on Test Set:\")\n",
    "print(\"R-squared:\", final_xgb_r2)\n",
    "print(\"Mean Squared Error:\", final_xgb_mse)\n",
    "print(\"Mean Absolute Error:\", final_xgb_mae)"
   ]
  },
  {
   "cell_type": "markdown",
   "id": "438bfb92",
   "metadata": {},
   "source": [
    "# 9. Support Vector Regressor (SVR)<a class=\"anchor\" id=\"SVR\"></a>"
   ]
  },
  {
   "cell_type": "markdown",
   "id": "1bea0c5b",
   "metadata": {},
   "source": [
    "**Initial Model**"
   ]
  },
  {
   "cell_type": "code",
   "execution_count": 54,
   "id": "691dc5dd",
   "metadata": {},
   "outputs": [
    {
     "name": "stdout",
     "output_type": "stream",
     "text": [
      "Initial SVR Model Evaluation on Training Data:\n",
      "R-squared: -0.014105883840641343\n",
      "Mean Squared Error: 0.8489699009091943\n",
      "Mean Absolute Error: 0.7515954228919342\n"
     ]
    }
   ],
   "source": [
    "# Initialize the initial SVR model\n",
    "initial_svr_model = SVR()\n",
    "\n",
    "# Perform cross-validation for initial evaluation on the training data\n",
    "initial_svr_scores = cross_validate(initial_svr_model, X_train, y_train, cv=10,\n",
    "                                    scoring=['r2', 'neg_mean_squared_error', 'neg_mean_absolute_error'])\n",
    "initial_svr_r2 = np.mean(initial_svr_scores['test_r2'])\n",
    "initial_svr_mse = -np.mean(initial_svr_scores['test_neg_mean_squared_error'])\n",
    "initial_svr_mae = -np.mean(initial_svr_scores['test_neg_mean_absolute_error'])\n",
    "\n",
    "print(\"Initial SVR Model Evaluation on Training Data:\")\n",
    "print(\"R-squared:\", initial_svr_r2)\n",
    "print(\"Mean Squared Error:\", initial_svr_mse)\n",
    "print(\"Mean Absolute Error:\", initial_svr_mae)"
   ]
  },
  {
   "cell_type": "markdown",
   "id": "1e47e42f",
   "metadata": {},
   "source": [
    "**Hyperparameter Tuning with Cross Validation**"
   ]
  },
  {
   "cell_type": "code",
   "execution_count": 55,
   "id": "5b58a72b",
   "metadata": {},
   "outputs": [
    {
     "name": "stdout",
     "output_type": "stream",
     "text": [
      "\n",
      "Best SVR Hyperparameters:\n",
      "{'C': 100.0, 'epsilon': 0.01, 'gamma': 0.01}\n"
     ]
    }
   ],
   "source": [
    "# Define the hyperparameters to tune\n",
    "param_grid = {\n",
    "    'C': [0.1, 1.0, 10.0, 100.0],\n",
    "    'epsilon': [0.01, 0.1, 1.0],\n",
    "    'gamma': [0.01, 0.1, 1.0]\n",
    "}\n",
    "\n",
    "# Initialize the SVR model\n",
    "svr_model = SVR()\n",
    "\n",
    "# Perform grid search cross-validation\n",
    "svr_grid_search = GridSearchCV(svr_model, param_grid, cv=10, scoring='r2')\n",
    "svr_grid_search.fit(X_train, y_train)\n",
    "\n",
    "# Get the best hyperparameters and model\n",
    "best_svr_params = svr_grid_search.best_params_\n",
    "best_svr_model = svr_grid_search.best_estimator_\n",
    "\n",
    "# Print the best hyperparameters\n",
    "print(\"\\nBest SVR Hyperparameters:\")\n",
    "print(best_svr_params)"
   ]
  },
  {
   "cell_type": "markdown",
   "id": "bf6255c7",
   "metadata": {},
   "source": [
    "**Cross Validation**"
   ]
  },
  {
   "cell_type": "code",
   "execution_count": 56,
   "id": "d1554189",
   "metadata": {},
   "outputs": [
    {
     "name": "stdout",
     "output_type": "stream",
     "text": [
      "\n",
      "Final SVR Model Evaluation on Training Data:\n",
      "R-squared: 0.6032843375517488\n",
      "Mean Squared Error: 0.3318592758392348\n",
      "Mean Absolute Error: 0.41573421312813635\n"
     ]
    }
   ],
   "source": [
    "# Perform cross-validation on the training data using the best model\n",
    "final_train_svr_scores = cross_validate(best_svr_model, X_train, y_train, cv=10,\n",
    "                                        scoring=['r2', 'neg_mean_squared_error', 'neg_mean_absolute_error'])\n",
    "final_train_svr_r2 = np.mean(final_train_svr_scores['test_r2'])\n",
    "final_train_svr_mse = -np.mean(final_train_svr_scores['test_neg_mean_squared_error'])\n",
    "final_train_svr_mae = -np.mean(final_train_svr_scores['test_neg_mean_absolute_error'])\n",
    "\n",
    "print(\"\\nFinal SVR Model Evaluation on Training Data:\")\n",
    "print(\"R-squared:\", final_train_svr_r2)\n",
    "print(\"Mean Squared Error:\", final_train_svr_mse)\n",
    "print(\"Mean Absolute Error:\", final_train_svr_mae)"
   ]
  },
  {
   "cell_type": "markdown",
   "id": "9c3c9918",
   "metadata": {},
   "source": [
    "**Evaluation on Test Set**"
   ]
  },
  {
   "cell_type": "code",
   "execution_count": 57,
   "id": "67d4e619",
   "metadata": {},
   "outputs": [
    {
     "name": "stdout",
     "output_type": "stream",
     "text": [
      "Final SVR Model Evaluation on Test Set:\n",
      "R-squared: 0.6417196157521873\n",
      "Mean Squared Error: 0.28226494740907154\n",
      "Mean Absolute Error: 0.39523698161282556\n"
     ]
    }
   ],
   "source": [
    "# Initialize the SVR model with the best hyperparameters\n",
    "final_svr_model = SVR(**best_svr_params)\n",
    "\n",
    "# Fit the model to the entire training data\n",
    "final_svr_model.fit(X_train, y_train)\n",
    "\n",
    "# Make predictions on the test set\n",
    "y_pred_test = final_svr_model.predict(X_test)\n",
    "\n",
    "# Calculate evaluation metrics on the test set\n",
    "final_svr_r2 = r2_score(y_test, y_pred_test)\n",
    "final_svr_mse = mean_squared_error(y_test, y_pred_test)\n",
    "final_svr_mae = mean_absolute_error(y_test, y_pred_test)\n",
    "\n",
    "# Print the evaluation metrics\n",
    "print(\"Final SVR Model Evaluation on Test Set:\")\n",
    "print(\"R-squared:\", final_svr_r2)\n",
    "print(\"Mean Squared Error:\", final_svr_mse)\n",
    "print(\"Mean Absolute Error:\", final_svr_mae)"
   ]
  },
  {
   "cell_type": "markdown",
   "id": "afd36635",
   "metadata": {},
   "source": [
    "# 10. Comparison of Initial Models<a class=\"anchor\" id=\"Initial\"></a>"
   ]
  },
  {
   "cell_type": "markdown",
   "id": "08e04750",
   "metadata": {},
   "source": [
    "This step involves evaluating the performance of the initial machine learning models on the training data before hyperparameter tuning was performed. The evaluation metrics used here are R-squared, Mean Squared Error (MSE), and Mean Absolute Error (MAE). These metrics help us understand how well the models fit the training data and how accurate their predictions are."
   ]
  },
  {
   "cell_type": "code",
   "execution_count": 58,
   "id": "9ad647b6",
   "metadata": {},
   "outputs": [
    {
     "name": "stdout",
     "output_type": "stream",
     "text": [
      "Initial Model Performances:\n",
      "               Model  R-squared (Train)  MSE (Train)  MAE (Train)\n",
      "0      Decision Tree               0.90         0.08         0.17\n",
      "1      Random Forest               0.95         0.04         0.11\n",
      "2           AdaBoost               0.85         0.13         0.30\n",
      "3  Gradient Boosting               0.96         0.03         0.10\n",
      "4            XGBoost               0.96         0.03         0.10\n",
      "5                SVR              -0.01         0.85         0.75\n"
     ]
    }
   ],
   "source": [
    "# Create a dictionary to store the evaluation metrics\n",
    "metrics = {\n",
    "    'Model': ['Decision Tree', 'Random Forest', 'AdaBoost','Gradient Boosting', 'XGBoost', 'SVR'],\n",
    "    'R-squared (Train)': [initial_dt_r2, initial_rf_r2, initial_ada_r2, initial_gb_r2, initial_xgb_r2, initial_svr_r2],\n",
    "    'MSE (Train)': [initial_dt_mse, initial_rf_mse, initial_ada_mse, initial_gb_mse, initial_xgb_mse, initial_svr_mse],\n",
    "    'MAE (Train)': [initial_dt_mae, initial_rf_mae, initial_ada_mae, initial_gb_mae, initial_xgb_mae, initial_svr_mae],\n",
    "}\n",
    "\n",
    "# Create a DataFrame from the metrics dictionary\n",
    "metrics_df = pd.DataFrame(metrics)\n",
    "\n",
    "# Round the metrics to two decimal places\n",
    "metrics_df = metrics_df.round(2)\n",
    "\n",
    "# Print the table\n",
    "print(\"Initial Model Performances:\")\n",
    "print(metrics_df)"
   ]
  },
  {
   "cell_type": "markdown",
   "id": "a416ed1a",
   "metadata": {},
   "source": [
    "# 11. Optimal Hyperparameters Found<a class=\"anchor\" id=\"Hyperparameters\"></a>"
   ]
  },
  {
   "cell_type": "markdown",
   "id": "563946e6",
   "metadata": {},
   "source": [
    "After comparing the initial models, this step identifies the best hyperparameters for each model that produce the highest performance on the training data. Hyperparameters are settings that are not learned from the data but rather specified before training the model. Finding the optimal hyperparameters is crucial for getting the best possible performance from each model."
   ]
  },
  {
   "cell_type": "code",
   "execution_count": 59,
   "id": "99241c18",
   "metadata": {},
   "outputs": [
    {
     "name": "stdout",
     "output_type": "stream",
     "text": [
      "Decision Tree:\n",
      "{'ccp_alpha': 0.0, 'max_depth': None, 'min_samples_leaf': 2, 'min_samples_split': 10}\n",
      "Random Forest:\n",
      "{'n_estimators': 500, 'min_samples_split': 2, 'min_samples_leaf': 1, 'max_depth': None}\n",
      "AdaBoost:\n",
      "{'n_estimators': 500, 'learning_rate': 0.5, 'estimator': DecisionTreeRegressor(max_depth=7)}\n",
      "Gradient Boosting:\n",
      "{'subsample': 0.7, 'n_estimators': 500, 'min_samples_split': 5, 'min_samples_leaf': 7, 'max_depth': 5, 'learning_rate': 0.1}\n",
      "XGBoost:\n",
      "{'subsample': 0.1, 'reg_lambda': 0.1, 'reg_alpha': 0, 'n_estimators': 200, 'min_child_weight': 3, 'max_depth': 7, 'learning_rate': 0.1, 'gamma': 0, 'colsample_bytree': 0.7}\n",
      "SVR:\n",
      "{'C': 100.0, 'epsilon': 0.01, 'gamma': 0.01}\n"
     ]
    }
   ],
   "source": [
    "print(\"Decision Tree:\")\n",
    "print(best_dt_params)\n",
    "\n",
    "print(\"Random Forest:\")\n",
    "print(best_rf_params)\n",
    "\n",
    "print(\"AdaBoost:\")\n",
    "print(best_ada_params)\n",
    "\n",
    "print(\"Gradient Boosting:\")\n",
    "print(best_gb_params)\n",
    "\n",
    "print(\"XGBoost:\")\n",
    "print(best_xgb_params)\n",
    "\n",
    "print(\"SVR:\")\n",
    "print(best_svr_params)\n"
   ]
  },
  {
   "cell_type": "markdown",
   "id": "c795eab6",
   "metadata": {},
   "source": [
    "# 12. Comparison of Final Model Performances<a class=\"anchor\" id=\"Final\"></a>"
   ]
  },
  {
   "cell_type": "markdown",
   "id": "e7164693",
   "metadata": {},
   "source": [
    "Once the models are trained with their optimal hyperparameters, this step evaluates their performance on both the training and test data. It provides an overview of how well the models generalize to unseen data and helps to identify potential issues with overfitting or underfitting. Generalization performance is vital to ensure the model's effectiveness in real-world scenarios."
   ]
  },
  {
   "cell_type": "code",
   "execution_count": 60,
   "id": "26dfe896",
   "metadata": {},
   "outputs": [
    {
     "name": "stdout",
     "output_type": "stream",
     "text": [
      "Model Performance Comparison:\n",
      "               Model  R-squared (Train)  MSE (Train)  MAE (Train)  \\\n",
      "0  Linear Regression               0.96         0.03         0.11   \n",
      "1      Decision Tree               0.92         0.07         0.16   \n",
      "2      Random Forest               0.95         0.04         0.11   \n",
      "3           AdaBoost               0.95         0.04         0.13   \n",
      "4  Gradient Boosting               0.98         0.02         0.08   \n",
      "5            XGBoost               0.97         0.03         0.11   \n",
      "6                SVR               0.60         0.33         0.42   \n",
      "\n",
      "   R-squared (Test)  MSE (Test)  MAE (Test)  \n",
      "0              0.97        0.03        0.10  \n",
      "1              0.95        0.04        0.14  \n",
      "2              0.97        0.03        0.10  \n",
      "3              0.96        0.03        0.13  \n",
      "4              0.98        0.01        0.07  \n",
      "5              0.97        0.03        0.12  \n",
      "6              0.64        0.28        0.40  \n"
     ]
    }
   ],
   "source": [
    "# Create a dictionary to store the evaluation metrics\n",
    "metrics = {\n",
    "    'Model': ['Linear Regression', 'Decision Tree', 'Random Forest', 'AdaBoost','Gradient Boosting', 'XGBoost', 'SVR'],\n",
    "    'R-squared (Train)': [final_train_lr_r2, final_train_dt_r2, final_train_rf_r2, final_train_ada_r2, final_train_gb_r2, final_train_xgb_r2, final_train_svr_r2],\n",
    "    'MSE (Train)': [final_train_lr_mse, final_train_dt_mse, final_train_rf_mse, final_train_ada_mse, final_train_gb_mse, final_train_xgb_mse, final_train_svr_mse],\n",
    "    'MAE (Train)': [final_train_lr_mae, final_train_dt_mae, final_train_rf_mae, final_train_ada_mae, final_train_gb_mae, final_train_xgb_mae, final_train_svr_mae],\n",
    "    'R-squared (Test)': [final_lr_r2, final_dt_r2, final_rf_r2, final_ada_r2, final_gb_r2, final_xgb_r2, final_svr_r2],\n",
    "    'MSE (Test)': [final_lr_mse, final_dt_mse, final_rf_mse, final_ada_mse, final_gb_mse, final_xgb_mse, final_svr_mse],\n",
    "    'MAE (Test)': [final_lr_mae, final_dt_mae, final_rf_mae, final_ada_mae, final_gb_mae, final_xgb_mae, final_svr_mae]\n",
    "}\n",
    "\n",
    "# Create a DataFrame from the metrics dictionary\n",
    "metrics_df = pd.DataFrame(metrics)\n",
    "\n",
    "# Round the metrics to two decimal places\n",
    "metrics_df = metrics_df.round(2)\n",
    "\n",
    "# Print the table\n",
    "print(\"Model Performance Comparison:\")\n",
    "print(metrics_df)"
   ]
  },
  {
   "cell_type": "markdown",
   "id": "07d5b66a",
   "metadata": {},
   "source": [
    "# 13. Linear Regression Coefficients<a class=\"anchor\" id=\"Coefficients\"></a>"
   ]
  },
  {
   "cell_type": "markdown",
   "id": "62e3f5c7",
   "metadata": {},
   "source": [
    "This step presents the coefficients of the Linear Regression model. Coefficients indicate the strength and direction of the relationship between each feature and the target variable. Positive coefficients suggest a positive correlation, while negative coefficients suggest a negative correlation. Understanding the coefficients helps to identify which features have the most significant impact on the model's predictions."
   ]
  },
  {
   "cell_type": "code",
   "execution_count": 61,
   "id": "657963a4",
   "metadata": {
    "scrolled": false
   },
   "outputs": [
    {
     "name": "stdout",
     "output_type": "stream",
     "text": [
      "Linear Regression Coefficients:\n",
      "                              Feature  Coefficient  Abs_Coefficient\n",
      "0              timeInTransitInMinutes         1.07             1.07\n",
      "1                   vehicleEfficiency         1.03             1.03\n",
      "2           confirmationTimeInMinutes         0.75             0.75\n",
      "3   timeConfirmationToPickupInMinutes         0.75             0.75\n",
      "4                   estimatedDistance         0.66             0.66\n",
      "5                  Region_Westminster         0.55             0.55\n",
      "6                       Region_Merton         0.28             0.28\n",
      "7                                year         0.22             0.22\n",
      "8               volume_category_Small         0.11             0.11\n",
      "9                    numberOfDropoffs         0.11             0.11\n",
      "10                    numberOfReturns         0.07             0.07\n",
      "11      business_vs_Customer_business         0.06             0.06\n",
      "12              businessType_Pharmacy         0.03             0.03\n",
      "13                              month         0.02             0.02\n",
      "14                      Season_Summer         0.02             0.02\n",
      "15              businessType_Retailer         0.02             0.02\n",
      "16                  timeOfDay_Evening         0.02             0.02\n",
      "17        collectionDurationInMinutes         0.02             0.02\n",
      "18      business_vs_Customer_customer         0.01             0.01\n",
      "19                      Season_Spring         0.01             0.01\n",
      "20            isMultidropCourierOrder         0.01             0.01\n",
      "21                timeOfDay_Afternoon         0.01             0.01\n",
      "22                                day         0.00             0.00\n",
      "23                            orderID        -0.00             0.00\n",
      "24                      Season_Autumn        -0.01             0.01\n",
      "25               businessType_Florist        -0.01             0.01\n",
      "26                      Season_Winter        -0.02             0.02\n",
      "27         businessType_Grocery store        -0.02             0.02\n",
      "28                 businessType_Other        -0.02             0.02\n",
      "29                  timeOfDay_Morning        -0.03             0.03\n",
      "30             volume_category_Medium        -0.04             0.04\n",
      "31                grandTotalAmount(£)        -0.05             0.05\n",
      "32              volume_category_Other        -0.07             0.07\n",
      "33                   numberOfPackages        -0.07             0.07\n",
      "34         business_vs_Customer_other        -0.07             0.07\n",
      "35                     Region_Lambeth        -0.08             0.08\n",
      "36                  isExpressDelivery        -0.09             0.09\n",
      "37                   Region_Islington        -0.13             0.13\n",
      "38                  Region_Wandsworth        -0.14             0.14\n",
      "39      Region_Kensington and Chelsea        -0.14             0.14\n",
      "40      Region_Hammersmith and Fulham        -0.17             0.17\n",
      "41                   Region_Southwark        -0.17             0.17\n"
     ]
    }
   ],
   "source": [
    "# Get the coefficients\n",
    "coefficients = final_lr_model.coef_\n",
    "\n",
    "# Get the corresponding feature names\n",
    "feature_names = X_train_transformed.columns \n",
    "\n",
    "# Create a DataFrame to display the coefficients\n",
    "coefficients_df = pd.DataFrame({'Feature': feature_names, 'Coefficient': coefficients})\n",
    "\n",
    "# Round the coefficients to 2 decimal places\n",
    "coefficients_df['Coefficient'] = coefficients_df['Coefficient'].round(2)\n",
    "\n",
    "# Sort the coefficients by absolute value in descending order\n",
    "coefficients_df['Abs_Coefficient'] = np.abs(coefficients_df['Coefficient'])\n",
    "coefficients_df = coefficients_df.sort_values('Coefficient', ascending=False).reset_index(drop=True)\n",
    "\n",
    "# Display the coefficients\n",
    "print(\"Linear Regression Coefficients:\")\n",
    "print(coefficients_df)\n"
   ]
  },
  {
   "cell_type": "markdown",
   "id": "1e78b78d",
   "metadata": {},
   "source": [
    "# 14. Feature Importance Analysis<a class=\"anchor\" id=\"Feature\"></a>"
   ]
  },
  {
   "cell_type": "markdown",
   "id": "83d5d74c",
   "metadata": {},
   "source": [
    "For ensemble models like Decision Tree, Random Forest, AdaBoost, Gradient Boosting, and XGBoost, feature importance analysis is performed. This analysis helps identify the most important features that contribute the most to the model's decision-making process. Knowing which features are crucial allows us to focus on them during data collection and feature engineering, leading to better model performance."
   ]
  },
  {
   "cell_type": "code",
   "execution_count": 62,
   "id": "835de74a",
   "metadata": {},
   "outputs": [
    {
     "name": "stdout",
     "output_type": "stream",
     "text": [
      "Decision Tree - Top 5 Feature Importances:\n",
      "timeConfirmationToPickupInMinutes : 0.6630292350815192\n",
      "timeInTransitInMinutes : 0.2783080155924634\n",
      "vehicleEfficiency : 0.03250667575459349\n",
      "confirmationTimeInMinutes : 0.018734724048914995\n",
      "estimatedDistance : 0.0029818890438075047\n",
      "\n",
      "Random Forest - Top 5 Feature Importances:\n",
      "timeConfirmationToPickupInMinutes : 0.6581510397948431\n",
      "timeInTransitInMinutes : 0.2727652401921539\n",
      "vehicleEfficiency : 0.027393111316441558\n",
      "confirmationTimeInMinutes : 0.01723041774787478\n",
      "estimatedDistance : 0.008126078545941428\n",
      "\n",
      "AdaBoost - Top 5 Feature Importances:\n",
      "timeConfirmationToPickupInMinutes : 0.6287223812724876\n",
      "timeInTransitInMinutes : 0.2141784194619274\n",
      "vehicleEfficiency : 0.0670819319008566\n",
      "estimatedDistance : 0.032817038430019964\n",
      "confirmationTimeInMinutes : 0.023948562655506055\n",
      "\n",
      "Gradient Boosting - Top 5 Feature Importances:\n",
      "timeConfirmationToPickupInMinutes : 0.6438373780719999\n",
      "timeInTransitInMinutes : 0.26247352092456894\n",
      "vehicleEfficiency : 0.03960326653023939\n",
      "confirmationTimeInMinutes : 0.023464415219040274\n",
      "estimatedDistance : 0.01927899781872632\n",
      "\n",
      "XGBoost - Top 5 Feature Importances:\n",
      "volume_category_Medium : 0.18116419\n",
      "timeConfirmationToPickupInMinutes : 0.17109837\n",
      "volume_category_Other : 0.06597997\n",
      "estimatedDistance : 0.0533756\n",
      "timeInTransitInMinutes : 0.05192626\n"
     ]
    }
   ],
   "source": [
    "# Decision Tree\n",
    "dt_feature_importances = best_dt_model.feature_importances_\n",
    "top_dt_features = sorted(zip(dt_feature_importances, X.columns), reverse=True)[:5]\n",
    "print(\"Decision Tree - Top 5 Feature Importances:\")\n",
    "for importance, feature in top_dt_features:\n",
    "    print(feature, \":\", importance)\n",
    "\n",
    "# Random Forest\n",
    "rf_feature_importances = best_rf_model.feature_importances_\n",
    "top_rf_features = sorted(zip(rf_feature_importances, X.columns), reverse=True)[:5]\n",
    "print(\"\\nRandom Forest - Top 5 Feature Importances:\")\n",
    "for importance, feature in top_rf_features:\n",
    "    print(feature, \":\", importance)\n",
    "\n",
    "# AdaBoost\n",
    "ada_feature_importances = best_ada_model.feature_importances_\n",
    "top_ada_features = sorted(zip(ada_feature_importances, X.columns), reverse=True)[:5]\n",
    "print(\"\\nAdaBoost - Top 5 Feature Importances:\")\n",
    "for importance, feature in top_ada_features:\n",
    "    print(feature, \":\", importance)\n",
    "\n",
    "# Gradient Boosting\n",
    "gb_feature_importances = best_gb_model.feature_importances_\n",
    "top_gb_features = sorted(zip(gb_feature_importances, X.columns), reverse=True)[:5]\n",
    "print(\"\\nGradient Boosting - Top 5 Feature Importances:\")\n",
    "for importance, feature in top_gb_features:\n",
    "    print(feature, \":\", importance)\n",
    "\n",
    "# XGBoost\n",
    "xgb_feature_importances = best_xgb_model.feature_importances_\n",
    "top_xgb_features = sorted(zip(xgb_feature_importances, X.columns), reverse=True)[:5]\n",
    "print(\"\\nXGBoost - Top 5 Feature Importances:\")\n",
    "for importance, feature in top_xgb_features:\n",
    "    print(feature, \":\", importance)"
   ]
  },
  {
   "cell_type": "code",
   "execution_count": null,
   "id": "be3d1bde",
   "metadata": {},
   "outputs": [],
   "source": []
  }
 ],
 "metadata": {
  "kernelspec": {
   "display_name": "Python 3 (ipykernel)",
   "language": "python",
   "name": "python3"
  },
  "language_info": {
   "codemirror_mode": {
    "name": "ipython",
    "version": 3
   },
   "file_extension": ".py",
   "mimetype": "text/x-python",
   "name": "python",
   "nbconvert_exporter": "python",
   "pygments_lexer": "ipython3",
   "version": "3.9.12"
  }
 },
 "nbformat": 4,
 "nbformat_minor": 5
}
