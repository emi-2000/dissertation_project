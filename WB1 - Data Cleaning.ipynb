{
 "cells": [
  {
   "cell_type": "markdown",
   "id": "cf9215f7",
   "metadata": {},
   "source": [
    "# WB1 - Data Cleaning"
   ]
  },
  {
   "cell_type": "markdown",
   "id": "86ba7779",
   "metadata": {},
   "source": [
    "## Table of Contents\n",
    "\n",
    "* [1. Overview of the Dataset](#Overview)\n",
    "* [2. Data Cleaning](#Cleaning)\n",
    "    * [Removing Variables](#Removing)\n",
    "    * [Missing Values](#Missing)\n",
    "    * [Outliers](#Outliers)\n",
    "* [3. Data Pre-Processing](#Processing)\n",
    "    * [Data Transformation](#Transformation)\n",
    "    * [Feature Engineering](#Engineering)\n",
    "* [Save Cleaned Data to CSV](#Save)"
   ]
  },
  {
   "cell_type": "markdown",
   "id": "eed25e3f",
   "metadata": {},
   "source": [
    "# 1. Overview of the Dataset<a class=\"anchor\" id=\"Overview\"></a>"
   ]
  },
  {
   "cell_type": "markdown",
   "id": "7932d27d",
   "metadata": {},
   "source": [
    "First, we import the necessary libraries and load the datasets into our code."
   ]
  },
  {
   "cell_type": "code",
   "execution_count": 1,
   "id": "786e9076",
   "metadata": {},
   "outputs": [],
   "source": [
    "# import necessary modules\n",
    "import numpy as np\n",
    "import pandas as pd\n",
    "import re\n",
    "import matplotlib.pyplot as plt\n",
    "import seaborn as sns"
   ]
  },
  {
   "cell_type": "markdown",
   "id": "04480bb8",
   "metadata": {},
   "source": [
    "Two datasets were provided by Onelivery, who extracted information from MySQL on an order-level basis, with each row representing a single order. Note that a single order may still contain one or multiple packages and dropoffs. The time scope of the datasets ranges from the launch of their service on 15th June 2021 to the most recently updated data on 26th May 2023. Overall, the data encompasses over 3300 individual orders."
   ]
  },
  {
   "cell_type": "code",
   "execution_count": 2,
   "id": "b91851cb",
   "metadata": {
    "scrolled": true
   },
   "outputs": [
    {
     "data": {
      "text/html": [
       "<div>\n",
       "<style scoped>\n",
       "    .dataframe tbody tr th:only-of-type {\n",
       "        vertical-align: middle;\n",
       "    }\n",
       "\n",
       "    .dataframe tbody tr th {\n",
       "        vertical-align: top;\n",
       "    }\n",
       "\n",
       "    .dataframe thead th {\n",
       "        text-align: right;\n",
       "    }\n",
       "</style>\n",
       "<table border=\"1\" class=\"dataframe\">\n",
       "  <thead>\n",
       "    <tr style=\"text-align: right;\">\n",
       "      <th></th>\n",
       "      <th>orderID</th>\n",
       "      <th>businessType</th>\n",
       "      <th>dateOnly</th>\n",
       "      <th>timeOnly</th>\n",
       "      <th>confirmationDateOnly</th>\n",
       "      <th>confirmationTimeOnly</th>\n",
       "      <th>packageCategoryName</th>\n",
       "      <th>packageName</th>\n",
       "      <th>packageDimensions</th>\n",
       "      <th>numberOfDropoffs</th>\n",
       "      <th>...</th>\n",
       "      <th>driverName</th>\n",
       "      <th>addressOfSenderID</th>\n",
       "      <th>scheduledDateOnly</th>\n",
       "      <th>scheduledTimeOnly</th>\n",
       "      <th>isEcoDelivery</th>\n",
       "      <th>isExpressDelivery</th>\n",
       "      <th>isScheduledDelivery</th>\n",
       "      <th>isDeliveredOnTime</th>\n",
       "      <th>isCourierOrder</th>\n",
       "      <th>isMultidropCourierOrder</th>\n",
       "    </tr>\n",
       "  </thead>\n",
       "  <tbody>\n",
       "    <tr>\n",
       "      <th>0</th>\n",
       "      <td>1014</td>\n",
       "      <td>NaN</td>\n",
       "      <td>2021-06-15</td>\n",
       "      <td>09:49:54</td>\n",
       "      <td>2021-06-15</td>\n",
       "      <td>09:54:35</td>\n",
       "      <td>businesses</td>\n",
       "      <td>Regular shopping bag</td>\n",
       "      <td>Length/Width/Height -- 50cm/40cm/25cm</td>\n",
       "      <td>1</td>\n",
       "      <td>...</td>\n",
       "      <td>NaN</td>\n",
       "      <td>cd9b0e63abd649738acce5ee56ce7459</td>\n",
       "      <td>NaN</td>\n",
       "      <td>NaN</td>\n",
       "      <td>NaN</td>\n",
       "      <td>NaN</td>\n",
       "      <td>NaN</td>\n",
       "      <td>NaN</td>\n",
       "      <td>1.0</td>\n",
       "      <td>NaN</td>\n",
       "    </tr>\n",
       "    <tr>\n",
       "      <th>1</th>\n",
       "      <td>1015</td>\n",
       "      <td>NaN</td>\n",
       "      <td>2021-06-15</td>\n",
       "      <td>14:45:32</td>\n",
       "      <td>2021-06-15</td>\n",
       "      <td>14:48:23</td>\n",
       "      <td>businesses</td>\n",
       "      <td>Regular shopping bag</td>\n",
       "      <td>Length/Width/Height -- 50cm/40cm/25cm</td>\n",
       "      <td>1</td>\n",
       "      <td>...</td>\n",
       "      <td>NaN</td>\n",
       "      <td>dfec9073b8be4fe3a7920d7a5fd41cad</td>\n",
       "      <td>NaN</td>\n",
       "      <td>NaN</td>\n",
       "      <td>NaN</td>\n",
       "      <td>NaN</td>\n",
       "      <td>NaN</td>\n",
       "      <td>NaN</td>\n",
       "      <td>1.0</td>\n",
       "      <td>NaN</td>\n",
       "    </tr>\n",
       "    <tr>\n",
       "      <th>2</th>\n",
       "      <td>1016</td>\n",
       "      <td>NaN</td>\n",
       "      <td>2021-06-15</td>\n",
       "      <td>15:48:21</td>\n",
       "      <td>2021-06-15</td>\n",
       "      <td>15:53:22</td>\n",
       "      <td>businesses</td>\n",
       "      <td>Regular shopping bag</td>\n",
       "      <td>Length/Width/Height -- 50cm/40cm/25cm</td>\n",
       "      <td>1</td>\n",
       "      <td>...</td>\n",
       "      <td>NaN</td>\n",
       "      <td>035bbaec6602452fab7873160b22e652</td>\n",
       "      <td>NaN</td>\n",
       "      <td>NaN</td>\n",
       "      <td>NaN</td>\n",
       "      <td>NaN</td>\n",
       "      <td>NaN</td>\n",
       "      <td>NaN</td>\n",
       "      <td>1.0</td>\n",
       "      <td>NaN</td>\n",
       "    </tr>\n",
       "    <tr>\n",
       "      <th>3</th>\n",
       "      <td>1017</td>\n",
       "      <td>NaN</td>\n",
       "      <td>2021-06-15</td>\n",
       "      <td>16:56:03</td>\n",
       "      <td>2021-06-15</td>\n",
       "      <td>17:04:38</td>\n",
       "      <td>businesses</td>\n",
       "      <td>Regular shopping bag</td>\n",
       "      <td>Length/Width/Height -- 50cm/40cm/25cm</td>\n",
       "      <td>1</td>\n",
       "      <td>...</td>\n",
       "      <td>NaN</td>\n",
       "      <td>d57ae057d5f44685bb69138c0c6f800a</td>\n",
       "      <td>NaN</td>\n",
       "      <td>NaN</td>\n",
       "      <td>NaN</td>\n",
       "      <td>NaN</td>\n",
       "      <td>NaN</td>\n",
       "      <td>NaN</td>\n",
       "      <td>1.0</td>\n",
       "      <td>NaN</td>\n",
       "    </tr>\n",
       "    <tr>\n",
       "      <th>4</th>\n",
       "      <td>1018</td>\n",
       "      <td>NaN</td>\n",
       "      <td>2021-06-16</td>\n",
       "      <td>09:55:02</td>\n",
       "      <td>2021-06-16</td>\n",
       "      <td>09:57:54</td>\n",
       "      <td>customers</td>\n",
       "      <td>Regular</td>\n",
       "      <td>Length/Width/Height -- 20cm/10cm/10cm</td>\n",
       "      <td>1</td>\n",
       "      <td>...</td>\n",
       "      <td>NaN</td>\n",
       "      <td>6c22e52af7114d118cc66846d0560177</td>\n",
       "      <td>NaN</td>\n",
       "      <td>NaN</td>\n",
       "      <td>NaN</td>\n",
       "      <td>NaN</td>\n",
       "      <td>NaN</td>\n",
       "      <td>NaN</td>\n",
       "      <td>1.0</td>\n",
       "      <td>NaN</td>\n",
       "    </tr>\n",
       "  </tbody>\n",
       "</table>\n",
       "<p>5 rows × 53 columns</p>\n",
       "</div>"
      ],
      "text/plain": [
       "   orderID businessType    dateOnly  timeOnly confirmationDateOnly  \\\n",
       "0     1014          NaN  2021-06-15  09:49:54           2021-06-15   \n",
       "1     1015          NaN  2021-06-15  14:45:32           2021-06-15   \n",
       "2     1016          NaN  2021-06-15  15:48:21           2021-06-15   \n",
       "3     1017          NaN  2021-06-15  16:56:03           2021-06-15   \n",
       "4     1018          NaN  2021-06-16  09:55:02           2021-06-16   \n",
       "\n",
       "  confirmationTimeOnly packageCategoryName           packageName  \\\n",
       "0             09:54:35          businesses  Regular shopping bag   \n",
       "1             14:48:23          businesses  Regular shopping bag   \n",
       "2             15:53:22          businesses  Regular shopping bag   \n",
       "3             17:04:38          businesses  Regular shopping bag   \n",
       "4             09:57:54           customers               Regular   \n",
       "\n",
       "                       packageDimensions  numberOfDropoffs  ... driverName  \\\n",
       "0  Length/Width/Height -- 50cm/40cm/25cm                 1  ...        NaN   \n",
       "1  Length/Width/Height -- 50cm/40cm/25cm                 1  ...        NaN   \n",
       "2  Length/Width/Height -- 50cm/40cm/25cm                 1  ...        NaN   \n",
       "3  Length/Width/Height -- 50cm/40cm/25cm                 1  ...        NaN   \n",
       "4  Length/Width/Height -- 20cm/10cm/10cm                 1  ...        NaN   \n",
       "\n",
       "                  addressOfSenderID scheduledDateOnly scheduledTimeOnly  \\\n",
       "0  cd9b0e63abd649738acce5ee56ce7459               NaN               NaN   \n",
       "1  dfec9073b8be4fe3a7920d7a5fd41cad               NaN               NaN   \n",
       "2  035bbaec6602452fab7873160b22e652               NaN               NaN   \n",
       "3  d57ae057d5f44685bb69138c0c6f800a               NaN               NaN   \n",
       "4  6c22e52af7114d118cc66846d0560177               NaN               NaN   \n",
       "\n",
       "  isEcoDelivery isExpressDelivery  isScheduledDelivery  isDeliveredOnTime  \\\n",
       "0           NaN               NaN                  NaN                NaN   \n",
       "1           NaN               NaN                  NaN                NaN   \n",
       "2           NaN               NaN                  NaN                NaN   \n",
       "3           NaN               NaN                  NaN                NaN   \n",
       "4           NaN               NaN                  NaN                NaN   \n",
       "\n",
       "  isCourierOrder  isMultidropCourierOrder  \n",
       "0            1.0                      NaN  \n",
       "1            1.0                      NaN  \n",
       "2            1.0                      NaN  \n",
       "3            1.0                      NaN  \n",
       "4            1.0                      NaN  \n",
       "\n",
       "[5 rows x 53 columns]"
      ]
     },
     "execution_count": 2,
     "metadata": {},
     "output_type": "execute_result"
    }
   ],
   "source": [
    "# Load the first dataset into a pandas DataFrame\n",
    "df1 = pd.read_csv('Order Metrics.csv')\n",
    "df1.head()"
   ]
  },
  {
   "cell_type": "code",
   "execution_count": 3,
   "id": "62d0075a",
   "metadata": {},
   "outputs": [
    {
     "data": {
      "text/plain": [
       "(3322, 53)"
      ]
     },
     "execution_count": 3,
     "metadata": {},
     "output_type": "execute_result"
    }
   ],
   "source": [
    "df1.shape"
   ]
  },
  {
   "cell_type": "markdown",
   "id": "f9a92ed1",
   "metadata": {},
   "source": [
    "The first dataset, df1, contains various columns with information related to order metrics such as orderID, businessType, dateOnly, timeOnly, confirmationDateOnly, confirmationTimeOnly, packageCategoryName, packageName, packageDimensions, numberOfDropoffs, and many others."
   ]
  },
  {
   "cell_type": "code",
   "execution_count": 4,
   "id": "5d1a867c",
   "metadata": {
    "scrolled": false
   },
   "outputs": [
    {
     "data": {
      "text/html": [
       "<div>\n",
       "<style scoped>\n",
       "    .dataframe tbody tr th:only-of-type {\n",
       "        vertical-align: middle;\n",
       "    }\n",
       "\n",
       "    .dataframe tbody tr th {\n",
       "        vertical-align: top;\n",
       "    }\n",
       "\n",
       "    .dataframe thead th {\n",
       "        text-align: right;\n",
       "    }\n",
       "</style>\n",
       "<table border=\"1\" class=\"dataframe\">\n",
       "  <thead>\n",
       "    <tr style=\"text-align: right;\">\n",
       "      <th></th>\n",
       "      <th>orderID</th>\n",
       "      <th>orderFulfillmentDate</th>\n",
       "      <th>orderFulfillmentMonth</th>\n",
       "      <th>dropoffs</th>\n",
       "      <th>returns</th>\n",
       "      <th>packages</th>\n",
       "      <th>subtotalAmount</th>\n",
       "      <th>collectionDurationInMinutes</th>\n",
       "      <th>differenceBetweenOrderOnTheWayAndFulfillmentTimeInMinutes</th>\n",
       "      <th>orderDurationInMinutes</th>\n",
       "      <th>estimatedDistance</th>\n",
       "      <th>rider</th>\n",
       "      <th>businessName</th>\n",
       "      <th>senderAddress</th>\n",
       "      <th>driverUserID</th>\n",
       "    </tr>\n",
       "  </thead>\n",
       "  <tbody>\n",
       "    <tr>\n",
       "      <th>0</th>\n",
       "      <td>4663</td>\n",
       "      <td>26-May-23</td>\n",
       "      <td>May</td>\n",
       "      <td>11</td>\n",
       "      <td>1</td>\n",
       "      <td>12</td>\n",
       "      <td>2647.0</td>\n",
       "      <td>4.0</td>\n",
       "      <td>74</td>\n",
       "      <td>78.0</td>\n",
       "      <td>7.0</td>\n",
       "      <td>9dab1279c1be47dfae91474a9da9cf84</td>\n",
       "      <td>Novapharma Limited T/ANorth End Pharmacy</td>\n",
       "      <td>100A, North End Pharmacy, North End Road, W14 9EX</td>\n",
       "      <td>9dab1279c1be47dfae91474a9da9cf84</td>\n",
       "    </tr>\n",
       "    <tr>\n",
       "      <th>1</th>\n",
       "      <td>4661</td>\n",
       "      <td>25-May-23</td>\n",
       "      <td>May</td>\n",
       "      <td>1</td>\n",
       "      <td>0</td>\n",
       "      <td>1</td>\n",
       "      <td>1350.0</td>\n",
       "      <td>4.0</td>\n",
       "      <td>37</td>\n",
       "      <td>41.0</td>\n",
       "      <td>7.5</td>\n",
       "      <td>da83aa974a4d40cc9b0318cc37579ff1</td>\n",
       "      <td>Pearl Chemist Ltd</td>\n",
       "      <td>Pharmacy Dept, St George's Hospital, Blackshaw...</td>\n",
       "      <td>da83aa974a4d40cc9b0318cc37579ff1</td>\n",
       "    </tr>\n",
       "    <tr>\n",
       "      <th>2</th>\n",
       "      <td>4660</td>\n",
       "      <td>25-May-23</td>\n",
       "      <td>May</td>\n",
       "      <td>0</td>\n",
       "      <td>0</td>\n",
       "      <td>0</td>\n",
       "      <td>619.0</td>\n",
       "      <td>NaN</td>\n",
       "      <td>19</td>\n",
       "      <td>NaN</td>\n",
       "      <td>3.0</td>\n",
       "      <td>da83aa974a4d40cc9b0318cc37579ff1</td>\n",
       "      <td>(SINGLE DROP)</td>\n",
       "      <td>345, , Fulham Road, SW10 9TW</td>\n",
       "      <td>da83aa974a4d40cc9b0318cc37579ff1</td>\n",
       "    </tr>\n",
       "    <tr>\n",
       "      <th>3</th>\n",
       "      <td>4659</td>\n",
       "      <td>25-May-23</td>\n",
       "      <td>May</td>\n",
       "      <td>0</td>\n",
       "      <td>0</td>\n",
       "      <td>0</td>\n",
       "      <td>619.0</td>\n",
       "      <td>NaN</td>\n",
       "      <td>23</td>\n",
       "      <td>NaN</td>\n",
       "      <td>3.0</td>\n",
       "      <td>da83aa974a4d40cc9b0318cc37579ff1</td>\n",
       "      <td>(SINGLE DROP)</td>\n",
       "      <td>345, , Fulham Road, SW10 9TW</td>\n",
       "      <td>da83aa974a4d40cc9b0318cc37579ff1</td>\n",
       "    </tr>\n",
       "    <tr>\n",
       "      <th>4</th>\n",
       "      <td>4658</td>\n",
       "      <td>25-May-23</td>\n",
       "      <td>May</td>\n",
       "      <td>4</td>\n",
       "      <td>0</td>\n",
       "      <td>4</td>\n",
       "      <td>1400.0</td>\n",
       "      <td>1.0</td>\n",
       "      <td>44</td>\n",
       "      <td>45.0</td>\n",
       "      <td>2.6</td>\n",
       "      <td>9f329876457d41f9843e587d58be5c47</td>\n",
       "      <td>POLYPHARM LTD t/a MANSONS PHARMACY</td>\n",
       "      <td>195, Mansons Chemist, Mansons Chemist Wandswor...</td>\n",
       "      <td>9f329876457d41f9843e587d58be5c47</td>\n",
       "    </tr>\n",
       "  </tbody>\n",
       "</table>\n",
       "</div>"
      ],
      "text/plain": [
       "   orderID orderFulfillmentDate orderFulfillmentMonth  dropoffs  returns  \\\n",
       "0     4663            26-May-23                   May        11        1   \n",
       "1     4661            25-May-23                   May         1        0   \n",
       "2     4660            25-May-23                   May         0        0   \n",
       "3     4659            25-May-23                   May         0        0   \n",
       "4     4658            25-May-23                   May         4        0   \n",
       "\n",
       "   packages  subtotalAmount  collectionDurationInMinutes  \\\n",
       "0        12          2647.0                          4.0   \n",
       "1         1          1350.0                          4.0   \n",
       "2         0           619.0                          NaN   \n",
       "3         0           619.0                          NaN   \n",
       "4         4          1400.0                          1.0   \n",
       "\n",
       "   differenceBetweenOrderOnTheWayAndFulfillmentTimeInMinutes  \\\n",
       "0                                                 74           \n",
       "1                                                 37           \n",
       "2                                                 19           \n",
       "3                                                 23           \n",
       "4                                                 44           \n",
       "\n",
       "   orderDurationInMinutes  estimatedDistance  \\\n",
       "0                    78.0                7.0   \n",
       "1                    41.0                7.5   \n",
       "2                     NaN                3.0   \n",
       "3                     NaN                3.0   \n",
       "4                    45.0                2.6   \n",
       "\n",
       "                              rider                              businessName  \\\n",
       "0  9dab1279c1be47dfae91474a9da9cf84  Novapharma Limited T/ANorth End Pharmacy   \n",
       "1  da83aa974a4d40cc9b0318cc37579ff1                         Pearl Chemist Ltd   \n",
       "2  da83aa974a4d40cc9b0318cc37579ff1                             (SINGLE DROP)   \n",
       "3  da83aa974a4d40cc9b0318cc37579ff1                             (SINGLE DROP)   \n",
       "4  9f329876457d41f9843e587d58be5c47        POLYPHARM LTD t/a MANSONS PHARMACY   \n",
       "\n",
       "                                       senderAddress  \\\n",
       "0  100A, North End Pharmacy, North End Road, W14 9EX   \n",
       "1  Pharmacy Dept, St George's Hospital, Blackshaw...   \n",
       "2                       345, , Fulham Road, SW10 9TW   \n",
       "3                       345, , Fulham Road, SW10 9TW   \n",
       "4  195, Mansons Chemist, Mansons Chemist Wandswor...   \n",
       "\n",
       "                       driverUserID  \n",
       "0  9dab1279c1be47dfae91474a9da9cf84  \n",
       "1  da83aa974a4d40cc9b0318cc37579ff1  \n",
       "2  da83aa974a4d40cc9b0318cc37579ff1  \n",
       "3  da83aa974a4d40cc9b0318cc37579ff1  \n",
       "4  9f329876457d41f9843e587d58be5c47  "
      ]
     },
     "execution_count": 4,
     "metadata": {},
     "output_type": "execute_result"
    }
   ],
   "source": [
    "# Load the second dataset into a pandas DataFrame\n",
    "df2 = pd.read_csv('All Orders.csv')\n",
    "df2.head()"
   ]
  },
  {
   "cell_type": "code",
   "execution_count": 5,
   "id": "c664789e",
   "metadata": {
    "scrolled": true
   },
   "outputs": [
    {
     "data": {
      "text/plain": [
       "(3322, 15)"
      ]
     },
     "execution_count": 5,
     "metadata": {},
     "output_type": "execute_result"
    }
   ],
   "source": [
    "df2.shape"
   ]
  },
  {
   "cell_type": "markdown",
   "id": "4a65127a",
   "metadata": {},
   "source": [
    "The second dataset, df2, provides additional details about the order fulfillment process, including columns such as orderID, orderFulfillmentDate, orderFulfillmentMonth, dropoffs, returns, packages, subtotalAmount, collectionDurationInMinutes, differenceBetweenOrderOnTheWayAndFulfillmentTimeInMinutes, estimatedDistance, rider, businessName, senderAddress, and driverUserID."
   ]
  },
  {
   "cell_type": "markdown",
   "id": "34dd2369",
   "metadata": {},
   "source": [
    "The first step is to merge these two datasets. Although some columns are identical, there are is some additional data provided in df2 that we want to merge with df1. The additional columns we wish to merge with the first dataset are as follows:\n",
    "\n",
    "- Dropoffs\n",
    "- Returns\n",
    "- senderAddress\n",
    "\n",
    "The following columns were found to either already be present in the first dataframe or not provide any additional value:\n",
    "\n",
    "- orderFulfillmentDate\n",
    "- orderFulfillmentMonth\n",
    "- subtotalAmount\n",
    "- collectionDurationinMinutes\n",
    "- differenceBetweenOrderOnTheWayAndFulfillmentTimeInMinutes\n",
    "- orderDurationinMinutes\n",
    "- estimatedDistance\n",
    "- rider\n",
    "- businessName\n",
    "- driverUserID\n",
    "\n",
    "The we can merge these two datasets by using the common column 'orderID' to create a new DataFrame named df. By merging the two datasets, we aim to combine the information from both sources and obtain a comprehensive overview of the data."
   ]
  },
  {
   "cell_type": "code",
   "execution_count": 6,
   "id": "ac800f12",
   "metadata": {},
   "outputs": [],
   "source": [
    "df1.head().to_csv('dataset1_head.csv', index=False)\n",
    "df2.head().to_csv('dataset2_head.csv', index=False)"
   ]
  },
  {
   "cell_type": "code",
   "execution_count": 7,
   "id": "cfe08920",
   "metadata": {
    "scrolled": true
   },
   "outputs": [
    {
     "data": {
      "text/html": [
       "<div>\n",
       "<style scoped>\n",
       "    .dataframe tbody tr th:only-of-type {\n",
       "        vertical-align: middle;\n",
       "    }\n",
       "\n",
       "    .dataframe tbody tr th {\n",
       "        vertical-align: top;\n",
       "    }\n",
       "\n",
       "    .dataframe thead th {\n",
       "        text-align: right;\n",
       "    }\n",
       "</style>\n",
       "<table border=\"1\" class=\"dataframe\">\n",
       "  <thead>\n",
       "    <tr style=\"text-align: right;\">\n",
       "      <th></th>\n",
       "      <th>orderID</th>\n",
       "      <th>businessType</th>\n",
       "      <th>dateOnly</th>\n",
       "      <th>timeOnly</th>\n",
       "      <th>confirmationDateOnly</th>\n",
       "      <th>confirmationTimeOnly</th>\n",
       "      <th>packageCategoryName</th>\n",
       "      <th>packageName</th>\n",
       "      <th>packageDimensions</th>\n",
       "      <th>numberOfDropoffs</th>\n",
       "      <th>...</th>\n",
       "      <th>scheduledTimeOnly</th>\n",
       "      <th>isEcoDelivery</th>\n",
       "      <th>isExpressDelivery</th>\n",
       "      <th>isScheduledDelivery</th>\n",
       "      <th>isDeliveredOnTime</th>\n",
       "      <th>isCourierOrder</th>\n",
       "      <th>isMultidropCourierOrder</th>\n",
       "      <th>returns</th>\n",
       "      <th>dropoffs</th>\n",
       "      <th>senderAddress</th>\n",
       "    </tr>\n",
       "  </thead>\n",
       "  <tbody>\n",
       "    <tr>\n",
       "      <th>0</th>\n",
       "      <td>1014</td>\n",
       "      <td>NaN</td>\n",
       "      <td>2021-06-15</td>\n",
       "      <td>09:49:54</td>\n",
       "      <td>2021-06-15</td>\n",
       "      <td>09:54:35</td>\n",
       "      <td>businesses</td>\n",
       "      <td>Regular shopping bag</td>\n",
       "      <td>Length/Width/Height -- 50cm/40cm/25cm</td>\n",
       "      <td>1</td>\n",
       "      <td>...</td>\n",
       "      <td>NaN</td>\n",
       "      <td>NaN</td>\n",
       "      <td>NaN</td>\n",
       "      <td>NaN</td>\n",
       "      <td>NaN</td>\n",
       "      <td>1.0</td>\n",
       "      <td>NaN</td>\n",
       "      <td>0</td>\n",
       "      <td>0</td>\n",
       "      <td>240, Earls Court Chemist, Earls Court Road, SW...</td>\n",
       "    </tr>\n",
       "    <tr>\n",
       "      <th>1</th>\n",
       "      <td>1015</td>\n",
       "      <td>NaN</td>\n",
       "      <td>2021-06-15</td>\n",
       "      <td>14:45:32</td>\n",
       "      <td>2021-06-15</td>\n",
       "      <td>14:48:23</td>\n",
       "      <td>businesses</td>\n",
       "      <td>Regular shopping bag</td>\n",
       "      <td>Length/Width/Height -- 50cm/40cm/25cm</td>\n",
       "      <td>1</td>\n",
       "      <td>...</td>\n",
       "      <td>NaN</td>\n",
       "      <td>NaN</td>\n",
       "      <td>NaN</td>\n",
       "      <td>NaN</td>\n",
       "      <td>NaN</td>\n",
       "      <td>1.0</td>\n",
       "      <td>NaN</td>\n",
       "      <td>0</td>\n",
       "      <td>0</td>\n",
       "      <td>240, Earls Court Chemist, Earls Court Road, SW...</td>\n",
       "    </tr>\n",
       "    <tr>\n",
       "      <th>2</th>\n",
       "      <td>1016</td>\n",
       "      <td>NaN</td>\n",
       "      <td>2021-06-15</td>\n",
       "      <td>15:48:21</td>\n",
       "      <td>2021-06-15</td>\n",
       "      <td>15:53:22</td>\n",
       "      <td>businesses</td>\n",
       "      <td>Regular shopping bag</td>\n",
       "      <td>Length/Width/Height -- 50cm/40cm/25cm</td>\n",
       "      <td>1</td>\n",
       "      <td>...</td>\n",
       "      <td>NaN</td>\n",
       "      <td>NaN</td>\n",
       "      <td>NaN</td>\n",
       "      <td>NaN</td>\n",
       "      <td>NaN</td>\n",
       "      <td>1.0</td>\n",
       "      <td>NaN</td>\n",
       "      <td>0</td>\n",
       "      <td>0</td>\n",
       "      <td>240, Earls Court Chemist, Earls Court Road, SW...</td>\n",
       "    </tr>\n",
       "    <tr>\n",
       "      <th>3</th>\n",
       "      <td>1017</td>\n",
       "      <td>NaN</td>\n",
       "      <td>2021-06-15</td>\n",
       "      <td>16:56:03</td>\n",
       "      <td>2021-06-15</td>\n",
       "      <td>17:04:38</td>\n",
       "      <td>businesses</td>\n",
       "      <td>Regular shopping bag</td>\n",
       "      <td>Length/Width/Height -- 50cm/40cm/25cm</td>\n",
       "      <td>1</td>\n",
       "      <td>...</td>\n",
       "      <td>NaN</td>\n",
       "      <td>NaN</td>\n",
       "      <td>NaN</td>\n",
       "      <td>NaN</td>\n",
       "      <td>NaN</td>\n",
       "      <td>1.0</td>\n",
       "      <td>NaN</td>\n",
       "      <td>0</td>\n",
       "      <td>0</td>\n",
       "      <td>240, Earls Court Chemist, Earls Court Road, SW...</td>\n",
       "    </tr>\n",
       "    <tr>\n",
       "      <th>4</th>\n",
       "      <td>1018</td>\n",
       "      <td>NaN</td>\n",
       "      <td>2021-06-16</td>\n",
       "      <td>09:55:02</td>\n",
       "      <td>2021-06-16</td>\n",
       "      <td>09:57:54</td>\n",
       "      <td>customers</td>\n",
       "      <td>Regular</td>\n",
       "      <td>Length/Width/Height -- 20cm/10cm/10cm</td>\n",
       "      <td>1</td>\n",
       "      <td>...</td>\n",
       "      <td>NaN</td>\n",
       "      <td>NaN</td>\n",
       "      <td>NaN</td>\n",
       "      <td>NaN</td>\n",
       "      <td>NaN</td>\n",
       "      <td>1.0</td>\n",
       "      <td>NaN</td>\n",
       "      <td>0</td>\n",
       "      <td>0</td>\n",
       "      <td>240, earls court chemist, Earls Court Road, SW...</td>\n",
       "    </tr>\n",
       "  </tbody>\n",
       "</table>\n",
       "<p>5 rows × 56 columns</p>\n",
       "</div>"
      ],
      "text/plain": [
       "   orderID businessType    dateOnly  timeOnly confirmationDateOnly  \\\n",
       "0     1014          NaN  2021-06-15  09:49:54           2021-06-15   \n",
       "1     1015          NaN  2021-06-15  14:45:32           2021-06-15   \n",
       "2     1016          NaN  2021-06-15  15:48:21           2021-06-15   \n",
       "3     1017          NaN  2021-06-15  16:56:03           2021-06-15   \n",
       "4     1018          NaN  2021-06-16  09:55:02           2021-06-16   \n",
       "\n",
       "  confirmationTimeOnly packageCategoryName           packageName  \\\n",
       "0             09:54:35          businesses  Regular shopping bag   \n",
       "1             14:48:23          businesses  Regular shopping bag   \n",
       "2             15:53:22          businesses  Regular shopping bag   \n",
       "3             17:04:38          businesses  Regular shopping bag   \n",
       "4             09:57:54           customers               Regular   \n",
       "\n",
       "                       packageDimensions  numberOfDropoffs  ...  \\\n",
       "0  Length/Width/Height -- 50cm/40cm/25cm                 1  ...   \n",
       "1  Length/Width/Height -- 50cm/40cm/25cm                 1  ...   \n",
       "2  Length/Width/Height -- 50cm/40cm/25cm                 1  ...   \n",
       "3  Length/Width/Height -- 50cm/40cm/25cm                 1  ...   \n",
       "4  Length/Width/Height -- 20cm/10cm/10cm                 1  ...   \n",
       "\n",
       "  scheduledTimeOnly isEcoDelivery isExpressDelivery isScheduledDelivery  \\\n",
       "0               NaN           NaN               NaN                 NaN   \n",
       "1               NaN           NaN               NaN                 NaN   \n",
       "2               NaN           NaN               NaN                 NaN   \n",
       "3               NaN           NaN               NaN                 NaN   \n",
       "4               NaN           NaN               NaN                 NaN   \n",
       "\n",
       "  isDeliveredOnTime isCourierOrder  isMultidropCourierOrder  returns dropoffs  \\\n",
       "0               NaN            1.0                      NaN        0        0   \n",
       "1               NaN            1.0                      NaN        0        0   \n",
       "2               NaN            1.0                      NaN        0        0   \n",
       "3               NaN            1.0                      NaN        0        0   \n",
       "4               NaN            1.0                      NaN        0        0   \n",
       "\n",
       "                                       senderAddress  \n",
       "0  240, Earls Court Chemist, Earls Court Road, SW...  \n",
       "1  240, Earls Court Chemist, Earls Court Road, SW...  \n",
       "2  240, Earls Court Chemist, Earls Court Road, SW...  \n",
       "3  240, Earls Court Chemist, Earls Court Road, SW...  \n",
       "4  240, earls court chemist, Earls Court Road, SW...  \n",
       "\n",
       "[5 rows x 56 columns]"
      ]
     },
     "execution_count": 7,
     "metadata": {},
     "output_type": "execute_result"
    }
   ],
   "source": [
    "# merge df1 with specified columns from df2\n",
    "df = pd.merge(df1, df2[['orderID', 'returns','dropoffs','senderAddress']], on='orderID')\n",
    "df.head()"
   ]
  },
  {
   "cell_type": "code",
   "execution_count": 8,
   "id": "bda6b0cb",
   "metadata": {
    "scrolled": false
   },
   "outputs": [
    {
     "data": {
      "text/html": [
       "<div>\n",
       "<style scoped>\n",
       "    .dataframe tbody tr th:only-of-type {\n",
       "        vertical-align: middle;\n",
       "    }\n",
       "\n",
       "    .dataframe tbody tr th {\n",
       "        vertical-align: top;\n",
       "    }\n",
       "\n",
       "    .dataframe thead th {\n",
       "        text-align: right;\n",
       "    }\n",
       "</style>\n",
       "<table border=\"1\" class=\"dataframe\">\n",
       "  <thead>\n",
       "    <tr style=\"text-align: right;\">\n",
       "      <th></th>\n",
       "      <th>orderID</th>\n",
       "      <th>businessType</th>\n",
       "      <th>dateOnly</th>\n",
       "      <th>timeOnly</th>\n",
       "      <th>confirmationDateOnly</th>\n",
       "      <th>confirmationTimeOnly</th>\n",
       "      <th>packageCategoryName</th>\n",
       "      <th>packageName</th>\n",
       "      <th>packageDimensions</th>\n",
       "      <th>numberOfDropoffs</th>\n",
       "      <th>...</th>\n",
       "      <th>scheduledTimeOnly</th>\n",
       "      <th>isEcoDelivery</th>\n",
       "      <th>isExpressDelivery</th>\n",
       "      <th>isScheduledDelivery</th>\n",
       "      <th>isDeliveredOnTime</th>\n",
       "      <th>isCourierOrder</th>\n",
       "      <th>isMultidropCourierOrder</th>\n",
       "      <th>returns</th>\n",
       "      <th>dropoffs</th>\n",
       "      <th>senderAddress</th>\n",
       "    </tr>\n",
       "  </thead>\n",
       "  <tbody>\n",
       "    <tr>\n",
       "      <th>0</th>\n",
       "      <td>1014</td>\n",
       "      <td>NaN</td>\n",
       "      <td>2021-06-15</td>\n",
       "      <td>09:49:54</td>\n",
       "      <td>2021-06-15</td>\n",
       "      <td>09:54:35</td>\n",
       "      <td>businesses</td>\n",
       "      <td>Regular shopping bag</td>\n",
       "      <td>Length/Width/Height -- 50cm/40cm/25cm</td>\n",
       "      <td>1</td>\n",
       "      <td>...</td>\n",
       "      <td>NaN</td>\n",
       "      <td>NaN</td>\n",
       "      <td>NaN</td>\n",
       "      <td>NaN</td>\n",
       "      <td>NaN</td>\n",
       "      <td>1.0</td>\n",
       "      <td>NaN</td>\n",
       "      <td>0</td>\n",
       "      <td>0</td>\n",
       "      <td>240, Earls Court Chemist, Earls Court Road, SW...</td>\n",
       "    </tr>\n",
       "    <tr>\n",
       "      <th>1</th>\n",
       "      <td>1015</td>\n",
       "      <td>NaN</td>\n",
       "      <td>2021-06-15</td>\n",
       "      <td>14:45:32</td>\n",
       "      <td>2021-06-15</td>\n",
       "      <td>14:48:23</td>\n",
       "      <td>businesses</td>\n",
       "      <td>Regular shopping bag</td>\n",
       "      <td>Length/Width/Height -- 50cm/40cm/25cm</td>\n",
       "      <td>1</td>\n",
       "      <td>...</td>\n",
       "      <td>NaN</td>\n",
       "      <td>NaN</td>\n",
       "      <td>NaN</td>\n",
       "      <td>NaN</td>\n",
       "      <td>NaN</td>\n",
       "      <td>1.0</td>\n",
       "      <td>NaN</td>\n",
       "      <td>0</td>\n",
       "      <td>0</td>\n",
       "      <td>240, Earls Court Chemist, Earls Court Road, SW...</td>\n",
       "    </tr>\n",
       "    <tr>\n",
       "      <th>2</th>\n",
       "      <td>1016</td>\n",
       "      <td>NaN</td>\n",
       "      <td>2021-06-15</td>\n",
       "      <td>15:48:21</td>\n",
       "      <td>2021-06-15</td>\n",
       "      <td>15:53:22</td>\n",
       "      <td>businesses</td>\n",
       "      <td>Regular shopping bag</td>\n",
       "      <td>Length/Width/Height -- 50cm/40cm/25cm</td>\n",
       "      <td>1</td>\n",
       "      <td>...</td>\n",
       "      <td>NaN</td>\n",
       "      <td>NaN</td>\n",
       "      <td>NaN</td>\n",
       "      <td>NaN</td>\n",
       "      <td>NaN</td>\n",
       "      <td>1.0</td>\n",
       "      <td>NaN</td>\n",
       "      <td>0</td>\n",
       "      <td>0</td>\n",
       "      <td>240, Earls Court Chemist, Earls Court Road, SW...</td>\n",
       "    </tr>\n",
       "    <tr>\n",
       "      <th>3</th>\n",
       "      <td>1017</td>\n",
       "      <td>NaN</td>\n",
       "      <td>2021-06-15</td>\n",
       "      <td>16:56:03</td>\n",
       "      <td>2021-06-15</td>\n",
       "      <td>17:04:38</td>\n",
       "      <td>businesses</td>\n",
       "      <td>Regular shopping bag</td>\n",
       "      <td>Length/Width/Height -- 50cm/40cm/25cm</td>\n",
       "      <td>1</td>\n",
       "      <td>...</td>\n",
       "      <td>NaN</td>\n",
       "      <td>NaN</td>\n",
       "      <td>NaN</td>\n",
       "      <td>NaN</td>\n",
       "      <td>NaN</td>\n",
       "      <td>1.0</td>\n",
       "      <td>NaN</td>\n",
       "      <td>0</td>\n",
       "      <td>0</td>\n",
       "      <td>240, Earls Court Chemist, Earls Court Road, SW...</td>\n",
       "    </tr>\n",
       "    <tr>\n",
       "      <th>4</th>\n",
       "      <td>1018</td>\n",
       "      <td>NaN</td>\n",
       "      <td>2021-06-16</td>\n",
       "      <td>09:55:02</td>\n",
       "      <td>2021-06-16</td>\n",
       "      <td>09:57:54</td>\n",
       "      <td>customers</td>\n",
       "      <td>Regular</td>\n",
       "      <td>Length/Width/Height -- 20cm/10cm/10cm</td>\n",
       "      <td>1</td>\n",
       "      <td>...</td>\n",
       "      <td>NaN</td>\n",
       "      <td>NaN</td>\n",
       "      <td>NaN</td>\n",
       "      <td>NaN</td>\n",
       "      <td>NaN</td>\n",
       "      <td>1.0</td>\n",
       "      <td>NaN</td>\n",
       "      <td>0</td>\n",
       "      <td>0</td>\n",
       "      <td>240, earls court chemist, Earls Court Road, SW...</td>\n",
       "    </tr>\n",
       "  </tbody>\n",
       "</table>\n",
       "<p>5 rows × 56 columns</p>\n",
       "</div>"
      ],
      "text/plain": [
       "   orderID businessType    dateOnly  timeOnly confirmationDateOnly  \\\n",
       "0     1014          NaN  2021-06-15  09:49:54           2021-06-15   \n",
       "1     1015          NaN  2021-06-15  14:45:32           2021-06-15   \n",
       "2     1016          NaN  2021-06-15  15:48:21           2021-06-15   \n",
       "3     1017          NaN  2021-06-15  16:56:03           2021-06-15   \n",
       "4     1018          NaN  2021-06-16  09:55:02           2021-06-16   \n",
       "\n",
       "  confirmationTimeOnly packageCategoryName           packageName  \\\n",
       "0             09:54:35          businesses  Regular shopping bag   \n",
       "1             14:48:23          businesses  Regular shopping bag   \n",
       "2             15:53:22          businesses  Regular shopping bag   \n",
       "3             17:04:38          businesses  Regular shopping bag   \n",
       "4             09:57:54           customers               Regular   \n",
       "\n",
       "                       packageDimensions  numberOfDropoffs  ...  \\\n",
       "0  Length/Width/Height -- 50cm/40cm/25cm                 1  ...   \n",
       "1  Length/Width/Height -- 50cm/40cm/25cm                 1  ...   \n",
       "2  Length/Width/Height -- 50cm/40cm/25cm                 1  ...   \n",
       "3  Length/Width/Height -- 50cm/40cm/25cm                 1  ...   \n",
       "4  Length/Width/Height -- 20cm/10cm/10cm                 1  ...   \n",
       "\n",
       "  scheduledTimeOnly isEcoDelivery isExpressDelivery isScheduledDelivery  \\\n",
       "0               NaN           NaN               NaN                 NaN   \n",
       "1               NaN           NaN               NaN                 NaN   \n",
       "2               NaN           NaN               NaN                 NaN   \n",
       "3               NaN           NaN               NaN                 NaN   \n",
       "4               NaN           NaN               NaN                 NaN   \n",
       "\n",
       "  isDeliveredOnTime isCourierOrder  isMultidropCourierOrder  returns dropoffs  \\\n",
       "0               NaN            1.0                      NaN        0        0   \n",
       "1               NaN            1.0                      NaN        0        0   \n",
       "2               NaN            1.0                      NaN        0        0   \n",
       "3               NaN            1.0                      NaN        0        0   \n",
       "4               NaN            1.0                      NaN        0        0   \n",
       "\n",
       "                                       senderAddress  \n",
       "0  240, Earls Court Chemist, Earls Court Road, SW...  \n",
       "1  240, Earls Court Chemist, Earls Court Road, SW...  \n",
       "2  240, Earls Court Chemist, Earls Court Road, SW...  \n",
       "3  240, Earls Court Chemist, Earls Court Road, SW...  \n",
       "4  240, earls court chemist, Earls Court Road, SW...  \n",
       "\n",
       "[5 rows x 56 columns]"
      ]
     },
     "execution_count": 8,
     "metadata": {},
     "output_type": "execute_result"
    }
   ],
   "source": [
    "df.head()"
   ]
  },
  {
   "cell_type": "code",
   "execution_count": 9,
   "id": "375bb077",
   "metadata": {},
   "outputs": [],
   "source": [
    "df.to_csv('merged_data.csv', index=False)"
   ]
  },
  {
   "cell_type": "markdown",
   "id": "e45d22a2",
   "metadata": {},
   "source": [
    "The merged DataFrame, df, now contains all the columns from both datasets, ensuring that relevant data from df2 is included alongside the original information from df1.\n",
    "\n",
    "To get a better understanding of the dataset, we check the shape and info of the merged DataFrame to determine the number of rows, columns, and data types."
   ]
  },
  {
   "cell_type": "code",
   "execution_count": 10,
   "id": "1fb7d77c",
   "metadata": {},
   "outputs": [
    {
     "data": {
      "text/plain": [
       "(3322, 56)"
      ]
     },
     "execution_count": 10,
     "metadata": {},
     "output_type": "execute_result"
    }
   ],
   "source": [
    "df.shape"
   ]
  },
  {
   "cell_type": "markdown",
   "id": "cf830937",
   "metadata": {},
   "source": [
    "Info"
   ]
  },
  {
   "cell_type": "code",
   "execution_count": 11,
   "id": "d5fab4c7",
   "metadata": {
    "scrolled": false
   },
   "outputs": [
    {
     "name": "stdout",
     "output_type": "stream",
     "text": [
      "<class 'pandas.core.frame.DataFrame'>\n",
      "Int64Index: 3322 entries, 0 to 3321\n",
      "Data columns (total 56 columns):\n",
      " #   Column                                                         Non-Null Count  Dtype  \n",
      "---  ------                                                         --------------  -----  \n",
      " 0   orderID                                                        3322 non-null   int64  \n",
      " 1   businessType                                                   2937 non-null   object \n",
      " 2   dateOnly                                                       3322 non-null   object \n",
      " 3   timeOnly                                                       3322 non-null   object \n",
      " 4   confirmationDateOnly                                           3321 non-null   object \n",
      " 5   confirmationTimeOnly                                           3321 non-null   object \n",
      " 6   packageCategoryName                                            1641 non-null   object \n",
      " 7   packageName                                                    1641 non-null   object \n",
      " 8   packageDimensions                                              1641 non-null   object \n",
      " 9   numberOfDropoffs                                               3322 non-null   int64  \n",
      " 10  pickUpDateOnly                                                 3322 non-null   object \n",
      " 11  pickUpTimeOnly                                                 3322 non-null   object \n",
      " 12  deliveryDateOnly                                               3322 non-null   object \n",
      " 13  deliveryTimeOnly                                               3322 non-null   object \n",
      " 14  addressOfSender                                                3321 non-null   object \n",
      " 15  addressOfRecipient                                             1655 non-null   object \n",
      " 16  estimatedDistance                                              3322 non-null   float64\n",
      " 17  differenceBetweenOrderOnTheWayAndFulfillmentTimeInMinutes      3322 non-null   int64  \n",
      " 18  estimatedPickUpTimeText                                        3321 non-null   object \n",
      " 19  differenceBetweenOrderPlacementAndFulfillmentTimeInMinutes     3322 non-null   int64  \n",
      " 20  differenceBetweenOrderPlacementAndConfirmationTimeInMinutes    3322 non-null   int64  \n",
      " 21  differenceBetweenOrderConfirmationAndPickUpTimeInMinutes       3322 non-null   int64  \n",
      " 22  differenceBetweenCollectionStartTimeAndPickUpTimeInMinutes     1666 non-null   float64\n",
      " 23  differenceBetweenOrderConfirmationAndFulfillmentTimeInMinutes  3322 non-null   int64  \n",
      " 24  collectionDurationInMinutes                                    1666 non-null   float64\n",
      " 25  vehicleEfficiency                                              3322 non-null   float64\n",
      " 26  co2SavedInGrams                                                3321 non-null   float64\n",
      " 27  processingFeeAmount                                            3322 non-null   int64  \n",
      " 28  transactionCostAmount                                          3322 non-null   int64  \n",
      " 29  packageFeeAmount                                               3319 non-null   float64\n",
      " 30  tripFeeAmount                                                  3319 non-null   float64\n",
      " 31  deliveryFeeAmount                                              3319 non-null   float64\n",
      " 32  driverUserID                                                   2605 non-null   object \n",
      " 33  serviceFeeAmount                                               3322 non-null   int64  \n",
      " 34  subtotalAmount                                                 2605 non-null   float64\n",
      " 35  taxAmount                                                      3322 non-null   int64  \n",
      " 36  grandTotalAmount                                               3322 non-null   int64  \n",
      " 37  actualDistance                                                 0 non-null      float64\n",
      " 38  packageWeightInPounds                                          1656 non-null   float64\n",
      " 39  basketID                                                       3322 non-null   object \n",
      " 40  shippingID                                                     3322 non-null   object \n",
      " 41  addressOfRecipientID                                           1656 non-null   object \n",
      " 42  userID                                                         3076 non-null   object \n",
      " 43  driverName                                                     374 non-null    object \n",
      " 44  addressOfSenderID                                              3322 non-null   object \n",
      " 45  scheduledDateOnly                                              5 non-null      object \n",
      " 46  scheduledTimeOnly                                              5 non-null      object \n",
      " 47  isEcoDelivery                                                  2772 non-null   float64\n",
      " 48  isExpressDelivery                                              2772 non-null   float64\n",
      " 49  isScheduledDelivery                                            2772 non-null   float64\n",
      " 50  isDeliveredOnTime                                              367 non-null    float64\n",
      " 51  isCourierOrder                                                 3279 non-null   float64\n",
      " 52  isMultidropCourierOrder                                        1666 non-null   float64\n",
      " 53  returns                                                        3322 non-null   int64  \n",
      " 54  dropoffs                                                       3322 non-null   int64  \n",
      " 55  senderAddress                                                  3321 non-null   object \n",
      "dtypes: float64(17), int64(14), object(25)\n",
      "memory usage: 1.4+ MB\n"
     ]
    }
   ],
   "source": [
    "df.info()"
   ]
  },
  {
   "cell_type": "markdown",
   "id": "cbae7872",
   "metadata": {},
   "source": [
    "The merged DataFrame, df, consists of 3322 rows and 56 columns, with a combination of integer, float, and object data types. The columns provide various details related to order characteristics, package information, delivery times, business details, and other relevant metrics. Understanding the data types is essential for further data processing and analysis."
   ]
  },
  {
   "cell_type": "markdown",
   "id": "18291824",
   "metadata": {},
   "source": [
    "# 2. Data Cleaning<a class=\"anchor\" id=\"Cleaning\"></a>"
   ]
  },
  {
   "cell_type": "markdown",
   "id": "8d625b38",
   "metadata": {},
   "source": [
    "Data cleaning is a crucial process that involves treating missing values, data errors, inconsistencies, and redundant data. This helps remove or mitigate potential sources of invalid or misleading information, which enhances data quality, a key factor in determining the validity and reliability of the data."
   ]
  },
  {
   "cell_type": "markdown",
   "id": "f18fb93a",
   "metadata": {},
   "source": [
    "## Removing Variables<a class=\"anchor\" id=\"Removing\"></a>"
   ]
  },
  {
   "cell_type": "markdown",
   "id": "c792b4c0",
   "metadata": {},
   "source": [
    "In this step, we identify and remove redundant variables that do not contribute unique or meaningful information to our analysis.\n",
    "\n",
    "Firstly, the company indicated some orders were placed as test orders which can be identified by the addressOfSender values. Those with the following addresses can therefore be removed:\n",
    "\n",
    "- Kings Chelsea Estates, 552, Mathison House King's Road, London, Greater London, SW10 0RR, United Kingdom of Great Britain and Northern Ireland\n",
    "- Onelivery, 552, King's Road, London, SW10 0RE, U.K.,\n",
    "- Kings, 552, King's Road, London, SW10 0RR, U.K.\n",
    "- Onelivery, 123, this is the street address, London, W11 1LA"
   ]
  },
  {
   "cell_type": "code",
   "execution_count": 12,
   "id": "1897db94",
   "metadata": {},
   "outputs": [],
   "source": [
    "# specify the list of values to drop\n",
    "values_to_drop = ['Kings Chelsea Estates, 552, Mathison House King\\'s Road, London, Greater London, SW10 0RR, United Kingdom of Great Britain and Northern Ireland', 'Onelivery, 552, King\\'s Road, London, SW10 0RE, U.K.', 'Kings, 552, King\\'s Road, London, SW10 0RR, U.K.', 'Onelivery, 123, this is the street address, London, W11 1LA,']\n",
    "\n",
    "# drop the rows that contain any of the specified values in 'addressOfSender' column\n",
    "df = df[~df['addressOfSender'].isin(values_to_drop)]"
   ]
  },
  {
   "cell_type": "markdown",
   "id": "0b2ae86b",
   "metadata": {},
   "source": [
    "All the various internally-generated ‘ID’ variables, so columns with 'ID', can be removed as these will not provide any additoinal value for our analysis (except for 'OrderID'):\n",
    "\n",
    "- driverUserID\n",
    "- basketID\n",
    "- shippingID\n",
    "- addressOfRecipientID\n",
    "- userID\n",
    "- driverName\n",
    "- addressOfSenderID"
   ]
  },
  {
   "cell_type": "code",
   "execution_count": 13,
   "id": "a80deb47",
   "metadata": {},
   "outputs": [],
   "source": [
    "# drop the specified columns\n",
    "cols_to_drop_IDs = ['driverUserID', 'basketID', 'shippingID', 'addressOfRecipientID', 'userID', 'driverName', 'addressOfSenderID']\n",
    "df = df.drop(columns=cols_to_drop_IDs)"
   ]
  },
  {
   "cell_type": "markdown",
   "id": "0b8bb5bf",
   "metadata": {},
   "source": [
    "For prices, we can only keep the 'grandTotalAmount' as we are not interested in the fee breakdown. The company explained that they do not make a distinction yet in the costs charged based on package size, distance, etc., which makes the breakdown of the fees unnecessary.\n",
    "- processingFeeAmount\n",
    "- transactionCostAmount\t\n",
    "- packageFeeAmount\t\n",
    "- tripFeeAmount\t\n",
    "- deliveryFeeAmount\t\n",
    "- serviceFeeAmount\t\n",
    "- subtotalAmount\t\n",
    "- taxAmount"
   ]
  },
  {
   "cell_type": "code",
   "execution_count": 14,
   "id": "9ea9e280",
   "metadata": {},
   "outputs": [],
   "source": [
    "# drop the specified columns\n",
    "cols_to_drop_fees = ['processingFeeAmount', 'transactionCostAmount', 'packageFeeAmount', 'tripFeeAmount', 'deliveryFeeAmount', 'serviceFeeAmount', 'subtotalAmount', 'taxAmount']\n",
    "df = df.drop(columns=cols_to_drop_fees)"
   ]
  },
  {
   "cell_type": "markdown",
   "id": "5e83dd7e",
   "metadata": {},
   "source": [
    "Seen as we already have a lot of information in minutes regarding the time it took for each delivery to be confirmed, collected, picked up, delivered, etc., we don't need the following individual columns anymore: \n",
    "- confirmationDateOnly\n",
    "- confirmationTimeOnly\n",
    "- pickUpDateOnly\n",
    "- pickUpTimeOnly\n",
    "- deliveryDateOnly\n",
    "- deliveryTimeOnly\n",
    "- estimatedPickUpTimeText\n",
    "- differenceBetweenOrderConfirmationAndFulfillmentTimeInMinutes"
   ]
  },
  {
   "cell_type": "code",
   "execution_count": 15,
   "id": "13740e27",
   "metadata": {},
   "outputs": [],
   "source": [
    "# drop the specified columns\n",
    "cols_to_drop_date_time = ['differenceBetweenOrderConfirmationAndFulfillmentTimeInMinutes','confirmationDateOnly', 'confirmationTimeOnly', 'pickUpDateOnly','pickUpTimeOnly', 'deliveryDateOnly', 'deliveryTimeOnly', 'estimatedPickUpTimeText']\n",
    "df = df.drop(columns=cols_to_drop_date_time)"
   ]
  },
  {
   "cell_type": "markdown",
   "id": "3b60c83c",
   "metadata": {},
   "source": [
    "For the isEcoDelivery and isExpressDelivery variables, it can be seen that these are complements (i.e., meaning that if one variable is 0, the other variable is 1). Since one variable can be derived from the other, including both variables may be redundant and might introduce multicollinearity in the modelling phase, which can affect the model's performance and interpretability."
   ]
  },
  {
   "cell_type": "code",
   "execution_count": 16,
   "id": "c1892ec2",
   "metadata": {},
   "outputs": [
    {
     "name": "stdout",
     "output_type": "stream",
     "text": [
      "isEcoDelivery:\n",
      " 1.0    2671\n",
      "0.0      95\n",
      "Name: isEcoDelivery, dtype: int64\n",
      "isExpressDelivery:\n",
      " 0.0    2671\n",
      "1.0      95\n",
      "Name: isExpressDelivery, dtype: int64\n"
     ]
    }
   ],
   "source": [
    "# count the number of 0 and 1 values in 'isEcoDelivery' and 'isExpressDelivery' columns\n",
    "eco_delivery_counts = df['isEcoDelivery'].value_counts()\n",
    "express_delivery_counts = df['isExpressDelivery'].value_counts()\n",
    "\n",
    "print(\"isEcoDelivery:\\n\", eco_delivery_counts)\n",
    "print(\"isExpressDelivery:\\n\", express_delivery_counts)"
   ]
  },
  {
   "cell_type": "code",
   "execution_count": 17,
   "id": "cf13a95f",
   "metadata": {},
   "outputs": [],
   "source": [
    "# drop isEcoDelivery column (if isExpressDelivery = 0, this means it is an EcoDelivery)\n",
    "df = df.drop(columns='isEcoDelivery')"
   ]
  },
  {
   "cell_type": "markdown",
   "id": "ab60203d",
   "metadata": {},
   "source": [
    "## Missing Values<a class=\"anchor\" id=\"Missing\"></a>"
   ]
  },
  {
   "cell_type": "markdown",
   "id": "376ee530",
   "metadata": {},
   "source": [
    "Next, we address the missing values in our dataset. We identify variables with missing values and apply appropriate strategies to handle them."
   ]
  },
  {
   "cell_type": "markdown",
   "id": "c7889c92",
   "metadata": {},
   "source": [
    "The dataset contains missing values in various columns. The absolute and percentage of missing values per column is as follows:"
   ]
  },
  {
   "cell_type": "code",
   "execution_count": 18,
   "id": "b080a80c",
   "metadata": {
    "scrolled": false
   },
   "outputs": [
    {
     "name": "stdout",
     "output_type": "stream",
     "text": [
      "                                                    Missing Count  \\\n",
      "actualDistance                                               3315   \n",
      "scheduledDateOnly                                            3311   \n",
      "scheduledTimeOnly                                            3311   \n",
      "isDeliveredOnTime                                            2949   \n",
      "packageCategoryName                                          1677   \n",
      "packageName                                                  1677   \n",
      "packageDimensions                                            1677   \n",
      "addressOfRecipient                                           1666   \n",
      "packageWeightInPounds                                        1665   \n",
      "collectionDurationInMinutes                                  1650   \n",
      "isMultidropCourierOrder                                      1650   \n",
      "differenceBetweenCollectionStartTimeAndPickUpTi...           1650   \n",
      "isScheduledDelivery                                           549   \n",
      "isExpressDelivery                                             549   \n",
      "businessType                                                  379   \n",
      "isCourierOrder                                                 43   \n",
      "co2SavedInGrams                                                 1   \n",
      "senderAddress                                                   1   \n",
      "addressOfSender                                                 1   \n",
      "vehicleEfficiency                                               0   \n",
      "grandTotalAmount                                                0   \n",
      "differenceBetweenOrderConfirmationAndPickUpTime...              0   \n",
      "differenceBetweenOrderPlacementAndConfirmationT...              0   \n",
      "differenceBetweenOrderPlacementAndFulfillmentTi...              0   \n",
      "differenceBetweenOrderOnTheWayAndFulfillmentTim...              0   \n",
      "estimatedDistance                                               0   \n",
      "numberOfDropoffs                                                0   \n",
      "timeOnly                                                        0   \n",
      "dateOnly                                                        0   \n",
      "returns                                                         0   \n",
      "dropoffs                                                        0   \n",
      "orderID                                                         0   \n",
      "\n",
      "                                                    Missing Percentage  \n",
      "actualDistance                                              100.000000  \n",
      "scheduledDateOnly                                            99.879336  \n",
      "scheduledTimeOnly                                            99.879336  \n",
      "isDeliveredOnTime                                            88.959276  \n",
      "packageCategoryName                                          50.588235  \n",
      "packageName                                                  50.588235  \n",
      "packageDimensions                                            50.588235  \n",
      "addressOfRecipient                                           50.256410  \n",
      "packageWeightInPounds                                        50.226244  \n",
      "collectionDurationInMinutes                                  49.773756  \n",
      "isMultidropCourierOrder                                      49.773756  \n",
      "differenceBetweenCollectionStartTimeAndPickUpTi...           49.773756  \n",
      "isScheduledDelivery                                          16.561086  \n",
      "isExpressDelivery                                            16.561086  \n",
      "businessType                                                 11.432881  \n",
      "isCourierOrder                                                1.297134  \n",
      "co2SavedInGrams                                               0.030166  \n",
      "senderAddress                                                 0.030166  \n",
      "addressOfSender                                               0.030166  \n",
      "vehicleEfficiency                                             0.000000  \n",
      "grandTotalAmount                                              0.000000  \n",
      "differenceBetweenOrderConfirmationAndPickUpTime...            0.000000  \n",
      "differenceBetweenOrderPlacementAndConfirmationT...            0.000000  \n",
      "differenceBetweenOrderPlacementAndFulfillmentTi...            0.000000  \n",
      "differenceBetweenOrderOnTheWayAndFulfillmentTim...            0.000000  \n",
      "estimatedDistance                                             0.000000  \n",
      "numberOfDropoffs                                              0.000000  \n",
      "timeOnly                                                      0.000000  \n",
      "dateOnly                                                      0.000000  \n",
      "returns                                                       0.000000  \n",
      "dropoffs                                                      0.000000  \n",
      "orderID                                                       0.000000  \n"
     ]
    }
   ],
   "source": [
    "# Check for missing data and sort by count (largest to smallest)\n",
    "missing_counts = df.isnull().sum().sort_values(ascending=False)\n",
    "\n",
    "# Calculate the percentage of missing values\n",
    "missing_percentages = (missing_counts / len(df)) * 100\n",
    "\n",
    "# Combine missing counts and percentages into a DataFrame\n",
    "missing_data = pd.DataFrame({\n",
    "    'Missing Count': missing_counts,\n",
    "    'Missing Percentage': missing_percentages\n",
    "})\n",
    "\n",
    "# Print the sorted missing data counts and percentages\n",
    "print(missing_data)"
   ]
  },
  {
   "cell_type": "code",
   "execution_count": 19,
   "id": "fa90d8b3",
   "metadata": {},
   "outputs": [
    {
     "name": "stdout",
     "output_type": "stream",
     "text": [
      "Percentage of columns with missing values: 59.38%\n"
     ]
    }
   ],
   "source": [
    "# Calculate the percentage of missing values in each column\n",
    "missing_percentage = df.isnull().sum() / len(df) * 100\n",
    "\n",
    "# Calculate the percentage of columns with missing values\n",
    "columns_with_missing = missing_percentage[missing_percentage > 0]\n",
    "percentage_columns_with_missing = (len(columns_with_missing) / len(df.columns)) * 100\n",
    "\n",
    "# Print the result\n",
    "print(f\"Percentage of columns with missing values: {percentage_columns_with_missing:.2f}%\")"
   ]
  },
  {
   "cell_type": "markdown",
   "id": "138e5df0",
   "metadata": {},
   "source": [
    "**actualDistance**"
   ]
  },
  {
   "cell_type": "markdown",
   "id": "c0f417bb",
   "metadata": {},
   "source": [
    "We can delete actualDistance because it only has missing values, i.e., the column has no values.\n",
    "\n"
   ]
  },
  {
   "cell_type": "code",
   "execution_count": 20,
   "id": "61dbf980",
   "metadata": {},
   "outputs": [],
   "source": [
    "df = df.drop(columns='actualDistance')"
   ]
  },
  {
   "cell_type": "markdown",
   "id": "4f3519ba",
   "metadata": {},
   "source": [
    "**scheduledTimeOnly and scheduledDateOnly**"
   ]
  },
  {
   "cell_type": "markdown",
   "id": "f9d094c1",
   "metadata": {},
   "source": [
    "There are only a few valid values in each of these columns, so it is better to drop these columns."
   ]
  },
  {
   "cell_type": "code",
   "execution_count": 21,
   "id": "ae5971f3",
   "metadata": {},
   "outputs": [],
   "source": [
    "df = df.drop(columns=['scheduledTimeOnly','scheduledDateOnly'])"
   ]
  },
  {
   "cell_type": "markdown",
   "id": "c32990c3",
   "metadata": {},
   "source": [
    "**isDeliveredOnTime**"
   ]
  },
  {
   "cell_type": "code",
   "execution_count": 22,
   "id": "7cd4cd5b",
   "metadata": {},
   "outputs": [
    {
     "name": "stdout",
     "output_type": "stream",
     "text": [
      "isDeliveredOnTime:\n",
      " 1.0    238\n",
      "0.0    128\n",
      "Name: isDeliveredOnTime, dtype: int64\n"
     ]
    }
   ],
   "source": [
    "# count the number of 0 and 1 values in'isDeliveredOnTime' columns\n",
    "count_values = df['isDeliveredOnTime'].value_counts()\n",
    "print(\"isDeliveredOnTime:\\n\", count_values)"
   ]
  },
  {
   "cell_type": "markdown",
   "id": "ebde0027",
   "metadata": {},
   "source": [
    "It seems the company wanted to try using a dummy variable for stating whether the package was delivered on time but only did so with a few orders, which isn't enough for us to investigate. So it is best to drop the column as well."
   ]
  },
  {
   "cell_type": "code",
   "execution_count": 23,
   "id": "513fbcf6",
   "metadata": {},
   "outputs": [],
   "source": [
    "df = df.drop(columns='isDeliveredOnTime')"
   ]
  },
  {
   "cell_type": "markdown",
   "id": "11220f9b",
   "metadata": {},
   "source": [
    "**differenceBetweenCollectionStartTimeAndPickUpTimeInMinutes and collectionDurationInMinutes**"
   ]
  },
  {
   "cell_type": "markdown",
   "id": "ba9645ce",
   "metadata": {},
   "source": [
    "It seems as if these columns are the same, so let's check:"
   ]
  },
  {
   "cell_type": "code",
   "execution_count": 24,
   "id": "9acf8c41",
   "metadata": {},
   "outputs": [
    {
     "name": "stdout",
     "output_type": "stream",
     "text": [
      "The differenceBetweenCollectionStartTimeAndPickUpTimeInMinutes and collectionDurationInMinutes columns are identical.\n"
     ]
    }
   ],
   "source": [
    "# check if the scheduledTimeOnly column is equal to the scheduledDateOnly column\n",
    "columns_are_identical = df['differenceBetweenCollectionStartTimeAndPickUpTimeInMinutes'].equals(df['collectionDurationInMinutes'])\n",
    "\n",
    "# print the result\n",
    "if columns_are_identical:\n",
    "    print(\"The differenceBetweenCollectionStartTimeAndPickUpTimeInMinutes and collectionDurationInMinutes columns are identical.\")\n",
    "else:\n",
    "    print(\"The differenceBetweenCollectionStartTimeAndPickUpTimeInMinutes and collectionDurationInMinutes columns are not identical.\")"
   ]
  },
  {
   "cell_type": "code",
   "execution_count": 25,
   "id": "41d8177a",
   "metadata": {},
   "outputs": [],
   "source": [
    "# Let's delete differenceBetweenCollectionStartTimeAndPickUpTimeInMinutes as this is indeed the same as CollectionDurationInMintues\n",
    "df = df.drop(columns='differenceBetweenCollectionStartTimeAndPickUpTimeInMinutes')"
   ]
  },
  {
   "cell_type": "markdown",
   "id": "82f5b967",
   "metadata": {},
   "source": [
    "Now, back to the missing values in the collectionDurationInMinutes column. The company explained that any null values in this column have to be considered to be 0. A lot of single-drop orders don't have a collection duration because it is an immediate process where the courrier doesn't have to collect multiple packages. Instead, these single packages are already ready for pickup by the sender."
   ]
  },
  {
   "cell_type": "code",
   "execution_count": 26,
   "id": "68367cb0",
   "metadata": {},
   "outputs": [],
   "source": [
    "# impute the null values in collectionDurationInMinutes with 0\n",
    "df['collectionDurationInMinutes'] = df['collectionDurationInMinutes'].fillna(0)"
   ]
  },
  {
   "cell_type": "markdown",
   "id": "7d0d6dee",
   "metadata": {},
   "source": [
    "**isMultidropCourierOrder**"
   ]
  },
  {
   "cell_type": "code",
   "execution_count": 27,
   "id": "bb285d84",
   "metadata": {},
   "outputs": [
    {
     "data": {
      "text/plain": [
       "array([nan,  1.])"
      ]
     },
     "execution_count": 27,
     "metadata": {},
     "output_type": "execute_result"
    }
   ],
   "source": [
    "# get the unique values in the isMultidropCourierOrder column\n",
    "unique_values = df['isMultidropCourierOrder'].unique()\n",
    "unique_values"
   ]
  },
  {
   "cell_type": "markdown",
   "id": "13792b87",
   "metadata": {},
   "source": [
    "This shows that even though this variable is supposed to be a dummy variable to show whether the order is a multi-drop order or not, it seems to only have '1' values. Upon further invesetigation the dummy variables also seem to be incorrect, as the '1' value (meaning multi-drop) is also occassionally assigned to orders with only a single dropoff and package. However, with the help of the company, we were also able to identify the correct multi-drop and single-drop orders through the'numberOfDropoffs' column."
   ]
  },
  {
   "cell_type": "code",
   "execution_count": 28,
   "id": "5bc1dac0",
   "metadata": {},
   "outputs": [],
   "source": [
    "# Replace all values with 0 if numberOfDropoffs is 1, else replace with 1\n",
    "df['isMultidropCourierOrder'] = np.where(df['numberOfDropoffs'] == 1, 0, 1)"
   ]
  },
  {
   "cell_type": "code",
   "execution_count": 29,
   "id": "7c5106d5",
   "metadata": {},
   "outputs": [
    {
     "data": {
      "text/plain": [
       "array([0, 1])"
      ]
     },
     "execution_count": 29,
     "metadata": {},
     "output_type": "execute_result"
    }
   ],
   "source": [
    "# get the unique values in the packageWeightInPounds column\n",
    "unique_values = df['isMultidropCourierOrder'].unique()\n",
    "unique_values"
   ]
  },
  {
   "cell_type": "markdown",
   "id": "f371ecf0",
   "metadata": {},
   "source": [
    "**packageCategoryName, packageName and packageDimensions**"
   ]
  },
  {
   "cell_type": "markdown",
   "id": "7899d346",
   "metadata": {},
   "source": [
    "The packageCategoryname, packageName, and packageDimensions columns show information on the type of package (i.e., business vs customer), size of package (i.e., envelope, small box, medium box, etc.) and the pacakge dimensions, respectively. We have no information on the null values and what they would be, but there are quite a number (namely 1677 or 50%) of missing values in these columms. So, instead we can assign these values to a new category called 'Other' in order to not loose all these data points."
   ]
  },
  {
   "cell_type": "code",
   "execution_count": 30,
   "id": "417b0c55",
   "metadata": {},
   "outputs": [],
   "source": [
    "# fill null values in 'packageCategoryName', 'packageName', and 'packageDimensions' columns with 'Other'\n",
    "df['packageCategoryName'].fillna('Other', inplace=True)\n",
    "df['packageName'].fillna('Other', inplace=True)\n",
    "df['packageDimensions'].fillna('Other', inplace=True)"
   ]
  },
  {
   "cell_type": "markdown",
   "id": "5c1899f4",
   "metadata": {},
   "source": [
    "**addressOfRecipient**"
   ]
  },
  {
   "cell_type": "markdown",
   "id": "65d1b940",
   "metadata": {},
   "source": [
    "There are quite a lot of missing values in the addressOfRecipient column. As we have no information about this, we can drop this column to focus on the senderAddress column instead."
   ]
  },
  {
   "cell_type": "code",
   "execution_count": 31,
   "id": "85ba0f65",
   "metadata": {},
   "outputs": [],
   "source": [
    "# fill null values with 'Other'\n",
    "df = df.drop(columns='addressOfRecipient')"
   ]
  },
  {
   "cell_type": "markdown",
   "id": "394abcdb",
   "metadata": {},
   "source": [
    "**packageWeightInPounds**"
   ]
  },
  {
   "cell_type": "code",
   "execution_count": 32,
   "id": "0ee760b5",
   "metadata": {},
   "outputs": [
    {
     "data": {
      "text/plain": [
       "array([ 0., nan])"
      ]
     },
     "execution_count": 32,
     "metadata": {},
     "output_type": "execute_result"
    }
   ],
   "source": [
    "# get the unique values in the packageWeightInPounds column\n",
    "unique_values = df['packageWeightInPounds'].unique()\n",
    "unique_values"
   ]
  },
  {
   "cell_type": "markdown",
   "id": "277e5dc9",
   "metadata": {},
   "source": [
    "As can be seen, the values in this column are either 0 and missing. Therefore, we can drop this column as it does not provide any useful information on package weights."
   ]
  },
  {
   "cell_type": "code",
   "execution_count": 33,
   "id": "e86bfc7d",
   "metadata": {},
   "outputs": [],
   "source": [
    "df = df.drop(columns='packageWeightInPounds')"
   ]
  },
  {
   "cell_type": "markdown",
   "id": "b45c9423",
   "metadata": {},
   "source": [
    "**isExpressDelivery and isScheduledDelivery**"
   ]
  },
  {
   "cell_type": "markdown",
   "id": "4c32830c",
   "metadata": {},
   "source": [
    "The first few hundred orders placed seem to have null values for the 'isExpressDelivery' and 'isScheduledDelivery' dummy variable options. This might be because this metric was only tracked or implemented later. However, as this is a dummy variable (i.e., 0 = no, 1 = yes), we cannot know what type of deliveries these first were. So let's investigate a bit more."
   ]
  },
  {
   "cell_type": "code",
   "execution_count": 34,
   "id": "5bec2573",
   "metadata": {},
   "outputs": [
    {
     "data": {
      "text/plain": [
       "array([nan,  1.,  0.])"
      ]
     },
     "execution_count": 34,
     "metadata": {},
     "output_type": "execute_result"
    }
   ],
   "source": [
    "# get the unique values in the isExpressDelivery column\n",
    "unique_values = df['isExpressDelivery'].unique()\n",
    "unique_values"
   ]
  },
  {
   "cell_type": "code",
   "execution_count": 35,
   "id": "52019d5f",
   "metadata": {},
   "outputs": [
    {
     "data": {
      "text/plain": [
       "array([nan,  0.,  1.])"
      ]
     },
     "execution_count": 35,
     "metadata": {},
     "output_type": "execute_result"
    }
   ],
   "source": [
    "# get the unique values in the isScheduledDelivery column\n",
    "unique_values = df['isScheduledDelivery'].unique()\n",
    "unique_values"
   ]
  },
  {
   "cell_type": "code",
   "execution_count": 36,
   "id": "55e9d497",
   "metadata": {},
   "outputs": [
    {
     "name": "stdout",
     "output_type": "stream",
     "text": [
      "isExpressDelivery:\n",
      " 0.0    2671\n",
      "1.0      95\n",
      "Name: isExpressDelivery, dtype: int64\n",
      "isScheduledDelivery:\n",
      " 0.0    2762\n",
      "1.0       4\n",
      "Name: isScheduledDelivery, dtype: int64\n"
     ]
    }
   ],
   "source": [
    "# count the number of 0 and 1 values in'isExpressDelivery', and 'isScheduledDelivery' columns\n",
    "express_delivery_counts = df['isExpressDelivery'].value_counts()\n",
    "scheduled_delivery_counts = df['isScheduledDelivery'].value_counts()\n",
    "\n",
    "print(\"isExpressDelivery:\\n\", express_delivery_counts)\n",
    "print(\"isScheduledDelivery:\\n\", scheduled_delivery_counts)"
   ]
  },
  {
   "cell_type": "markdown",
   "id": "d53053c5",
   "metadata": {},
   "source": [
    "From this, it can firstly be seen that the isScheduledDelivery column only has 4 '1' (or yes) values. This is not going to be useful for our analysis so we can conclude that this column can be dropped."
   ]
  },
  {
   "cell_type": "code",
   "execution_count": 37,
   "id": "887dcc08",
   "metadata": {},
   "outputs": [],
   "source": [
    "df = df.drop(columns='isScheduledDelivery')"
   ]
  },
  {
   "cell_type": "markdown",
   "id": "34e9848c",
   "metadata": {},
   "source": [
    "We still cannot infer what the missing values would be in the isExpressDelivery column. As this column only has approximately 549 missing values, the missing values can be dropped."
   ]
  },
  {
   "cell_type": "code",
   "execution_count": 38,
   "id": "eff89066",
   "metadata": {},
   "outputs": [],
   "source": [
    "# Drop rows with missing values in the isExpressDelivery column\n",
    "df.dropna(subset=['isExpressDelivery'], inplace=True)"
   ]
  },
  {
   "cell_type": "markdown",
   "id": "f051b203",
   "metadata": {},
   "source": [
    "**isCourierOrder**"
   ]
  },
  {
   "cell_type": "code",
   "execution_count": 39,
   "id": "6a3976d3",
   "metadata": {
    "scrolled": true
   },
   "outputs": [
    {
     "name": "stdout",
     "output_type": "stream",
     "text": [
      "isCourierOrder:\n",
      " 1.0    2711\n",
      "0.0      12\n",
      "Name: isCourierOrder, dtype: int64\n"
     ]
    }
   ],
   "source": [
    "# count the number of 0 and 1 values\n",
    "is_courier_order_counts = df['isCourierOrder'].value_counts()\n",
    "\n",
    "print(\"isCourierOrder:\\n\", is_courier_order_counts)"
   ]
  },
  {
   "cell_type": "markdown",
   "id": "362f1876",
   "metadata": {},
   "source": [
    "As can be seen, only 12 values are classified as 'non-courier' orders. Therefore, we can drop this column as it will not be useful in our analysis.  "
   ]
  },
  {
   "cell_type": "code",
   "execution_count": 40,
   "id": "95a48cfe",
   "metadata": {},
   "outputs": [],
   "source": [
    "df = df.drop(columns='isCourierOrder')"
   ]
  },
  {
   "cell_type": "markdown",
   "id": "24162140",
   "metadata": {},
   "source": [
    "**businessType**"
   ]
  },
  {
   "cell_type": "code",
   "execution_count": 41,
   "id": "dc860704",
   "metadata": {},
   "outputs": [
    {
     "name": "stdout",
     "output_type": "stream",
     "text": [
      "businessType:\n",
      " Pharmacy         1828\n",
      "Other             717\n",
      "Florist            99\n",
      "Grocery store      35\n",
      "Retailer           24\n",
      "Name: businessType, dtype: int64\n"
     ]
    }
   ],
   "source": [
    "# count the number of values\n",
    "business_type = df['businessType'].value_counts()\n",
    "\n",
    "print(\"businessType:\\n\", business_type)"
   ]
  },
  {
   "cell_type": "markdown",
   "id": "350dae67",
   "metadata": {},
   "source": [
    "The businessType variable shows the type of the business the order originated from (i.e., florist, retailer, pharmacist, etc.). We can delete these null values as there are only 379."
   ]
  },
  {
   "cell_type": "code",
   "execution_count": 42,
   "id": "aaf8c60c",
   "metadata": {},
   "outputs": [],
   "source": [
    "# drop the rows with missing valuess\n",
    "df.dropna(subset=['businessType'], inplace=True)"
   ]
  },
  {
   "cell_type": "markdown",
   "id": "197ab57b",
   "metadata": {},
   "source": [
    "**addressOfSender and co2SavedInGrams**"
   ]
  },
  {
   "cell_type": "code",
   "execution_count": 43,
   "id": "ab112d6e",
   "metadata": {},
   "outputs": [
    {
     "name": "stdout",
     "output_type": "stream",
     "text": [
      "The missing values are in the same row\n"
     ]
    }
   ],
   "source": [
    "# create a Boolean mask for the 'addressOfSender' column\n",
    "null_address_of_sender = df['addressOfSender'].isnull()\n",
    "\n",
    "# create a Boolean mask for the 'CO2saved' column\n",
    "null_co2_saved = df['co2SavedInGrams'].isnull()\n",
    "\n",
    "# check if the two masks are the same\n",
    "same_row = null_address_of_sender.equals(null_co2_saved)\n",
    "\n",
    "if same_row:\n",
    "    print(\"The missing values are in the same row\")\n",
    "else:\n",
    "    print(\"The missing values are in different rows\")"
   ]
  },
  {
   "cell_type": "markdown",
   "id": "c9f9a911",
   "metadata": {},
   "source": [
    "As there is only 1 missing value in these columns, and they happen to be in the same row, we can delete this row to aid our data analysis. "
   ]
  },
  {
   "cell_type": "code",
   "execution_count": 44,
   "id": "263fe3be",
   "metadata": {},
   "outputs": [],
   "source": [
    "# drop the row with missing values in both 'addressOfSender' and 'CO2saved' columns\n",
    "df.dropna(subset=['addressOfSender', 'co2SavedInGrams'], inplace=True)"
   ]
  },
  {
   "cell_type": "markdown",
   "id": "bee06ffd",
   "metadata": {},
   "source": [
    "**Check for missing values**"
   ]
  },
  {
   "cell_type": "markdown",
   "id": "eae234fc",
   "metadata": {},
   "source": [
    "Let's check to see if we have handled all missing variables in our dataset."
   ]
  },
  {
   "cell_type": "code",
   "execution_count": 45,
   "id": "12d6d822",
   "metadata": {
    "scrolled": false
   },
   "outputs": [
    {
     "name": "stdout",
     "output_type": "stream",
     "text": [
      "orderID                                                        0\n",
      "businessType                                                   0\n",
      "dateOnly                                                       0\n",
      "timeOnly                                                       0\n",
      "packageCategoryName                                            0\n",
      "packageName                                                    0\n",
      "packageDimensions                                              0\n",
      "numberOfDropoffs                                               0\n",
      "addressOfSender                                                0\n",
      "estimatedDistance                                              0\n",
      "differenceBetweenOrderOnTheWayAndFulfillmentTimeInMinutes      0\n",
      "differenceBetweenOrderPlacementAndFulfillmentTimeInMinutes     0\n",
      "differenceBetweenOrderPlacementAndConfirmationTimeInMinutes    0\n",
      "differenceBetweenOrderConfirmationAndPickUpTimeInMinutes       0\n",
      "collectionDurationInMinutes                                    0\n",
      "vehicleEfficiency                                              0\n",
      "co2SavedInGrams                                                0\n",
      "grandTotalAmount                                               0\n",
      "isExpressDelivery                                              0\n",
      "isMultidropCourierOrder                                        0\n",
      "returns                                                        0\n",
      "dropoffs                                                       0\n",
      "senderAddress                                                  0\n",
      "dtype: int64\n"
     ]
    }
   ],
   "source": [
    "# check if there are any remaining missing values\n",
    "null_counts = df.isnull().sum()\n",
    "print(null_counts)"
   ]
  },
  {
   "cell_type": "code",
   "execution_count": 46,
   "id": "547065ca",
   "metadata": {},
   "outputs": [
    {
     "name": "stdout",
     "output_type": "stream",
     "text": [
      "There are no missing values in the dataset.\n"
     ]
    }
   ],
   "source": [
    "# Check if there are any missing values\n",
    "if null_counts.sum() == 0:\n",
    "    print(\"There are no missing values in the dataset.\")\n",
    "else:\n",
    "    print(\"There are missing values in the dataset.\")\n",
    "    print(\"Number of missing values per column:\")\n",
    "    print(missing_values)"
   ]
  },
  {
   "cell_type": "markdown",
   "id": "404dadd2",
   "metadata": {},
   "source": [
    "After handling the missing values, let's see how many rows and columns are still left:"
   ]
  },
  {
   "cell_type": "code",
   "execution_count": 47,
   "id": "6714f2d7",
   "metadata": {},
   "outputs": [
    {
     "data": {
      "text/plain": [
       "(2702, 23)"
      ]
     },
     "execution_count": 47,
     "metadata": {},
     "output_type": "execute_result"
    }
   ],
   "source": [
    "df.shape"
   ]
  },
  {
   "cell_type": "markdown",
   "id": "5f664f06",
   "metadata": {},
   "source": [
    "## Outliers<a class=\"anchor\" id=\"Outliers\"></a>"
   ]
  },
  {
   "cell_type": "markdown",
   "id": "b82ca982",
   "metadata": {},
   "source": [
    "In the data cleaning process, we address the issue of outliers to ensure the reliability and accuracy of our analysis. Outliers are data points that deviate significantly from the majority of the data and can adversely affect the performance of statistical models and distort the results. By identifying and removing outliers, we aim to improve the robustness of our analysis and make our conclusions more reliable."
   ]
  },
  {
   "cell_type": "markdown",
   "id": "7e6bfc46",
   "metadata": {},
   "source": [
    "**Total Order Duration**"
   ]
  },
  {
   "cell_type": "markdown",
   "id": "1437d20b",
   "metadata": {},
   "source": [
    "The total order duration represents the time difference between the order placement and fulfillment. In consultation with the company, we established a threshold of 360 minutes (equivalent to 6 hours) for the total order duration. The company explained that their software may not always close orders immediately, leading to some orders being left open for various reasons. To assess the impact of such orders, we check how many orders fall above this 6-hour threshold. Any orders above this threshold can be considered as potential outliers and will be removed from the dataset."
   ]
  },
  {
   "cell_type": "code",
   "execution_count": 48,
   "id": "6e8ae5b2",
   "metadata": {},
   "outputs": [
    {
     "name": "stdout",
     "output_type": "stream",
     "text": [
      "There are 401 orders above the threshold of 6 hours (360 minutes)\n"
     ]
    }
   ],
   "source": [
    "# count the number of orders above the threshold of 6 hours (360 minutes)\n",
    "num_outliers = (df['differenceBetweenOrderPlacementAndFulfillmentTimeInMinutes'] > 360).sum()\n",
    "\n",
    "print(f\"There are {num_outliers} orders above the threshold of 6 hours (360 minutes)\")"
   ]
  },
  {
   "cell_type": "code",
   "execution_count": 49,
   "id": "176eb3d4",
   "metadata": {},
   "outputs": [],
   "source": [
    "df.drop(index=df[df['differenceBetweenOrderPlacementAndFulfillmentTimeInMinutes'] > 360].index, inplace=True)"
   ]
  },
  {
   "cell_type": "markdown",
   "id": "0d5a4e59",
   "metadata": {},
   "source": [
    "**grandTotalAmount**"
   ]
  },
  {
   "cell_type": "markdown",
   "id": "ddca5802",
   "metadata": {},
   "source": [
    "Let's see what the distribution of the grandTotalAmount column looks like to find any extreme outliers."
   ]
  },
  {
   "cell_type": "code",
   "execution_count": 50,
   "id": "2c540cae",
   "metadata": {},
   "outputs": [
    {
     "data": {
      "image/png": "[encoded data removed]",
      "text/plain": [
       "<Figure size 640x480 with 1 Axes>"
      ]
     },
     "metadata": {},
     "output_type": "display_data"
    },
    {
     "name": "stdout",
     "output_type": "stream",
     "text": [
      "Minimum values:\n",
      "0\n",
      "\n",
      "Maximum values:\n",
      "1207200\n"
     ]
    }
   ],
   "source": [
    "plt.boxplot(df[\"grandTotalAmount\"])\n",
    "plt.title(f\"Boxplot of grandTotalAmount\")\n",
    "plt.ylabel(\"Values\")\n",
    "plt.show()\n",
    "\n",
    "# Calculate the minimum and maximum values\n",
    "min_values = df[\"grandTotalAmount\"].min()\n",
    "max_values = df[\"grandTotalAmount\"].max()\n",
    "\n",
    "# Print the minimum and maximum values\n",
    "print(\"Minimum values:\")\n",
    "print(min_values)\n",
    "print(\"\\nMaximum values:\")\n",
    "print(max_values)"
   ]
  },
  {
   "cell_type": "markdown",
   "id": "bac4f227",
   "metadata": {},
   "source": [
    "The GrandTotalAmount represents the total cost of each order. To identify outliers in this column, we visualize the distribution using a box plot. We observe that there are some extreme values, including an order with a value of £1,207,200, which seems highly unlikely."
   ]
  },
  {
   "cell_type": "code",
   "execution_count": 51,
   "id": "35637ed1",
   "metadata": {},
   "outputs": [
    {
     "name": "stdout",
     "output_type": "stream",
     "text": [
      "The top 5 largest orders based on the 'grandTotalAmount' column:\n",
      "951     1207200\n",
      "926       48000\n",
      "803       25398\n",
      "2305      23957\n",
      "2101      21261\n",
      "Name: grandTotalAmount, dtype: int64\n"
     ]
    }
   ],
   "source": [
    "# Find the top 5 largest orders in terms of grandTotalAmount\n",
    "top_5_orders = df['grandTotalAmount'].nlargest(5)\n",
    "\n",
    "# Print the result\n",
    "print(\"The top 5 largest orders based on the 'grandTotalAmount' column:\")\n",
    "print(top_5_orders)"
   ]
  },
  {
   "cell_type": "markdown",
   "id": "4283fdaa",
   "metadata": {},
   "source": [
    "Meanwhile, we can see that the rest of the subsequent largest values in this column appear to be more consistent and within a reasonable range. Although these values might represent orders with relatively high values, they could still be valid and provide meaningful observations.\n",
    "\n",
    "On the other hand, values of 0 are also not possible. These can be removed based on the assumption that either no transaction or an error occurred."
   ]
  },
  {
   "cell_type": "code",
   "execution_count": 52,
   "id": "d440e9ca",
   "metadata": {},
   "outputs": [
    {
     "name": "stdout",
     "output_type": "stream",
     "text": [
      "Number of orders with grandTotalAmount = 0: 53\n"
     ]
    }
   ],
   "source": [
    "# Count the number of orders with 0 grandTotalAmount\n",
    "zero_amount_count = (df['grandTotalAmount'] == 0).sum()\n",
    "\n",
    "print(\"Number of orders with grandTotalAmount = 0:\", zero_amount_count)"
   ]
  },
  {
   "cell_type": "code",
   "execution_count": 53,
   "id": "fa752ce9",
   "metadata": {},
   "outputs": [],
   "source": [
    "df = df[df['grandTotalAmount'] != 1207200]\n",
    "df = df[df['grandTotalAmount'] != 0]"
   ]
  },
  {
   "cell_type": "code",
   "execution_count": 54,
   "id": "7eb28f6b",
   "metadata": {
    "scrolled": false
   },
   "outputs": [
    {
     "data": {
      "text/plain": [
       "(2247, 23)"
      ]
     },
     "execution_count": 54,
     "metadata": {},
     "output_type": "execute_result"
    }
   ],
   "source": [
    "df.shape"
   ]
  },
  {
   "cell_type": "markdown",
   "id": "5f98ac31",
   "metadata": {},
   "source": [
    "**estimatedDistance**"
   ]
  },
  {
   "cell_type": "markdown",
   "id": "6b6ceded",
   "metadata": {},
   "source": [
    "Let's see what the distribution of the estimatedDistance column looks like to find any extreme outliers."
   ]
  },
  {
   "cell_type": "code",
   "execution_count": 55,
   "id": "d7dcc648",
   "metadata": {
    "scrolled": false
   },
   "outputs": [
    {
     "data": {
      "image/png": "[encoded data removed]",
      "text/plain": [
       "<Figure size 640x480 with 1 Axes>"
      ]
     },
     "metadata": {},
     "output_type": "display_data"
    },
    {
     "name": "stdout",
     "output_type": "stream",
     "text": [
      "Minimum values:\n",
      "0.0\n",
      "\n",
      "Maximum values:\n",
      "103.0\n"
     ]
    }
   ],
   "source": [
    "plt.boxplot(df[\"estimatedDistance\"])\n",
    "plt.title(f\"Boxplot of estimatedDistance\")\n",
    "plt.ylabel(\"Values\")\n",
    "plt.show()\n",
    "\n",
    "# Calculate the minimum and maximum values\n",
    "min_values = df[\"estimatedDistance\"].min()\n",
    "max_values = df[\"estimatedDistance\"].max()\n",
    "\n",
    "# Print the minimum and maximum values\n",
    "print(\"Minimum values:\")\n",
    "print(min_values)\n",
    "print(\"\\nMaximum values:\")\n",
    "print(max_values)"
   ]
  },
  {
   "cell_type": "markdown",
   "id": "86589cb1",
   "metadata": {},
   "source": [
    "The estimatedDistance column represents the estimated distance for each delivery. To identify outliers in this column, we visualize the distribution using a box plot. We observe an unusually large maximum value (103.0), suggesting an extreme outlier. "
   ]
  },
  {
   "cell_type": "code",
   "execution_count": 56,
   "id": "c5db1182",
   "metadata": {
    "scrolled": true
   },
   "outputs": [
    {
     "name": "stdout",
     "output_type": "stream",
     "text": [
      "The top 5 largest orders based on the 'estimatedDistance' column:\n",
      "3238    103.0\n",
      "2043     72.5\n",
      "972      67.8\n",
      "955      67.5\n",
      "1027     66.4\n",
      "Name: estimatedDistance, dtype: float64\n"
     ]
    }
   ],
   "source": [
    "# Find the top 5 largest orders in terms of estimatedDistance\n",
    "top_5_orders = df['estimatedDistance'].nlargest(5)\n",
    "\n",
    "# Print the result\n",
    "print(\"The top 5 largest orders based on the 'estimatedDistance' column:\")\n",
    "print(top_5_orders)"
   ]
  },
  {
   "cell_type": "code",
   "execution_count": 57,
   "id": "b5492ac9",
   "metadata": {},
   "outputs": [
    {
     "name": "stdout",
     "output_type": "stream",
     "text": [
      "Number of orders with estimatedDistance = 0: 1\n"
     ]
    }
   ],
   "source": [
    "# Count the number of orders with 0 grandTotalAmount\n",
    "zero_amount_count = (df['estimatedDistance'] == 0).sum()\n",
    "\n",
    "print(\"Number of orders with estimatedDistance = 0:\", zero_amount_count)"
   ]
  },
  {
   "cell_type": "markdown",
   "id": "a456d7bd",
   "metadata": {},
   "source": [
    "Again, the estimatedDistance column has an unusually large maximum value compared to the subsequent largest values, suggesting it contains an extreme outlier. Meanwhile, we can see that the rest of the subsequent largest values in this column appear to be more consistent and within a reasonable range. Although these values might represent orders with relatively large distances, they could still be valid and provide meaningful observations. Values of 0 were also identified and removed based on the assumption that either no transaction or an error occurred."
   ]
  },
  {
   "cell_type": "code",
   "execution_count": 58,
   "id": "59e33f44",
   "metadata": {},
   "outputs": [],
   "source": [
    "df = df[df['estimatedDistance'] != 0]\n",
    "df = df[df['estimatedDistance'] != 103.0]"
   ]
  },
  {
   "cell_type": "code",
   "execution_count": 59,
   "id": "2b48b74a",
   "metadata": {
    "scrolled": true
   },
   "outputs": [
    {
     "data": {
      "text/plain": [
       "(2245, 23)"
      ]
     },
     "execution_count": 59,
     "metadata": {},
     "output_type": "execute_result"
    }
   ],
   "source": [
    "df.shape"
   ]
  },
  {
   "cell_type": "markdown",
   "id": "0822c221",
   "metadata": {},
   "source": [
    "**vehicleEfficiency**"
   ]
  },
  {
   "cell_type": "markdown",
   "id": "6afed1e7",
   "metadata": {},
   "source": [
    "Let's see what the distribution of the vehicleEfficiency column looks like to find any extreme outliers."
   ]
  },
  {
   "cell_type": "code",
   "execution_count": 60,
   "id": "3d94f609",
   "metadata": {
    "scrolled": false
   },
   "outputs": [
    {
     "data": {
      "image/png": "[encoded data removed]",
      "text/plain": [
       "<Figure size 640x480 with 1 Axes>"
      ]
     },
     "metadata": {},
     "output_type": "display_data"
    },
    {
     "name": "stdout",
     "output_type": "stream",
     "text": [
      "Minimum values:\n",
      "0.0\n",
      "\n",
      "Maximum values:\n",
      "318.462\n"
     ]
    }
   ],
   "source": [
    "plt.boxplot(df[\"vehicleEfficiency\"])\n",
    "plt.title(f\"Boxplot of vehicleEfficiency\")\n",
    "plt.ylabel(\"Values\")\n",
    "plt.show()\n",
    "\n",
    "# Calculate the minimum and maximum values\n",
    "min_values = df[\"vehicleEfficiency\"].min()\n",
    "max_values = df[\"vehicleEfficiency\"].max()\n",
    "\n",
    "# Print the minimum and maximum values\n",
    "print(\"Minimum values:\")\n",
    "print(min_values)\n",
    "print(\"\\nMaximum values:\")\n",
    "print(max_values)"
   ]
  },
  {
   "cell_type": "code",
   "execution_count": 61,
   "id": "b3fc9980",
   "metadata": {
    "scrolled": true
   },
   "outputs": [
    {
     "name": "stdout",
     "output_type": "stream",
     "text": [
      "The top 5 largest orders based on the 'vehicleEfficiency' column:\n",
      "657     318.4620\n",
      "656     182.0000\n",
      "1782     55.8333\n",
      "1050     43.0000\n",
      "2004     40.1667\n",
      "Name: vehicleEfficiency, dtype: float64\n"
     ]
    }
   ],
   "source": [
    "# Find the top 5 largest orders in terms of vehicleEfficiency\n",
    "top_5_orders = df['vehicleEfficiency'].nlargest(5)\n",
    "\n",
    "# Print the result\n",
    "print(\"The top 5 largest orders based on the 'vehicleEfficiency' column:\")\n",
    "print(top_5_orders)"
   ]
  },
  {
   "cell_type": "code",
   "execution_count": 62,
   "id": "e9f2a37a",
   "metadata": {},
   "outputs": [
    {
     "name": "stdout",
     "output_type": "stream",
     "text": [
      "Number of orders with vehicleEfficiency = 0: 26\n"
     ]
    }
   ],
   "source": [
    "# Count the number of orders with 0 grandTotalAmount\n",
    "zero_amount_count = (df['vehicleEfficiency'] == 0).sum()\n",
    "\n",
    "print(\"Number of orders with vehicleEfficiency = 0:\", zero_amount_count)"
   ]
  },
  {
   "cell_type": "markdown",
   "id": "c263b6ad",
   "metadata": {},
   "source": [
    "The vehicleEfficiency column represents the efficiency of the delivery vehicle. To identify outliers in this column, we visualize the distribution using a box plot. We observe two unusually large maximum values (318.462 and 182.000) compared to the subsequent largest values, indicating the presence of extreme outliers. Meanwhile, we can see that the rest of the subsequent largest values in this column (third, fourth, and fifth) appear to be more consistent and within a reasonable range. Although these values might represent orders with relatively large distances, they could still be valid and provide meaningful observations. Values of 0 were also identified and removed based on the assumption that either no transaction or an error occurred."
   ]
  },
  {
   "cell_type": "code",
   "execution_count": 63,
   "id": "c3749934",
   "metadata": {},
   "outputs": [],
   "source": [
    "df = df[df['vehicleEfficiency'] != 318.4620]\n",
    "df = df[df['vehicleEfficiency'] != 182.0000]\n",
    "df = df[df['vehicleEfficiency'] != 0]"
   ]
  },
  {
   "cell_type": "code",
   "execution_count": 64,
   "id": "14996605",
   "metadata": {
    "scrolled": true
   },
   "outputs": [
    {
     "data": {
      "text/plain": [
       "(2217, 23)"
      ]
     },
     "execution_count": 64,
     "metadata": {},
     "output_type": "execute_result"
    }
   ],
   "source": [
    "df.shape"
   ]
  },
  {
   "cell_type": "markdown",
   "id": "b0ba754d",
   "metadata": {},
   "source": [
    "After completing these steps, we are left with a dataset containing 2,217 rows and 23 columns. These columns represent various features, such as order details, package information, delivery metrics, and other relevant data. The removal of outliers and handling of missing values have improved the data quality, making it more suitable for further analysis and modeling tasks."
   ]
  },
  {
   "cell_type": "code",
   "execution_count": 65,
   "id": "f8d70746",
   "metadata": {},
   "outputs": [
    {
     "data": {
      "text/plain": [
       "Index(['orderID', 'businessType', 'dateOnly', 'timeOnly',\n",
       "       'packageCategoryName', 'packageName', 'packageDimensions',\n",
       "       'numberOfDropoffs', 'addressOfSender', 'estimatedDistance',\n",
       "       'differenceBetweenOrderOnTheWayAndFulfillmentTimeInMinutes',\n",
       "       'differenceBetweenOrderPlacementAndFulfillmentTimeInMinutes',\n",
       "       'differenceBetweenOrderPlacementAndConfirmationTimeInMinutes',\n",
       "       'differenceBetweenOrderConfirmationAndPickUpTimeInMinutes',\n",
       "       'collectionDurationInMinutes', 'vehicleEfficiency', 'co2SavedInGrams',\n",
       "       'grandTotalAmount', 'isExpressDelivery', 'isMultidropCourierOrder',\n",
       "       'returns', 'dropoffs', 'senderAddress'],\n",
       "      dtype='object')"
      ]
     },
     "execution_count": 65,
     "metadata": {},
     "output_type": "execute_result"
    }
   ],
   "source": [
    "df.columns"
   ]
  },
  {
   "cell_type": "markdown",
   "id": "9100ae63",
   "metadata": {},
   "source": [
    "# 3. Data Pre-Processing<a class=\"anchor\" id=\"Processing\"></a>"
   ]
  },
  {
   "cell_type": "markdown",
   "id": "56238ed4",
   "metadata": {},
   "source": [
    "Following the data cleaning, some variables still require processing to prepare the data for further analysis.\n"
   ]
  },
  {
   "cell_type": "markdown",
   "id": "4f6baba8",
   "metadata": {},
   "source": [
    "## Data Transformation<a class=\"anchor\" id=\"Transformation\"></a>"
   ]
  },
  {
   "cell_type": "markdown",
   "id": "34e8c668",
   "metadata": {},
   "source": [
    "**Column Headings**"
   ]
  },
  {
   "cell_type": "markdown",
   "id": "b6a75f5d",
   "metadata": {},
   "source": [
    "Firstly, some of the original column names were unclear as they included many unnecessary words. Therefore, modifications can be made to the column names to make them more concise, descriptive, and easier to understand without having to refer back to the documentation. To address this, we create a dictionary new_names that maps the original column names to more concise and descriptive names. Then, we use the rename function to apply these new column names to the DataFrame.\n",
    "\n",
    "\n",
    "\n",
    "The following column headings are quite long and can be transformed for simplification purposes:\n",
    "\n",
    "- differenceBetweenOrderOnTheWayAndFulfillmentTimeInMinutes\n",
    "- differenceBetweenOrderPlacementAndFulfillmentTimeInMinutes\n",
    "- differenceBetweenOrderPlacementAndConfirmationTimeInMinutes\n",
    "- differenceBetweenOrderConfirmationAndPickUpTimeInMinutes\t"
   ]
  },
  {
   "cell_type": "code",
   "execution_count": 66,
   "id": "def072e4",
   "metadata": {},
   "outputs": [],
   "source": [
    "new_names = {\n",
    "    'differenceBetweenOrderOnTheWayAndFulfillmentTimeInMinutes': 'timeInTransitInMinutes',\n",
    "    'differenceBetweenOrderPlacementAndFulfillmentTimeInMinutes': 'totalOrderDurationInMinutes',\n",
    "    'differenceBetweenOrderPlacementAndConfirmationTimeInMinutes': 'confirmationTimeInMinutes',\n",
    "    'differenceBetweenOrderConfirmationAndPickUpTimeInMinutes': 'timeConfirmationToPickupInMinutes',\n",
    "    'numberOfDropoffs':'numberOfPackages',\n",
    "    'returns':'numberOfReturns',\n",
    "    'dropoffs':'numberOfDropoffs',\n",
    "    'packageCategoryName':'business_vs_Customer'\n",
    "    \n",
    "}\n",
    "\n",
    "df = df.rename(columns=new_names)"
   ]
  },
  {
   "cell_type": "markdown",
   "id": "45d4569d",
   "metadata": {},
   "source": [
    "**dropoffs, returns, and packages**"
   ]
  },
  {
   "cell_type": "markdown",
   "id": "159e237d",
   "metadata": {},
   "source": [
    "The company also explained that the dropoffs and returns columns have some errors. For single-drop orders, the system filled in values of 0 for both the dropoffs and returns column as this was only coded for multi-drop orders. However, these orders still had a package (i.e., the numberOfPackages = 1), which means that the dropoff should equal to 1 as well. Therefore, all orders where dropoffs and returns = 0 but numberOfPackages = 1, the dropoffs column needs to be imputed with a value of 1 instead."
   ]
  },
  {
   "cell_type": "code",
   "execution_count": 67,
   "id": "07e3e211",
   "metadata": {},
   "outputs": [
    {
     "data": {
      "text/plain": [
       "Index(['orderID', 'businessType', 'dateOnly', 'timeOnly',\n",
       "       'business_vs_Customer', 'packageName', 'packageDimensions',\n",
       "       'numberOfPackages', 'addressOfSender', 'estimatedDistance',\n",
       "       'timeInTransitInMinutes', 'totalOrderDurationInMinutes',\n",
       "       'confirmationTimeInMinutes', 'timeConfirmationToPickupInMinutes',\n",
       "       'collectionDurationInMinutes', 'vehicleEfficiency', 'co2SavedInGrams',\n",
       "       'grandTotalAmount', 'isExpressDelivery', 'isMultidropCourierOrder',\n",
       "       'numberOfReturns', 'numberOfDropoffs', 'senderAddress'],\n",
       "      dtype='object')"
      ]
     },
     "execution_count": 67,
     "metadata": {},
     "output_type": "execute_result"
    }
   ],
   "source": [
    "df.columns"
   ]
  },
  {
   "cell_type": "code",
   "execution_count": 68,
   "id": "e6fe9c09",
   "metadata": {},
   "outputs": [],
   "source": [
    "df.loc[(df['numberOfDropoffs'] == 0) & (df['numberOfReturns'] == 0) & (df['numberOfPackages'] == 1), 'numberOfDropoffs'] = 1"
   ]
  },
  {
   "cell_type": "markdown",
   "id": "0d6d98f3",
   "metadata": {},
   "source": [
    "**Price**"
   ]
  },
  {
   "cell_type": "markdown",
   "id": "edfb38ce",
   "metadata": {},
   "source": [
    "The 'grandTotalAmount' column represents the total amount of the order in pence. To make the values more intuitive and easier to interpret, we transform this column by dividing all values by 100, effectively converting the amounts to pounds."
   ]
  },
  {
   "cell_type": "code",
   "execution_count": 69,
   "id": "c7bcfcd3",
   "metadata": {},
   "outputs": [],
   "source": [
    "df['grandTotalAmount(£)']= df['grandTotalAmount'] / 100\n",
    "df = df.drop(columns=['grandTotalAmount'])"
   ]
  },
  {
   "cell_type": "markdown",
   "id": "0827f2db",
   "metadata": {},
   "source": [
    "**co2SavedInGrams**"
   ]
  },
  {
   "cell_type": "markdown",
   "id": "05498891",
   "metadata": {},
   "source": [
    "The 'co2SavedInGrams' column represents the amount of CO2 saved in grams for each order. To make the values more manageable, we transform this column by dividing all values by 1000, converting them to kilograms."
   ]
  },
  {
   "cell_type": "code",
   "execution_count": 70,
   "id": "e81eab05",
   "metadata": {},
   "outputs": [],
   "source": [
    "df['co2SavedInKG']= df['co2SavedInGrams'] / 1000\n",
    "df = df.drop(columns=['co2SavedInGrams'])"
   ]
  },
  {
   "cell_type": "markdown",
   "id": "265a75b7",
   "metadata": {},
   "source": [
    "**packageCategoryName**"
   ]
  },
  {
   "cell_type": "code",
   "execution_count": 71,
   "id": "04ad79bb",
   "metadata": {
    "scrolled": true
   },
   "outputs": [
    {
     "name": "stdout",
     "output_type": "stream",
     "text": [
      "['businesses-limited' 'Other' 'customers-2']\n"
     ]
    }
   ],
   "source": [
    "unique_values = df['business_vs_Customer'].unique()\n",
    "print(unique_values)"
   ]
  },
  {
   "cell_type": "markdown",
   "id": "198c4fcb",
   "metadata": {},
   "source": [
    "The 'business_vs_Customer' column contains different values related to package categories, such as 'businesses', 'customers', 'customers-2', 'businesses-limited', and 'Other'. These values are not standardized and can be ambiguous. To simplify the categorization, we group these values into three broader categories: 'business', 'customer', and 'other' based on their descriptions."
   ]
  },
  {
   "cell_type": "code",
   "execution_count": 72,
   "id": "fb5727a7",
   "metadata": {},
   "outputs": [],
   "source": [
    "# Replace the original values with the new values\n",
    "df['business_vs_Customer'] = df['business_vs_Customer'].replace({\n",
    "    'businesses': 'business',\n",
    "    'businesses-limited': 'business',\n",
    "    'customers': 'customer',\n",
    "    'customers-2': 'customer',\n",
    "    'Other': 'other'\n",
    "})"
   ]
  },
  {
   "cell_type": "markdown",
   "id": "2d39354b",
   "metadata": {},
   "source": [
    "## Feature Engineering<a class=\"anchor\" id=\"Engineering\"></a>"
   ]
  },
  {
   "cell_type": "markdown",
   "id": "9d235ed9",
   "metadata": {},
   "source": [
    "Feature engineering involves creating new features from existing variables to provide additional insights or capture meaningful patterns in the data."
   ]
  },
  {
   "cell_type": "markdown",
   "id": "46bd34f1",
   "metadata": {},
   "source": [
    "**packageName and packageDimensions**"
   ]
  },
  {
   "cell_type": "code",
   "execution_count": 73,
   "id": "04d0cd7a",
   "metadata": {},
   "outputs": [
    {
     "name": "stdout",
     "output_type": "stream",
     "text": [
      "['Envelope (up to 3)' 'Shopping bag' 'Other' 'Small box']\n"
     ]
    }
   ],
   "source": [
    "unique_values = df['packageName'].unique()\n",
    "print(unique_values)"
   ]
  },
  {
   "cell_type": "code",
   "execution_count": 74,
   "id": "e686de43",
   "metadata": {
    "scrolled": false
   },
   "outputs": [
    {
     "name": "stdout",
     "output_type": "stream",
     "text": [
      "['Length/Width/Height -- 30cm/21cm/2.5cm'\n",
      " 'Length/Width/Height -- 35cm/25cm/35cm' 'Other'\n",
      " 'Length/Width/Height -- 35cm/26cm/42cm']\n"
     ]
    }
   ],
   "source": [
    "unique_values = df['packageDimensions'].unique()\n",
    "print(unique_values)"
   ]
  },
  {
   "cell_type": "markdown",
   "id": "b5d031bc",
   "metadata": {},
   "source": [
    "The packageName and packageDimensions values both provide similar information about the size and type of the package, meaning it is redundant to keep both. Instead, regrouping the orders by volume will allow us to extract a more meaningful feature useful for further analysis.\n",
    "\n",
    "The packageDimensions column provides information on the size of the package in the format \"Length/Width/Height -- xxcm/xxcm/xxcm\". The dimensions were therefore extracted using regular expressions, allowing the volume of each package to be calculated by multiplying the length, width, and height together. For consistency, any packages with a value of 'Other' in the packageDimensions column were set to 'Other' in the volume column."
   ]
  },
  {
   "cell_type": "code",
   "execution_count": 75,
   "id": "874586a5",
   "metadata": {},
   "outputs": [
    {
     "data": {
      "text/html": [
       "<div>\n",
       "<style scoped>\n",
       "    .dataframe tbody tr th:only-of-type {\n",
       "        vertical-align: middle;\n",
       "    }\n",
       "\n",
       "    .dataframe tbody tr th {\n",
       "        vertical-align: top;\n",
       "    }\n",
       "\n",
       "    .dataframe thead th {\n",
       "        text-align: right;\n",
       "    }\n",
       "</style>\n",
       "<table border=\"1\" class=\"dataframe\">\n",
       "  <thead>\n",
       "    <tr style=\"text-align: right;\">\n",
       "      <th></th>\n",
       "      <th>orderID</th>\n",
       "      <th>businessType</th>\n",
       "      <th>dateOnly</th>\n",
       "      <th>timeOnly</th>\n",
       "      <th>business_vs_Customer</th>\n",
       "      <th>packageName</th>\n",
       "      <th>packageDimensions</th>\n",
       "      <th>numberOfPackages</th>\n",
       "      <th>addressOfSender</th>\n",
       "      <th>estimatedDistance</th>\n",
       "      <th>...</th>\n",
       "      <th>collectionDurationInMinutes</th>\n",
       "      <th>vehicleEfficiency</th>\n",
       "      <th>isExpressDelivery</th>\n",
       "      <th>isMultidropCourierOrder</th>\n",
       "      <th>numberOfReturns</th>\n",
       "      <th>numberOfDropoffs</th>\n",
       "      <th>senderAddress</th>\n",
       "      <th>grandTotalAmount(£)</th>\n",
       "      <th>co2SavedInKG</th>\n",
       "      <th>volume</th>\n",
       "    </tr>\n",
       "  </thead>\n",
       "  <tbody>\n",
       "    <tr>\n",
       "      <th>550</th>\n",
       "      <td>1625</td>\n",
       "      <td>Pharmacy</td>\n",
       "      <td>2021-11-01</td>\n",
       "      <td>10:09:07</td>\n",
       "      <td>business</td>\n",
       "      <td>Envelope (up to 3)</td>\n",
       "      <td>Length/Width/Height -- 30cm/21cm/2.5cm</td>\n",
       "      <td>1</td>\n",
       "      <td>105, Lupus Street, London, Greater London, SW1...</td>\n",
       "      <td>2.5</td>\n",
       "      <td>...</td>\n",
       "      <td>0.0</td>\n",
       "      <td>0.611111</td>\n",
       "      <td>1.0</td>\n",
       "      <td>0</td>\n",
       "      <td>0</td>\n",
       "      <td>1</td>\n",
       "      <td>105, , Lupus Street, SW1V 3EN</td>\n",
       "      <td>9.88</td>\n",
       "      <td>0.570</td>\n",
       "      <td>1575.0</td>\n",
       "    </tr>\n",
       "    <tr>\n",
       "      <th>552</th>\n",
       "      <td>1627</td>\n",
       "      <td>Pharmacy</td>\n",
       "      <td>2021-11-01</td>\n",
       "      <td>16:49:38</td>\n",
       "      <td>business</td>\n",
       "      <td>Envelope (up to 3)</td>\n",
       "      <td>Length/Width/Height -- 30cm/21cm/2.5cm</td>\n",
       "      <td>1</td>\n",
       "      <td>Medicine Chest, 415, 413  King's Road, London,...</td>\n",
       "      <td>3.0</td>\n",
       "      <td>...</td>\n",
       "      <td>0.0</td>\n",
       "      <td>0.833333</td>\n",
       "      <td>0.0</td>\n",
       "      <td>0</td>\n",
       "      <td>0</td>\n",
       "      <td>1</td>\n",
       "      <td>415, Medicine Chest, 413  King's Road, SW10 0LR</td>\n",
       "      <td>8.09</td>\n",
       "      <td>0.684</td>\n",
       "      <td>1575.0</td>\n",
       "    </tr>\n",
       "    <tr>\n",
       "      <th>553</th>\n",
       "      <td>1629</td>\n",
       "      <td>Pharmacy</td>\n",
       "      <td>2021-11-02</td>\n",
       "      <td>12:59:35</td>\n",
       "      <td>business</td>\n",
       "      <td>Envelope (up to 3)</td>\n",
       "      <td>Length/Width/Height -- 30cm/21cm/2.5cm</td>\n",
       "      <td>1</td>\n",
       "      <td>Medicine Chest, 415, 413  King's Road, London,...</td>\n",
       "      <td>3.0</td>\n",
       "      <td>...</td>\n",
       "      <td>0.0</td>\n",
       "      <td>0.833333</td>\n",
       "      <td>1.0</td>\n",
       "      <td>0</td>\n",
       "      <td>0</td>\n",
       "      <td>1</td>\n",
       "      <td>415, Medicine Chest, 413  King's Road, SW10 0LR</td>\n",
       "      <td>12.12</td>\n",
       "      <td>0.684</td>\n",
       "      <td>1575.0</td>\n",
       "    </tr>\n",
       "    <tr>\n",
       "      <th>554</th>\n",
       "      <td>1630</td>\n",
       "      <td>Pharmacy</td>\n",
       "      <td>2021-11-02</td>\n",
       "      <td>14:10:49</td>\n",
       "      <td>business</td>\n",
       "      <td>Envelope (up to 3)</td>\n",
       "      <td>Length/Width/Height -- 30cm/21cm/2.5cm</td>\n",
       "      <td>1</td>\n",
       "      <td>Oza Chemist, 9, Fulham Broadway, London, Great...</td>\n",
       "      <td>3.9</td>\n",
       "      <td>...</td>\n",
       "      <td>0.0</td>\n",
       "      <td>4.333330</td>\n",
       "      <td>0.0</td>\n",
       "      <td>0</td>\n",
       "      <td>0</td>\n",
       "      <td>1</td>\n",
       "      <td>9, Oza Chemist, Fulham Broadway, SW6 1AA</td>\n",
       "      <td>9.59</td>\n",
       "      <td>0.889</td>\n",
       "      <td>1575.0</td>\n",
       "    </tr>\n",
       "    <tr>\n",
       "      <th>555</th>\n",
       "      <td>1631</td>\n",
       "      <td>Pharmacy</td>\n",
       "      <td>2021-11-02</td>\n",
       "      <td>17:03:41</td>\n",
       "      <td>business</td>\n",
       "      <td>Envelope (up to 3)</td>\n",
       "      <td>Length/Width/Height -- 30cm/21cm/2.5cm</td>\n",
       "      <td>1</td>\n",
       "      <td>413, King's Road, London, Greater London, SW10...</td>\n",
       "      <td>3.0</td>\n",
       "      <td>...</td>\n",
       "      <td>0.0</td>\n",
       "      <td>1.000000</td>\n",
       "      <td>1.0</td>\n",
       "      <td>0</td>\n",
       "      <td>0</td>\n",
       "      <td>1</td>\n",
       "      <td>413, , King's Road, SW10 0LR</td>\n",
       "      <td>12.12</td>\n",
       "      <td>0.684</td>\n",
       "      <td>1575.0</td>\n",
       "    </tr>\n",
       "  </tbody>\n",
       "</table>\n",
       "<p>5 rows × 24 columns</p>\n",
       "</div>"
      ],
      "text/plain": [
       "     orderID businessType    dateOnly  timeOnly business_vs_Customer  \\\n",
       "550     1625     Pharmacy  2021-11-01  10:09:07             business   \n",
       "552     1627     Pharmacy  2021-11-01  16:49:38             business   \n",
       "553     1629     Pharmacy  2021-11-02  12:59:35             business   \n",
       "554     1630     Pharmacy  2021-11-02  14:10:49             business   \n",
       "555     1631     Pharmacy  2021-11-02  17:03:41             business   \n",
       "\n",
       "            packageName                       packageDimensions  \\\n",
       "550  Envelope (up to 3)  Length/Width/Height -- 30cm/21cm/2.5cm   \n",
       "552  Envelope (up to 3)  Length/Width/Height -- 30cm/21cm/2.5cm   \n",
       "553  Envelope (up to 3)  Length/Width/Height -- 30cm/21cm/2.5cm   \n",
       "554  Envelope (up to 3)  Length/Width/Height -- 30cm/21cm/2.5cm   \n",
       "555  Envelope (up to 3)  Length/Width/Height -- 30cm/21cm/2.5cm   \n",
       "\n",
       "     numberOfPackages                                    addressOfSender  \\\n",
       "550                 1  105, Lupus Street, London, Greater London, SW1...   \n",
       "552                 1  Medicine Chest, 415, 413  King's Road, London,...   \n",
       "553                 1  Medicine Chest, 415, 413  King's Road, London,...   \n",
       "554                 1  Oza Chemist, 9, Fulham Broadway, London, Great...   \n",
       "555                 1  413, King's Road, London, Greater London, SW10...   \n",
       "\n",
       "     estimatedDistance  ...  collectionDurationInMinutes  vehicleEfficiency  \\\n",
       "550                2.5  ...                          0.0           0.611111   \n",
       "552                3.0  ...                          0.0           0.833333   \n",
       "553                3.0  ...                          0.0           0.833333   \n",
       "554                3.9  ...                          0.0           4.333330   \n",
       "555                3.0  ...                          0.0           1.000000   \n",
       "\n",
       "     isExpressDelivery  isMultidropCourierOrder  numberOfReturns  \\\n",
       "550                1.0                        0                0   \n",
       "552                0.0                        0                0   \n",
       "553                1.0                        0                0   \n",
       "554                0.0                        0                0   \n",
       "555                1.0                        0                0   \n",
       "\n",
       "     numberOfDropoffs                                    senderAddress  \\\n",
       "550                 1                    105, , Lupus Street, SW1V 3EN   \n",
       "552                 1  415, Medicine Chest, 413  King's Road, SW10 0LR   \n",
       "553                 1  415, Medicine Chest, 413  King's Road, SW10 0LR   \n",
       "554                 1         9, Oza Chemist, Fulham Broadway, SW6 1AA   \n",
       "555                 1                     413, , King's Road, SW10 0LR   \n",
       "\n",
       "     grandTotalAmount(£)  co2SavedInKG  volume  \n",
       "550                 9.88         0.570  1575.0  \n",
       "552                 8.09         0.684  1575.0  \n",
       "553                12.12         0.684  1575.0  \n",
       "554                 9.59         0.889  1575.0  \n",
       "555                12.12         0.684  1575.0  \n",
       "\n",
       "[5 rows x 24 columns]"
      ]
     },
     "execution_count": 75,
     "metadata": {},
     "output_type": "execute_result"
    }
   ],
   "source": [
    "def calculate_volume(row):\n",
    "    dimensions = row['packageDimensions']\n",
    "    if dimensions == 'Other':\n",
    "        return 'Other'\n",
    "    else:\n",
    "        regex = r\"(\\d+\\.?\\d*)cm\\/(\\d+\\.?\\d*)cm\\/(\\d+\\.?\\d*)cm\"\n",
    "        matches = re.search(regex, dimensions)\n",
    "        if matches:\n",
    "            length = float(matches.group(1))\n",
    "            width = float(matches.group(2))\n",
    "            height = float(matches.group(3))\n",
    "            volume = length * width * height\n",
    "            return round(volume, 2)\n",
    "        else:\n",
    "            return None\n",
    "\n",
    "df['volume'] = df.apply(calculate_volume, axis=1)\n",
    "df.head()"
   ]
  },
  {
   "cell_type": "markdown",
   "id": "82403054",
   "metadata": {},
   "source": [
    "Next, the volumes were grouped into four categories: ‘Small’, ‘Medium’, ‘Large’, and ‘Other’ based on appropriate cutoff thresholds. This transformation allows for a simplified and more meaningful representation of the package size information, enabling more efficient and effective analysis of the data."
   ]
  },
  {
   "cell_type": "code",
   "execution_count": 76,
   "id": "064ac47a",
   "metadata": {},
   "outputs": [],
   "source": [
    "def get_volume_category(volume):\n",
    "    if volume == 'Other':\n",
    "        return 'Other'\n",
    "    elif volume < 10000:\n",
    "        return 'Small'\n",
    "    elif volume < 40000:\n",
    "        return 'Medium'\n",
    "    else:\n",
    "        return 'Large'"
   ]
  },
  {
   "cell_type": "code",
   "execution_count": 77,
   "id": "a6d0658e",
   "metadata": {},
   "outputs": [],
   "source": [
    "df['volume_category'] = df['volume'].apply(get_volume_category)"
   ]
  },
  {
   "cell_type": "code",
   "execution_count": 78,
   "id": "a0fa8229",
   "metadata": {
    "scrolled": true
   },
   "outputs": [
    {
     "name": "stdout",
     "output_type": "stream",
     "text": [
      "['Small' 'Medium' 'Other']\n"
     ]
    }
   ],
   "source": [
    "unique_values = df['volume_category'].unique()\n",
    "print(unique_values)"
   ]
  },
  {
   "cell_type": "code",
   "execution_count": 79,
   "id": "e68b8392",
   "metadata": {},
   "outputs": [],
   "source": [
    "df = df.drop(columns=['packageName','packageDimensions','volume'])"
   ]
  },
  {
   "cell_type": "markdown",
   "id": "e6948129",
   "metadata": {},
   "source": [
    "**senderAddress**"
   ]
  },
  {
   "cell_type": "markdown",
   "id": "e3bdbefc",
   "metadata": {},
   "source": [
    "Similarly, extracting the postcodes from the address fields can help simplify the process of identifying geographic patterns in the location of the sender. The senderAddress column is formatted in a better way than the addressOfSender column to extract the postcodes."
   ]
  },
  {
   "cell_type": "code",
   "execution_count": 80,
   "id": "b19c6b53",
   "metadata": {},
   "outputs": [],
   "source": [
    "df = df.drop(columns=['addressOfSender'])"
   ]
  },
  {
   "cell_type": "code",
   "execution_count": 81,
   "id": "b0d681e1",
   "metadata": {},
   "outputs": [],
   "source": [
    "# Extract postcodes\n",
    "df['sender_postcodes'] = df['senderAddress'].str.extract(r'([A-Z]{1,2}\\d{1,2}\\s\\d[A-Z]{2})')\n",
    "df = df.drop(columns = ['senderAddress'])"
   ]
  },
  {
   "cell_type": "code",
   "execution_count": 82,
   "id": "162410f0",
   "metadata": {},
   "outputs": [
    {
     "name": "stdout",
     "output_type": "stream",
     "text": [
      "Number of missing values in sender_postcodes column: 15\n"
     ]
    }
   ],
   "source": [
    "# Check for missing values after this transformation\n",
    "missing_values = df['sender_postcodes'].isnull().sum()\n",
    "\n",
    "# Print the number of missing values\n",
    "print(\"Number of missing values in sender_postcodes column:\", missing_values)"
   ]
  },
  {
   "cell_type": "markdown",
   "id": "7c249e9b",
   "metadata": {},
   "source": [
    "So this process generated some missing values, most likely due to errors in the senderAddress column."
   ]
  },
  {
   "cell_type": "code",
   "execution_count": 83,
   "id": "fc619978",
   "metadata": {
    "scrolled": true
   },
   "outputs": [
    {
     "name": "stdout",
     "output_type": "stream",
     "text": [
      "Number of rows after dropping missing values: 2202\n"
     ]
    }
   ],
   "source": [
    "df.dropna(subset=['sender_postcodes'], inplace=True)\n",
    "\n",
    "# Verify the changes\n",
    "print(\"Number of rows after dropping missing values:\", len(df))"
   ]
  },
  {
   "cell_type": "markdown",
   "id": "9474c520",
   "metadata": {},
   "source": [
    "Now, we have this other file containing more information on the latitude, longitude and region of each postcode district."
   ]
  },
  {
   "cell_type": "code",
   "execution_count": 84,
   "id": "8bf3f2cb",
   "metadata": {},
   "outputs": [
    {
     "data": {
      "text/html": [
       "<div>\n",
       "<style scoped>\n",
       "    .dataframe tbody tr th:only-of-type {\n",
       "        vertical-align: middle;\n",
       "    }\n",
       "\n",
       "    .dataframe tbody tr th {\n",
       "        vertical-align: top;\n",
       "    }\n",
       "\n",
       "    .dataframe thead th {\n",
       "        text-align: right;\n",
       "    }\n",
       "</style>\n",
       "<table border=\"1\" class=\"dataframe\">\n",
       "  <thead>\n",
       "    <tr style=\"text-align: right;\">\n",
       "      <th></th>\n",
       "      <th>Postcode</th>\n",
       "      <th>Latitude</th>\n",
       "      <th>Longitude</th>\n",
       "      <th>Easting</th>\n",
       "      <th>Northing</th>\n",
       "      <th>Grid Reference</th>\n",
       "      <th>Town/Area</th>\n",
       "      <th>Region</th>\n",
       "      <th>Postcodes</th>\n",
       "      <th>Active postcodes</th>\n",
       "      <th>Population</th>\n",
       "      <th>Households</th>\n",
       "      <th>Nearby districts</th>\n",
       "    </tr>\n",
       "  </thead>\n",
       "  <tbody>\n",
       "    <tr>\n",
       "      <th>0</th>\n",
       "      <td>AB1</td>\n",
       "      <td>57.1269</td>\n",
       "      <td>-2.13644</td>\n",
       "      <td>391839.0</td>\n",
       "      <td>804005.0</td>\n",
       "      <td>NJ918040</td>\n",
       "      <td>Aberdeen</td>\n",
       "      <td>Aberdeen</td>\n",
       "      <td>2655.0</td>\n",
       "      <td>0.0</td>\n",
       "      <td>NaN</td>\n",
       "      <td>NaN</td>\n",
       "      <td>AB10, AB15, AB9, AB25, AB2, AB12, AB16, AB11, ...</td>\n",
       "    </tr>\n",
       "    <tr>\n",
       "      <th>1</th>\n",
       "      <td>AB2</td>\n",
       "      <td>57.1713</td>\n",
       "      <td>-2.14152</td>\n",
       "      <td>391541.0</td>\n",
       "      <td>808948.0</td>\n",
       "      <td>NJ915089</td>\n",
       "      <td>Aberdeen</td>\n",
       "      <td>Aberdeen</td>\n",
       "      <td>3070.0</td>\n",
       "      <td>0.0</td>\n",
       "      <td>NaN</td>\n",
       "      <td>NaN</td>\n",
       "      <td>AB16, AB22, AB24, AB25, AB1, AB9, AB15, AB10, ...</td>\n",
       "    </tr>\n",
       "    <tr>\n",
       "      <th>2</th>\n",
       "      <td>AB3</td>\n",
       "      <td>57.0876</td>\n",
       "      <td>-2.59624</td>\n",
       "      <td>363963.0</td>\n",
       "      <td>799780.0</td>\n",
       "      <td>NO639997</td>\n",
       "      <td>Aberdeen</td>\n",
       "      <td>Aberdeen</td>\n",
       "      <td>2168.0</td>\n",
       "      <td>0.0</td>\n",
       "      <td>NaN</td>\n",
       "      <td>NaN</td>\n",
       "      <td>AB31, AB34, AB52, AB33, AB14, AB32, AB30, AB13...</td>\n",
       "    </tr>\n",
       "    <tr>\n",
       "      <th>3</th>\n",
       "      <td>AB4</td>\n",
       "      <td>57.5343</td>\n",
       "      <td>-2.12713</td>\n",
       "      <td>392487.0</td>\n",
       "      <td>849358.0</td>\n",
       "      <td>NJ924493</td>\n",
       "      <td>Fraserburgh, Peterhead, Macduff</td>\n",
       "      <td>Aberdeen</td>\n",
       "      <td>2956.0</td>\n",
       "      <td>0.0</td>\n",
       "      <td>NaN</td>\n",
       "      <td>NaN</td>\n",
       "      <td>AB41, AB43, AB42, AB53, AB22, AB23, AB2, AB24,...</td>\n",
       "    </tr>\n",
       "    <tr>\n",
       "      <th>4</th>\n",
       "      <td>AB5</td>\n",
       "      <td>57.4652</td>\n",
       "      <td>-2.64764</td>\n",
       "      <td>361248.0</td>\n",
       "      <td>841843.0</td>\n",
       "      <td>NJ612418</td>\n",
       "      <td>Buckie, Huntly, Inverurie</td>\n",
       "      <td>Aberdeen</td>\n",
       "      <td>3002.0</td>\n",
       "      <td>0.0</td>\n",
       "      <td>NaN</td>\n",
       "      <td>NaN</td>\n",
       "      <td>AB54, AB52, AB45, AB53, AB33, AB44, AB55, AB51...</td>\n",
       "    </tr>\n",
       "  </tbody>\n",
       "</table>\n",
       "</div>"
      ],
      "text/plain": [
       "  Postcode  Latitude  Longitude   Easting  Northing Grid Reference  \\\n",
       "0      AB1   57.1269   -2.13644  391839.0  804005.0       NJ918040   \n",
       "1      AB2   57.1713   -2.14152  391541.0  808948.0       NJ915089   \n",
       "2      AB3   57.0876   -2.59624  363963.0  799780.0       NO639997   \n",
       "3      AB4   57.5343   -2.12713  392487.0  849358.0       NJ924493   \n",
       "4      AB5   57.4652   -2.64764  361248.0  841843.0       NJ612418   \n",
       "\n",
       "                         Town/Area    Region  Postcodes  Active postcodes  \\\n",
       "0                         Aberdeen  Aberdeen     2655.0               0.0   \n",
       "1                         Aberdeen  Aberdeen     3070.0               0.0   \n",
       "2                         Aberdeen  Aberdeen     2168.0               0.0   \n",
       "3  Fraserburgh, Peterhead, Macduff  Aberdeen     2956.0               0.0   \n",
       "4        Buckie, Huntly, Inverurie  Aberdeen     3002.0               0.0   \n",
       "\n",
       "   Population  Households                                   Nearby districts  \n",
       "0         NaN         NaN  AB10, AB15, AB9, AB25, AB2, AB12, AB16, AB11, ...  \n",
       "1         NaN         NaN  AB16, AB22, AB24, AB25, AB1, AB9, AB15, AB10, ...  \n",
       "2         NaN         NaN  AB31, AB34, AB52, AB33, AB14, AB32, AB30, AB13...  \n",
       "3         NaN         NaN  AB41, AB43, AB42, AB53, AB22, AB23, AB2, AB24,...  \n",
       "4         NaN         NaN  AB54, AB52, AB45, AB53, AB33, AB44, AB55, AB51...  "
      ]
     },
     "execution_count": 84,
     "metadata": {},
     "output_type": "execute_result"
    }
   ],
   "source": [
    "postcode_data = pd.read_csv('postcode-districts.csv')\n",
    "postcode_data.head()"
   ]
  },
  {
   "cell_type": "markdown",
   "id": "6d1825f3",
   "metadata": {},
   "source": [
    "First, we have to extract the corresponding district information from our postcodes:"
   ]
  },
  {
   "cell_type": "code",
   "execution_count": 85,
   "id": "d2e389ea",
   "metadata": {
    "scrolled": true
   },
   "outputs": [
    {
     "data": {
      "text/html": [
       "<div>\n",
       "<style scoped>\n",
       "    .dataframe tbody tr th:only-of-type {\n",
       "        vertical-align: middle;\n",
       "    }\n",
       "\n",
       "    .dataframe tbody tr th {\n",
       "        vertical-align: top;\n",
       "    }\n",
       "\n",
       "    .dataframe thead th {\n",
       "        text-align: right;\n",
       "    }\n",
       "</style>\n",
       "<table border=\"1\" class=\"dataframe\">\n",
       "  <thead>\n",
       "    <tr style=\"text-align: right;\">\n",
       "      <th></th>\n",
       "      <th>orderID</th>\n",
       "      <th>businessType</th>\n",
       "      <th>dateOnly</th>\n",
       "      <th>timeOnly</th>\n",
       "      <th>business_vs_Customer</th>\n",
       "      <th>numberOfPackages</th>\n",
       "      <th>estimatedDistance</th>\n",
       "      <th>timeInTransitInMinutes</th>\n",
       "      <th>totalOrderDurationInMinutes</th>\n",
       "      <th>confirmationTimeInMinutes</th>\n",
       "      <th>...</th>\n",
       "      <th>collectionDurationInMinutes</th>\n",
       "      <th>vehicleEfficiency</th>\n",
       "      <th>isExpressDelivery</th>\n",
       "      <th>isMultidropCourierOrder</th>\n",
       "      <th>numberOfReturns</th>\n",
       "      <th>numberOfDropoffs</th>\n",
       "      <th>grandTotalAmount(£)</th>\n",
       "      <th>co2SavedInKG</th>\n",
       "      <th>volume_category</th>\n",
       "      <th>district</th>\n",
       "    </tr>\n",
       "  </thead>\n",
       "  <tbody>\n",
       "    <tr>\n",
       "      <th>552</th>\n",
       "      <td>1627</td>\n",
       "      <td>Pharmacy</td>\n",
       "      <td>2021-11-01</td>\n",
       "      <td>16:49:38</td>\n",
       "      <td>business</td>\n",
       "      <td>1</td>\n",
       "      <td>3.0</td>\n",
       "      <td>15</td>\n",
       "      <td>119</td>\n",
       "      <td>75</td>\n",
       "      <td>...</td>\n",
       "      <td>0.0</td>\n",
       "      <td>0.833333</td>\n",
       "      <td>0.0</td>\n",
       "      <td>0</td>\n",
       "      <td>0</td>\n",
       "      <td>1</td>\n",
       "      <td>8.09</td>\n",
       "      <td>0.684</td>\n",
       "      <td>Small</td>\n",
       "      <td>SW10</td>\n",
       "    </tr>\n",
       "    <tr>\n",
       "      <th>553</th>\n",
       "      <td>1629</td>\n",
       "      <td>Pharmacy</td>\n",
       "      <td>2021-11-02</td>\n",
       "      <td>12:59:35</td>\n",
       "      <td>business</td>\n",
       "      <td>1</td>\n",
       "      <td>3.0</td>\n",
       "      <td>14</td>\n",
       "      <td>58</td>\n",
       "      <td>2</td>\n",
       "      <td>...</td>\n",
       "      <td>0.0</td>\n",
       "      <td>0.833333</td>\n",
       "      <td>1.0</td>\n",
       "      <td>0</td>\n",
       "      <td>0</td>\n",
       "      <td>1</td>\n",
       "      <td>12.12</td>\n",
       "      <td>0.684</td>\n",
       "      <td>Small</td>\n",
       "      <td>SW10</td>\n",
       "    </tr>\n",
       "    <tr>\n",
       "      <th>554</th>\n",
       "      <td>1630</td>\n",
       "      <td>Pharmacy</td>\n",
       "      <td>2021-11-02</td>\n",
       "      <td>14:10:49</td>\n",
       "      <td>business</td>\n",
       "      <td>1</td>\n",
       "      <td>3.9</td>\n",
       "      <td>33</td>\n",
       "      <td>106</td>\n",
       "      <td>1</td>\n",
       "      <td>...</td>\n",
       "      <td>0.0</td>\n",
       "      <td>4.333330</td>\n",
       "      <td>0.0</td>\n",
       "      <td>0</td>\n",
       "      <td>0</td>\n",
       "      <td>1</td>\n",
       "      <td>9.59</td>\n",
       "      <td>0.889</td>\n",
       "      <td>Small</td>\n",
       "      <td>SW6</td>\n",
       "    </tr>\n",
       "    <tr>\n",
       "      <th>555</th>\n",
       "      <td>1631</td>\n",
       "      <td>Pharmacy</td>\n",
       "      <td>2021-11-02</td>\n",
       "      <td>17:03:41</td>\n",
       "      <td>business</td>\n",
       "      <td>1</td>\n",
       "      <td>3.0</td>\n",
       "      <td>17</td>\n",
       "      <td>51</td>\n",
       "      <td>10</td>\n",
       "      <td>...</td>\n",
       "      <td>0.0</td>\n",
       "      <td>1.000000</td>\n",
       "      <td>1.0</td>\n",
       "      <td>0</td>\n",
       "      <td>0</td>\n",
       "      <td>1</td>\n",
       "      <td>12.12</td>\n",
       "      <td>0.684</td>\n",
       "      <td>Small</td>\n",
       "      <td>SW10</td>\n",
       "    </tr>\n",
       "    <tr>\n",
       "      <th>556</th>\n",
       "      <td>1632</td>\n",
       "      <td>Pharmacy</td>\n",
       "      <td>2021-11-02</td>\n",
       "      <td>17:20:03</td>\n",
       "      <td>business</td>\n",
       "      <td>1</td>\n",
       "      <td>2.1</td>\n",
       "      <td>28</td>\n",
       "      <td>64</td>\n",
       "      <td>0</td>\n",
       "      <td>...</td>\n",
       "      <td>0.0</td>\n",
       "      <td>2.666670</td>\n",
       "      <td>0.0</td>\n",
       "      <td>0</td>\n",
       "      <td>0</td>\n",
       "      <td>1</td>\n",
       "      <td>6.59</td>\n",
       "      <td>0.479</td>\n",
       "      <td>Small</td>\n",
       "      <td>SW10</td>\n",
       "    </tr>\n",
       "  </tbody>\n",
       "</table>\n",
       "<p>5 rows × 21 columns</p>\n",
       "</div>"
      ],
      "text/plain": [
       "     orderID businessType    dateOnly  timeOnly business_vs_Customer  \\\n",
       "552     1627     Pharmacy  2021-11-01  16:49:38             business   \n",
       "553     1629     Pharmacy  2021-11-02  12:59:35             business   \n",
       "554     1630     Pharmacy  2021-11-02  14:10:49             business   \n",
       "555     1631     Pharmacy  2021-11-02  17:03:41             business   \n",
       "556     1632     Pharmacy  2021-11-02  17:20:03             business   \n",
       "\n",
       "     numberOfPackages  estimatedDistance  timeInTransitInMinutes  \\\n",
       "552                 1                3.0                      15   \n",
       "553                 1                3.0                      14   \n",
       "554                 1                3.9                      33   \n",
       "555                 1                3.0                      17   \n",
       "556                 1                2.1                      28   \n",
       "\n",
       "     totalOrderDurationInMinutes  confirmationTimeInMinutes  ...  \\\n",
       "552                          119                         75  ...   \n",
       "553                           58                          2  ...   \n",
       "554                          106                          1  ...   \n",
       "555                           51                         10  ...   \n",
       "556                           64                          0  ...   \n",
       "\n",
       "     collectionDurationInMinutes  vehicleEfficiency  isExpressDelivery  \\\n",
       "552                          0.0           0.833333                0.0   \n",
       "553                          0.0           0.833333                1.0   \n",
       "554                          0.0           4.333330                0.0   \n",
       "555                          0.0           1.000000                1.0   \n",
       "556                          0.0           2.666670                0.0   \n",
       "\n",
       "     isMultidropCourierOrder  numberOfReturns  numberOfDropoffs  \\\n",
       "552                        0                0                 1   \n",
       "553                        0                0                 1   \n",
       "554                        0                0                 1   \n",
       "555                        0                0                 1   \n",
       "556                        0                0                 1   \n",
       "\n",
       "     grandTotalAmount(£)  co2SavedInKG  volume_category district  \n",
       "552                 8.09         0.684            Small     SW10  \n",
       "553                12.12         0.684            Small     SW10  \n",
       "554                 9.59         0.889            Small      SW6  \n",
       "555                12.12         0.684            Small     SW10  \n",
       "556                 6.59         0.479            Small     SW10  \n",
       "\n",
       "[5 rows x 21 columns]"
      ]
     },
     "execution_count": 85,
     "metadata": {},
     "output_type": "execute_result"
    }
   ],
   "source": [
    "df['district'] = df['sender_postcodes'].str.split(' ').str[0]\n",
    "df = df.drop(columns=['sender_postcodes'])\n",
    "df.head()"
   ]
  },
  {
   "cell_type": "markdown",
   "id": "f944d527",
   "metadata": {},
   "source": [
    "Postcodes are useful for identifying regions, and we can merge this information with another dataset containing latitude, longitude, and region information for each postcode district. "
   ]
  },
  {
   "cell_type": "code",
   "execution_count": 86,
   "id": "9fe50616",
   "metadata": {},
   "outputs": [
    {
     "data": {
      "text/html": [
       "<div>\n",
       "<style scoped>\n",
       "    .dataframe tbody tr th:only-of-type {\n",
       "        vertical-align: middle;\n",
       "    }\n",
       "\n",
       "    .dataframe tbody tr th {\n",
       "        vertical-align: top;\n",
       "    }\n",
       "\n",
       "    .dataframe thead th {\n",
       "        text-align: right;\n",
       "    }\n",
       "</style>\n",
       "<table border=\"1\" class=\"dataframe\">\n",
       "  <thead>\n",
       "    <tr style=\"text-align: right;\">\n",
       "      <th></th>\n",
       "      <th>orderID</th>\n",
       "      <th>businessType</th>\n",
       "      <th>dateOnly</th>\n",
       "      <th>timeOnly</th>\n",
       "      <th>business_vs_Customer</th>\n",
       "      <th>numberOfPackages</th>\n",
       "      <th>estimatedDistance</th>\n",
       "      <th>timeInTransitInMinutes</th>\n",
       "      <th>totalOrderDurationInMinutes</th>\n",
       "      <th>confirmationTimeInMinutes</th>\n",
       "      <th>...</th>\n",
       "      <th>collectionDurationInMinutes</th>\n",
       "      <th>vehicleEfficiency</th>\n",
       "      <th>isExpressDelivery</th>\n",
       "      <th>isMultidropCourierOrder</th>\n",
       "      <th>numberOfReturns</th>\n",
       "      <th>numberOfDropoffs</th>\n",
       "      <th>grandTotalAmount(£)</th>\n",
       "      <th>co2SavedInKG</th>\n",
       "      <th>volume_category</th>\n",
       "      <th>Region</th>\n",
       "    </tr>\n",
       "  </thead>\n",
       "  <tbody>\n",
       "    <tr>\n",
       "      <th>0</th>\n",
       "      <td>1627</td>\n",
       "      <td>Pharmacy</td>\n",
       "      <td>2021-11-01</td>\n",
       "      <td>16:49:38</td>\n",
       "      <td>business</td>\n",
       "      <td>1</td>\n",
       "      <td>3.0</td>\n",
       "      <td>15</td>\n",
       "      <td>119</td>\n",
       "      <td>75</td>\n",
       "      <td>...</td>\n",
       "      <td>0.0</td>\n",
       "      <td>0.833333</td>\n",
       "      <td>0.0</td>\n",
       "      <td>0</td>\n",
       "      <td>0</td>\n",
       "      <td>1</td>\n",
       "      <td>8.09</td>\n",
       "      <td>0.684</td>\n",
       "      <td>Small</td>\n",
       "      <td>Kensington and Chelsea</td>\n",
       "    </tr>\n",
       "    <tr>\n",
       "      <th>1</th>\n",
       "      <td>1629</td>\n",
       "      <td>Pharmacy</td>\n",
       "      <td>2021-11-02</td>\n",
       "      <td>12:59:35</td>\n",
       "      <td>business</td>\n",
       "      <td>1</td>\n",
       "      <td>3.0</td>\n",
       "      <td>14</td>\n",
       "      <td>58</td>\n",
       "      <td>2</td>\n",
       "      <td>...</td>\n",
       "      <td>0.0</td>\n",
       "      <td>0.833333</td>\n",
       "      <td>1.0</td>\n",
       "      <td>0</td>\n",
       "      <td>0</td>\n",
       "      <td>1</td>\n",
       "      <td>12.12</td>\n",
       "      <td>0.684</td>\n",
       "      <td>Small</td>\n",
       "      <td>Kensington and Chelsea</td>\n",
       "    </tr>\n",
       "    <tr>\n",
       "      <th>2</th>\n",
       "      <td>1630</td>\n",
       "      <td>Pharmacy</td>\n",
       "      <td>2021-11-02</td>\n",
       "      <td>14:10:49</td>\n",
       "      <td>business</td>\n",
       "      <td>1</td>\n",
       "      <td>3.9</td>\n",
       "      <td>33</td>\n",
       "      <td>106</td>\n",
       "      <td>1</td>\n",
       "      <td>...</td>\n",
       "      <td>0.0</td>\n",
       "      <td>4.333330</td>\n",
       "      <td>0.0</td>\n",
       "      <td>0</td>\n",
       "      <td>0</td>\n",
       "      <td>1</td>\n",
       "      <td>9.59</td>\n",
       "      <td>0.889</td>\n",
       "      <td>Small</td>\n",
       "      <td>Hammersmith and Fulham</td>\n",
       "    </tr>\n",
       "    <tr>\n",
       "      <th>3</th>\n",
       "      <td>1631</td>\n",
       "      <td>Pharmacy</td>\n",
       "      <td>2021-11-02</td>\n",
       "      <td>17:03:41</td>\n",
       "      <td>business</td>\n",
       "      <td>1</td>\n",
       "      <td>3.0</td>\n",
       "      <td>17</td>\n",
       "      <td>51</td>\n",
       "      <td>10</td>\n",
       "      <td>...</td>\n",
       "      <td>0.0</td>\n",
       "      <td>1.000000</td>\n",
       "      <td>1.0</td>\n",
       "      <td>0</td>\n",
       "      <td>0</td>\n",
       "      <td>1</td>\n",
       "      <td>12.12</td>\n",
       "      <td>0.684</td>\n",
       "      <td>Small</td>\n",
       "      <td>Kensington and Chelsea</td>\n",
       "    </tr>\n",
       "    <tr>\n",
       "      <th>4</th>\n",
       "      <td>1632</td>\n",
       "      <td>Pharmacy</td>\n",
       "      <td>2021-11-02</td>\n",
       "      <td>17:20:03</td>\n",
       "      <td>business</td>\n",
       "      <td>1</td>\n",
       "      <td>2.1</td>\n",
       "      <td>28</td>\n",
       "      <td>64</td>\n",
       "      <td>0</td>\n",
       "      <td>...</td>\n",
       "      <td>0.0</td>\n",
       "      <td>2.666670</td>\n",
       "      <td>0.0</td>\n",
       "      <td>0</td>\n",
       "      <td>0</td>\n",
       "      <td>1</td>\n",
       "      <td>6.59</td>\n",
       "      <td>0.479</td>\n",
       "      <td>Small</td>\n",
       "      <td>Kensington and Chelsea</td>\n",
       "    </tr>\n",
       "  </tbody>\n",
       "</table>\n",
       "<p>5 rows × 21 columns</p>\n",
       "</div>"
      ],
      "text/plain": [
       "   orderID businessType    dateOnly  timeOnly business_vs_Customer  \\\n",
       "0     1627     Pharmacy  2021-11-01  16:49:38             business   \n",
       "1     1629     Pharmacy  2021-11-02  12:59:35             business   \n",
       "2     1630     Pharmacy  2021-11-02  14:10:49             business   \n",
       "3     1631     Pharmacy  2021-11-02  17:03:41             business   \n",
       "4     1632     Pharmacy  2021-11-02  17:20:03             business   \n",
       "\n",
       "   numberOfPackages  estimatedDistance  timeInTransitInMinutes  \\\n",
       "0                 1                3.0                      15   \n",
       "1                 1                3.0                      14   \n",
       "2                 1                3.9                      33   \n",
       "3                 1                3.0                      17   \n",
       "4                 1                2.1                      28   \n",
       "\n",
       "   totalOrderDurationInMinutes  confirmationTimeInMinutes  ...  \\\n",
       "0                          119                         75  ...   \n",
       "1                           58                          2  ...   \n",
       "2                          106                          1  ...   \n",
       "3                           51                         10  ...   \n",
       "4                           64                          0  ...   \n",
       "\n",
       "   collectionDurationInMinutes  vehicleEfficiency  isExpressDelivery  \\\n",
       "0                          0.0           0.833333                0.0   \n",
       "1                          0.0           0.833333                1.0   \n",
       "2                          0.0           4.333330                0.0   \n",
       "3                          0.0           1.000000                1.0   \n",
       "4                          0.0           2.666670                0.0   \n",
       "\n",
       "   isMultidropCourierOrder  numberOfReturns  numberOfDropoffs  \\\n",
       "0                        0                0                 1   \n",
       "1                        0                0                 1   \n",
       "2                        0                0                 1   \n",
       "3                        0                0                 1   \n",
       "4                        0                0                 1   \n",
       "\n",
       "   grandTotalAmount(£)  co2SavedInKG  volume_category                  Region  \n",
       "0                 8.09         0.684            Small  Kensington and Chelsea  \n",
       "1                12.12         0.684            Small  Kensington and Chelsea  \n",
       "2                 9.59         0.889            Small  Hammersmith and Fulham  \n",
       "3                12.12         0.684            Small  Kensington and Chelsea  \n",
       "4                 6.59         0.479            Small  Kensington and Chelsea  \n",
       "\n",
       "[5 rows x 21 columns]"
      ]
     },
     "execution_count": 86,
     "metadata": {},
     "output_type": "execute_result"
    }
   ],
   "source": [
    "# merge necessary data from the postcode_data csv\n",
    "df = df.merge(postcode_data[['Postcode', 'Region']], left_on='district', right_on='Postcode', how='left')\n",
    "df = df.drop(columns=['Postcode','district'])\n",
    "df.head()"
   ]
  },
  {
   "cell_type": "markdown",
   "id": "1db5a255",
   "metadata": {},
   "source": [
    "**Date and Time**"
   ]
  },
  {
   "cell_type": "markdown",
   "id": "e3bed69a",
   "metadata": {},
   "source": [
    "We convert the 'dateOnly' and 'timeOnly' columns into proper date and time data types using the to_datetime function. Then, we extract additional features from the date and time information."
   ]
  },
  {
   "cell_type": "code",
   "execution_count": 87,
   "id": "be28ea8e",
   "metadata": {},
   "outputs": [],
   "source": [
    "df['dateOnly'] = pd.to_datetime(df['dateOnly'])\n",
    "df['timeOnly'] = pd.to_datetime(df['timeOnly']).dt.time"
   ]
  },
  {
   "cell_type": "code",
   "execution_count": 88,
   "id": "39b9574d",
   "metadata": {},
   "outputs": [],
   "source": [
    "df['year'] = pd.to_datetime(df['dateOnly']).dt.year\n",
    "df['month'] = pd.to_datetime(df['dateOnly']).dt.month\n",
    "df['day'] = pd.to_datetime(df['dateOnly']).dt.day"
   ]
  },
  {
   "cell_type": "markdown",
   "id": "6551c501",
   "metadata": {},
   "source": [
    "We can also derive the time of day from the timeOnly variable."
   ]
  },
  {
   "cell_type": "code",
   "execution_count": 89,
   "id": "f739f7b3",
   "metadata": {},
   "outputs": [],
   "source": [
    "# Extract the hour component from 'timeOnly' and assign it to 'timeOfDay'\n",
    "df['timeOfDay'] = df['timeOnly'].apply(lambda x: x.hour)"
   ]
  },
  {
   "cell_type": "code",
   "execution_count": 90,
   "id": "c2ac6761",
   "metadata": {},
   "outputs": [],
   "source": [
    "# Define a dictionary to map hours to time of day categories\n",
    "time_categories = {\n",
    "    0: 'Night',\n",
    "    1: 'Night',\n",
    "    2: 'Night',\n",
    "    3: 'Night',\n",
    "    4: 'Night',\n",
    "    5: 'Night',\n",
    "    6: 'Morning',\n",
    "    7: 'Morning',\n",
    "    8: 'Morning',\n",
    "    9: 'Morning',\n",
    "    10: 'Morning',\n",
    "    11: 'Morning',\n",
    "    12: 'Afternoon',\n",
    "    13: 'Afternoon',\n",
    "    14: 'Afternoon',\n",
    "    15: 'Afternoon',\n",
    "    16: 'Afternoon',\n",
    "    17: 'Afternoon',\n",
    "    18: 'Evening',\n",
    "    19: 'Evening',\n",
    "    20: 'Evening',\n",
    "    21: 'Evening',\n",
    "    22: 'Evening',\n",
    "    23: 'Evening'\n",
    "}\n",
    "\n",
    "# Map the hour values to the time of day categories\n",
    "df['timeOfDay'] = df['timeOfDay'].map(time_categories)"
   ]
  },
  {
   "cell_type": "markdown",
   "id": "9e93db88",
   "metadata": {},
   "source": [
    "Let's check if there are any odd orders."
   ]
  },
  {
   "cell_type": "code",
   "execution_count": 91,
   "id": "93b530d8",
   "metadata": {},
   "outputs": [
    {
     "name": "stdout",
     "output_type": "stream",
     "text": [
      "Number of orders delivered at Night: 1\n"
     ]
    }
   ],
   "source": [
    "# Filter the DataFrame for orders delivered at night\n",
    "night_orders = df[df['timeOfDay'] == 'Night']\n",
    "\n",
    "# Count the number of orders\n",
    "num_night_orders = len(night_orders)\n",
    "\n",
    "# Print the result\n",
    "print(f\"Number of orders delivered at Night: {num_night_orders}\")"
   ]
  },
  {
   "cell_type": "markdown",
   "id": "5753e39e",
   "metadata": {},
   "source": [
    "We can remove the orders placed at 'night' based on the assumption that this must be an error as the company does not operate at night."
   ]
  },
  {
   "cell_type": "code",
   "execution_count": 92,
   "id": "386b92d2",
   "metadata": {},
   "outputs": [],
   "source": [
    "# Delete the order with timeOfDay = 'Night'\n",
    "df = df[df['timeOfDay'] != 'Night']"
   ]
  },
  {
   "cell_type": "markdown",
   "id": "2ffc301a",
   "metadata": {},
   "source": [
    "I also want to derive the season from the dateOnly variable as this might provide useful insights. "
   ]
  },
  {
   "cell_type": "code",
   "execution_count": 93,
   "id": "1ad3ea1a",
   "metadata": {},
   "outputs": [],
   "source": [
    "# Define a function to map the month to a season\n",
    "def get_season(month):\n",
    "    if month in [12, 1, 2]:\n",
    "        return 'Winter'\n",
    "    elif month in [3, 4, 5]:\n",
    "        return 'Spring'\n",
    "    elif month in [6, 7, 8]:\n",
    "        return 'Summer'\n",
    "    else:\n",
    "        return 'Autumn'\n",
    "\n",
    "# Create a new column 'Season' by applying the function to the month\n",
    "df['Season'] = df['dateOnly'].dt.month.map(get_season)"
   ]
  },
  {
   "cell_type": "code",
   "execution_count": 94,
   "id": "36a499e9",
   "metadata": {
    "scrolled": true
   },
   "outputs": [
    {
     "data": {
      "text/html": [
       "<div>\n",
       "<style scoped>\n",
       "    .dataframe tbody tr th:only-of-type {\n",
       "        vertical-align: middle;\n",
       "    }\n",
       "\n",
       "    .dataframe tbody tr th {\n",
       "        vertical-align: top;\n",
       "    }\n",
       "\n",
       "    .dataframe thead th {\n",
       "        text-align: right;\n",
       "    }\n",
       "</style>\n",
       "<table border=\"1\" class=\"dataframe\">\n",
       "  <thead>\n",
       "    <tr style=\"text-align: right;\">\n",
       "      <th></th>\n",
       "      <th>orderID</th>\n",
       "      <th>businessType</th>\n",
       "      <th>dateOnly</th>\n",
       "      <th>timeOnly</th>\n",
       "      <th>business_vs_Customer</th>\n",
       "      <th>numberOfPackages</th>\n",
       "      <th>estimatedDistance</th>\n",
       "      <th>timeInTransitInMinutes</th>\n",
       "      <th>totalOrderDurationInMinutes</th>\n",
       "      <th>confirmationTimeInMinutes</th>\n",
       "      <th>...</th>\n",
       "      <th>numberOfDropoffs</th>\n",
       "      <th>grandTotalAmount(£)</th>\n",
       "      <th>co2SavedInKG</th>\n",
       "      <th>volume_category</th>\n",
       "      <th>Region</th>\n",
       "      <th>year</th>\n",
       "      <th>month</th>\n",
       "      <th>day</th>\n",
       "      <th>timeOfDay</th>\n",
       "      <th>Season</th>\n",
       "    </tr>\n",
       "  </thead>\n",
       "  <tbody>\n",
       "    <tr>\n",
       "      <th>0</th>\n",
       "      <td>1627</td>\n",
       "      <td>Pharmacy</td>\n",
       "      <td>2021-11-01</td>\n",
       "      <td>16:49:38</td>\n",
       "      <td>business</td>\n",
       "      <td>1</td>\n",
       "      <td>3.0</td>\n",
       "      <td>15</td>\n",
       "      <td>119</td>\n",
       "      <td>75</td>\n",
       "      <td>...</td>\n",
       "      <td>1</td>\n",
       "      <td>8.09</td>\n",
       "      <td>0.684</td>\n",
       "      <td>Small</td>\n",
       "      <td>Kensington and Chelsea</td>\n",
       "      <td>2021</td>\n",
       "      <td>11</td>\n",
       "      <td>1</td>\n",
       "      <td>Afternoon</td>\n",
       "      <td>Autumn</td>\n",
       "    </tr>\n",
       "    <tr>\n",
       "      <th>1</th>\n",
       "      <td>1629</td>\n",
       "      <td>Pharmacy</td>\n",
       "      <td>2021-11-02</td>\n",
       "      <td>12:59:35</td>\n",
       "      <td>business</td>\n",
       "      <td>1</td>\n",
       "      <td>3.0</td>\n",
       "      <td>14</td>\n",
       "      <td>58</td>\n",
       "      <td>2</td>\n",
       "      <td>...</td>\n",
       "      <td>1</td>\n",
       "      <td>12.12</td>\n",
       "      <td>0.684</td>\n",
       "      <td>Small</td>\n",
       "      <td>Kensington and Chelsea</td>\n",
       "      <td>2021</td>\n",
       "      <td>11</td>\n",
       "      <td>2</td>\n",
       "      <td>Afternoon</td>\n",
       "      <td>Autumn</td>\n",
       "    </tr>\n",
       "    <tr>\n",
       "      <th>2</th>\n",
       "      <td>1630</td>\n",
       "      <td>Pharmacy</td>\n",
       "      <td>2021-11-02</td>\n",
       "      <td>14:10:49</td>\n",
       "      <td>business</td>\n",
       "      <td>1</td>\n",
       "      <td>3.9</td>\n",
       "      <td>33</td>\n",
       "      <td>106</td>\n",
       "      <td>1</td>\n",
       "      <td>...</td>\n",
       "      <td>1</td>\n",
       "      <td>9.59</td>\n",
       "      <td>0.889</td>\n",
       "      <td>Small</td>\n",
       "      <td>Hammersmith and Fulham</td>\n",
       "      <td>2021</td>\n",
       "      <td>11</td>\n",
       "      <td>2</td>\n",
       "      <td>Afternoon</td>\n",
       "      <td>Autumn</td>\n",
       "    </tr>\n",
       "    <tr>\n",
       "      <th>3</th>\n",
       "      <td>1631</td>\n",
       "      <td>Pharmacy</td>\n",
       "      <td>2021-11-02</td>\n",
       "      <td>17:03:41</td>\n",
       "      <td>business</td>\n",
       "      <td>1</td>\n",
       "      <td>3.0</td>\n",
       "      <td>17</td>\n",
       "      <td>51</td>\n",
       "      <td>10</td>\n",
       "      <td>...</td>\n",
       "      <td>1</td>\n",
       "      <td>12.12</td>\n",
       "      <td>0.684</td>\n",
       "      <td>Small</td>\n",
       "      <td>Kensington and Chelsea</td>\n",
       "      <td>2021</td>\n",
       "      <td>11</td>\n",
       "      <td>2</td>\n",
       "      <td>Afternoon</td>\n",
       "      <td>Autumn</td>\n",
       "    </tr>\n",
       "    <tr>\n",
       "      <th>4</th>\n",
       "      <td>1632</td>\n",
       "      <td>Pharmacy</td>\n",
       "      <td>2021-11-02</td>\n",
       "      <td>17:20:03</td>\n",
       "      <td>business</td>\n",
       "      <td>1</td>\n",
       "      <td>2.1</td>\n",
       "      <td>28</td>\n",
       "      <td>64</td>\n",
       "      <td>0</td>\n",
       "      <td>...</td>\n",
       "      <td>1</td>\n",
       "      <td>6.59</td>\n",
       "      <td>0.479</td>\n",
       "      <td>Small</td>\n",
       "      <td>Kensington and Chelsea</td>\n",
       "      <td>2021</td>\n",
       "      <td>11</td>\n",
       "      <td>2</td>\n",
       "      <td>Afternoon</td>\n",
       "      <td>Autumn</td>\n",
       "    </tr>\n",
       "  </tbody>\n",
       "</table>\n",
       "<p>5 rows × 26 columns</p>\n",
       "</div>"
      ],
      "text/plain": [
       "   orderID businessType   dateOnly  timeOnly business_vs_Customer  \\\n",
       "0     1627     Pharmacy 2021-11-01  16:49:38             business   \n",
       "1     1629     Pharmacy 2021-11-02  12:59:35             business   \n",
       "2     1630     Pharmacy 2021-11-02  14:10:49             business   \n",
       "3     1631     Pharmacy 2021-11-02  17:03:41             business   \n",
       "4     1632     Pharmacy 2021-11-02  17:20:03             business   \n",
       "\n",
       "   numberOfPackages  estimatedDistance  timeInTransitInMinutes  \\\n",
       "0                 1                3.0                      15   \n",
       "1                 1                3.0                      14   \n",
       "2                 1                3.9                      33   \n",
       "3                 1                3.0                      17   \n",
       "4                 1                2.1                      28   \n",
       "\n",
       "   totalOrderDurationInMinutes  confirmationTimeInMinutes  ...  \\\n",
       "0                          119                         75  ...   \n",
       "1                           58                          2  ...   \n",
       "2                          106                          1  ...   \n",
       "3                           51                         10  ...   \n",
       "4                           64                          0  ...   \n",
       "\n",
       "   numberOfDropoffs  grandTotalAmount(£)  co2SavedInKG  volume_category  \\\n",
       "0                 1                 8.09         0.684            Small   \n",
       "1                 1                12.12         0.684            Small   \n",
       "2                 1                 9.59         0.889            Small   \n",
       "3                 1                12.12         0.684            Small   \n",
       "4                 1                 6.59         0.479            Small   \n",
       "\n",
       "                   Region  year  month  day  timeOfDay  Season  \n",
       "0  Kensington and Chelsea  2021     11    1  Afternoon  Autumn  \n",
       "1  Kensington and Chelsea  2021     11    2  Afternoon  Autumn  \n",
       "2  Hammersmith and Fulham  2021     11    2  Afternoon  Autumn  \n",
       "3  Kensington and Chelsea  2021     11    2  Afternoon  Autumn  \n",
       "4  Kensington and Chelsea  2021     11    2  Afternoon  Autumn  \n",
       "\n",
       "[5 rows x 26 columns]"
      ]
     },
     "execution_count": 94,
     "metadata": {},
     "output_type": "execute_result"
    }
   ],
   "source": [
    "df.head()"
   ]
  },
  {
   "cell_type": "code",
   "execution_count": 95,
   "id": "4f834d06",
   "metadata": {},
   "outputs": [
    {
     "data": {
      "text/plain": [
       "(2201, 26)"
      ]
     },
     "execution_count": 95,
     "metadata": {},
     "output_type": "execute_result"
    }
   ],
   "source": [
    "df.shape"
   ]
  },
  {
   "cell_type": "markdown",
   "id": "c955d4fa",
   "metadata": {},
   "source": [
    "# Save Cleaned Data to CSV<a class=\"anchor\" id=\"Save\"></a>"
   ]
  },
  {
   "cell_type": "markdown",
   "id": "f79f8620",
   "metadata": {},
   "source": [
    "Finally, we save the cleaned DataFrame to a CSV file named 'cleaned_data.csv' for use in subsequent analysis."
   ]
  },
  {
   "cell_type": "code",
   "execution_count": 96,
   "id": "191de0de",
   "metadata": {},
   "outputs": [],
   "source": [
    "# Save cleaned data\n",
    "df.to_csv('cleaned_data.csv', index=False)"
   ]
  }
 ],
 "metadata": {
  "kernelspec": {
   "display_name": "Python 3 (ipykernel)",
   "language": "python",
   "name": "python3"
  },
  "language_info": {
   "codemirror_mode": {
    "name": "ipython",
    "version": 3
   },
   "file_extension": ".py",
   "mimetype": "text/x-python",
   "name": "python",
   "nbconvert_exporter": "python",
   "pygments_lexer": "ipython3",
   "version": "3.9.12"
  }
 },
 "nbformat": 4,
 "nbformat_minor": 5
}
